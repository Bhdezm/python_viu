{
 "cells": [
  {
   "cell_type": "markdown",
   "id": "pacific-sharp",
   "metadata": {},
   "source": [
    "<img src=\"img/viu_logo.png\" width=\"200\"><img src=\"img/python_logo.png\" width=\"250\"> *Mario Cervera*"
   ]
  },
  {
   "cell_type": "markdown",
   "id": "canadian-convenience",
   "metadata": {},
   "source": [
    "# Introducción a la Programación - Actividad Evaluable"
   ]
  },
  {
   "cell_type": "markdown",
   "id": "87fae20e-3a94-4041-8f55-34f6f408f2c8",
   "metadata": {},
   "source": [
    "## Nombre: Bencomo Hernández Morales"
   ]
  },
  {
   "cell_type": "markdown",
   "id": "brave-lodging",
   "metadata": {},
   "source": [
    "**Ejercicio 1.** (1 punto) Sin usar expresiones literales, ni sentencias condicionales, ni bucles: (1) Crear una lista ordenada que contenga los números del 1 al 20 (ambos inclusive). Posteriormente, (2) usando la lista creada en el apartado (1), mostrar por pantalla otra lista que contenga sólo los números múltiplos de 5, es decir: [5, 10, 15, 20]."
   ]
  },
  {
   "cell_type": "code",
   "execution_count": 181,
   "id": "0051566f-2c6d-4f93-b89b-e31a319d077c",
   "metadata": {
    "tags": []
   },
   "outputs": [
    {
     "name": "stdout",
     "output_type": "stream",
     "text": [
      "[1, 2, 3, 4, 5, 6, 7, 8, 9, 10, 11, 12, 13, 14, 15, 16, 17, 18, 19, 20]\n",
      "[5, 10, 15, 20]\n",
      "[5, 10, 15, 20]\n"
     ]
    }
   ],
   "source": [
    "#Apartado a\n",
    "lista=list(range(1,21))\n",
    "print(lista)\n",
    "#Apartado b\n",
    "print(lista[4::5])\n",
    "print(list(range(5,21,5)))"
   ]
  },
  {
   "cell_type": "markdown",
   "id": "american-school",
   "metadata": {},
   "source": [
    "**Ejercicio 2.** (1 punto) Crear una función que reciba como parámetro (input) una lista con objetos de diferentes tipos. Por simplificar, para este problema se consideran únicamente números *enteros*, números *decimales* y *strings*. La función debe devolver como resultado (output) la suma de los números (enteros y decimales) e ignorar los strings. Ejemplo: el resultado para la lista ['b', 'c', 1, 3.4, 'a', 2] sería 6.4."
   ]
  },
  {
   "cell_type": "code",
   "execution_count": 182,
   "id": "cc5b2341-2a3d-4d62-91f6-ff3dfe1e61ca",
   "metadata": {},
   "outputs": [
    {
     "name": "stdout",
     "output_type": "stream",
     "text": [
      "45.0\n",
      "40.0\n"
     ]
    }
   ],
   "source": [
    "def suma_numeros(lista):\n",
    "    x=[]\n",
    "    for num in lista:\n",
    "        if type(num) == int:\n",
    "            x.append(num)\n",
    "        elif type(num) == float:\n",
    "            x.append(num)\n",
    "    return sum(x)\n",
    "\n",
    "print(suma_numeros(['a',20,'b','c',3,15.5,'lista',1.5,5,'botella']))\n",
    "print(suma_numeros([10,'diez',4.5,'lampara',7.5,'b',13,3.5,1.5,'avion']))"
   ]
  },
  {
   "cell_type": "markdown",
   "id": "amateur-creation",
   "metadata": {},
   "source": [
    "**Ejercicio 3.** (2 puntos) Escribir un programa (sin funciones) que compare dos diccionarios cualquiera y muestre *True* por pantalla si tienen algún elemento en común y *False* en caso contrario. Tener un elemento en común significa que existe un elemento (clave-valor) que está presente en ambos diccionarios. Por ejemplo, el programa mostrará *True* para los diccionarios a = {'a': 3, 'b': 4} y b = {'c': 1, 'a': 3} dado que ambos incluyen el elemento 'a': 3."
   ]
  },
  {
   "cell_type": "code",
   "execution_count": 191,
   "id": "a189e9ee-8807-492a-bfc0-dfcd64c9e544",
   "metadata": {},
   "outputs": [
    {
     "name": "stdout",
     "output_type": "stream",
     "text": [
      "True\n"
     ]
    }
   ],
   "source": [
    "w={'a':7,'h':9,'c':5,'d':2}\n",
    "z={'b':4,'d':12,'f':5,'h':9}\n",
    "\n",
    "for objeto in list(w.items()):\n",
    "    if objeto in list(z.items()):\n",
    "        print('True')\n",
    "        break\n",
    "else:\n",
    "    print('False')"
   ]
  },
  {
   "cell_type": "markdown",
   "id": "quality-antenna",
   "metadata": {},
   "source": [
    "**Ejercicio 4.** (2 puntos) Escribe una función que reciba como parámetros dos strings y compruebe si estos strings cumplen las siguientes propiedades: (1) ambos strings tienen los mismos caracteres y, además, (2) estos caracteres aparecen el mismo número de veces en ambos strings (es decir, si el primer string tiene 3 'a', por ejemplo, el segundo string también tendrá 3 'a', aunque éstas pueden aparecer en posiciones diferentes). Para resolver el problema, **no** puedes importar ningún módulo de Python (como, por ejemplo, *collections*) ni usar funciones de ordenación (como *sort*).\n",
    "\n",
    "   * Ejemplos para los que la función devolverá *False*:\n",
    "       * 'hola' y 'adios'.\n",
    "       * 'java' y 'javascript'.\n",
    "       * 'maria' y 'mariam'.\n",
    "       * 'aab' y 'abb'.\n",
    "\n",
    "\n",
    "   * Ejemplos para los que la función devolverá *True*:\n",
    "       * 'python' y 'python'\n",
    "       * 'listen' y 'silent'\n",
    "       * 'aabbcc' y 'abcabc'"
   ]
  },
  {
   "cell_type": "code",
   "execution_count": 192,
   "id": "8b9fe023-0c35-4613-ad48-a7100a8cf209",
   "metadata": {},
   "outputs": [
    {
     "name": "stdout",
     "output_type": "stream",
     "text": [
      "False\n",
      "True\n",
      "False\n"
     ]
    }
   ],
   "source": [
    "def frases(string_1,string_2):\n",
    "    if len(string_1) == len(string_2):\n",
    "        for letra in string_1:\n",
    "            if string_1.count(letra) == string_2.count(letra):\n",
    "                return 'True'\n",
    "            else:\n",
    "                return 'False'\n",
    "    else:\n",
    "        return 'False'\n",
    "\n",
    "print(frases('aab','abb'))\n",
    "print(frases('listen','silent'))\n",
    "print(frases('maria','mariam'))"
   ]
  },
  {
   "cell_type": "markdown",
   "id": "enhanced-liver",
   "metadata": {},
   "source": [
    "**Ejercicio 5.** (2 puntos) En \"*./actividades/res/ciudades.csv*\" tenéis un fichero CSV con información acerca de un conjunto de ciudades: nombre de la ciudad, país al que pertenece y número de habitantes. Escribir un programa que acceda al fichero y obtenga:\n",
    "\n",
    "* Una *lista* con los nombres de las ciudades españolas que tienen más de 300.000 habitantes.\n",
    "* El *número total* de ciudades francesas.\n",
    "\n",
    "El programa debe mostrar la lista y el número por pantalla."
   ]
  },
  {
   "cell_type": "code",
   "execution_count": 172,
   "id": "d574d1cf-6892-4c80-8701-2139291e6052",
   "metadata": {},
   "outputs": [
    {
     "name": "stdout",
     "output_type": "stream",
     "text": [
      "['Valencia', 'Bilbao', 'Madrid', 'Sevilla', 'Barcelona']\n",
      "3\n"
     ]
    }
   ],
   "source": [
    "import csv\n",
    "def ciudades(enlace):\n",
    "    with open(enlace) as fichero:\n",
    "        reader=csv.reader(fichero,delimiter='|')\n",
    "        ciudades_españa=[]\n",
    "        ciudades_francia=[]\n",
    "        for pais in reader:\n",
    "            if 'Espanya' in pais and int(pais[2]) > 300000:\n",
    "                ciudades_españa.append(pais[0])\n",
    "            elif 'Francia' in pais:\n",
    "                ciudades_francia.append(pais[0])\n",
    "        print(ciudades_españa)\n",
    "        print(len(ciudades_francia))\n",
    "               \n",
    "ciudades('actividades/res/ciudades.csv')"
   ]
  },
  {
   "cell_type": "markdown",
   "id": "entertaining-ideal",
   "metadata": {},
   "source": [
    "**Ejercicio 6.** (2 puntos) Escribe una *list comprehension* que obtenga una lista que contenga todos los números impares del 1 al 30 (ambos inclusive). Aquellos que sean múltiplos de 5, serán marcados con una 'x'. Es decir, el resultado debe ser: [1, 3, '5x', 7, 9, 11, 13, '15x', 17, 19, 21, 23, '25x', 27, 29]"
   ]
  },
  {
   "cell_type": "code",
   "execution_count": 161,
   "id": "0ccb42c7-ccc4-4acc-9a8d-ac8f4d1ff279",
   "metadata": {},
   "outputs": [
    {
     "data": {
      "text/plain": [
       "[1, 3, '5x', 7, 9, 11, 13, '15x', 17, 19, 21, 23, '25x', 27, 29]"
      ]
     },
     "execution_count": 161,
     "metadata": {},
     "output_type": "execute_result"
    }
   ],
   "source": [
    "[str(i)+'x' if i % 5 == 0 else i for i in list(range(1,31,2))]"
   ]
  }
 ],
 "metadata": {
  "kernelspec": {
   "display_name": "Python 3 (ipykernel)",
   "language": "python",
   "name": "python3"
  },
  "language_info": {
   "codemirror_mode": {
    "name": "ipython",
    "version": 3
   },
   "file_extension": ".py",
   "mimetype": "text/x-python",
   "name": "python",
   "nbconvert_exporter": "python",
   "pygments_lexer": "ipython3",
   "version": "3.10.8"
  }
 },
 "nbformat": 4,
 "nbformat_minor": 5
}
