{
 "cells": [
  {
   "cell_type": "markdown",
   "id": "official-clause",
   "metadata": {},
   "source": [
    "<img src=\"img/viu_logo.png\" width=\"200\"><img src=\"img/python_logo.png\" width=\"250\"> *Mario Cervera*"
   ]
  },
  {
   "cell_type": "markdown",
   "id": "twelve-composition",
   "metadata": {},
   "source": [
    "# List Comprehensions"
   ]
  },
  {
   "cell_type": "markdown",
   "id": "exceptional-steel",
   "metadata": {},
   "source": [
    "* Permiten construir listas a través de la ejecución repetida (sentencia *for*) de una expressión para cada *item* de un objeto *iterable*.\n",
    "\n",
    "* Van entre '[' y ']'. Esto es indicativo de que estamos construyendo una lista."
   ]
  },
  {
   "cell_type": "markdown",
   "id": "spectacular-colonial",
   "metadata": {},
   "source": [
    "### Versión básica"
   ]
  },
  {
   "cell_type": "markdown",
   "id": "executive-lambda",
   "metadata": {},
   "source": [
    "Sintaxis:\n",
    "\n",
    "```\n",
    "[<expression> for <item> in <iterable>]\n",
    "```"
   ]
  },
  {
   "cell_type": "markdown",
   "id": "figured-brass",
   "metadata": {},
   "source": [
    "Ejemplo: repetir los carácteres de un string."
   ]
  },
  {
   "cell_type": "code",
   "execution_count": 1,
   "id": "resistant-catalyst",
   "metadata": {},
   "outputs": [
    {
     "data": {
      "text/plain": [
       "['EE', 'nn', 'rr', 'ii', 'qq', 'uu', 'ee']"
      ]
     },
     "execution_count": 1,
     "metadata": {},
     "output_type": "execute_result"
    }
   ],
   "source": [
    "[c * 2 for c in 'Enrique']"
   ]
  },
  {
   "cell_type": "markdown",
   "id": "hybrid-television",
   "metadata": {},
   "source": [
    "Comúnmente, el item de la sentencia *for* aparecerá en la expresión principal, pero eso no es obligatorio."
   ]
  },
  {
   "cell_type": "code",
   "execution_count": 2,
   "id": "geological-manufacturer",
   "metadata": {},
   "outputs": [
    {
     "data": {
      "text/plain": [
       "[2, 2, 2, 2, 2, 2, 2]"
      ]
     },
     "execution_count": 2,
     "metadata": {},
     "output_type": "execute_result"
    }
   ],
   "source": [
    "[2 for c in 'Enrique']"
   ]
  },
  {
   "cell_type": "markdown",
   "id": "mighty-liechtenstein",
   "metadata": {},
   "source": [
    "### Versión extendida"
   ]
  },
  {
   "cell_type": "markdown",
   "id": "musical-learning",
   "metadata": {},
   "source": [
    "Se puede especificar un filtro (sentencia *if*) para obtener únicamente los elementos que cumplan cierta condición.\n",
    "\n",
    "Sintaxis:\n",
    "\n",
    "```\n",
    "[<expression> for <item> in <iterable> if <condition>]\n",
    "```"
   ]
  },
  {
   "cell_type": "markdown",
   "id": "based-yellow",
   "metadata": {},
   "source": [
    "Ejemplo: obtener números pares:"
   ]
  },
  {
   "cell_type": "code",
   "execution_count": 5,
   "id": "pressed-shooting",
   "metadata": {},
   "outputs": [
    {
     "data": {
      "text/plain": [
       "[0, 2, 4, 6, 8]"
      ]
     },
     "execution_count": 5,
     "metadata": {},
     "output_type": "execute_result"
    }
   ],
   "source": [
    "[x for x in range(9) if x % 2 == 0]"
   ]
  },
  {
   "cell_type": "markdown",
   "id": "african-radical",
   "metadata": {},
   "source": [
    "* Las list comprehension no son realmente requeridas, ya que siempre podemos escribir un bucle equivalente."
   ]
  },
  {
   "cell_type": "code",
   "execution_count": 4,
   "id": "amateur-supplement",
   "metadata": {},
   "outputs": [
    {
     "name": "stdout",
     "output_type": "stream",
     "text": [
      "[0, 2, 4, 6, 8]\n"
     ]
    }
   ],
   "source": [
    "pares = []\n",
    "for x in range(9):\n",
    "    if(x % 2 == 0):\n",
    "        pares.append(x)\n",
    "    \n",
    "print(pares)"
   ]
  },
  {
   "cell_type": "markdown",
   "id": "vulnerable-tomorrow",
   "metadata": {},
   "source": [
    "### Versión completa"
   ]
  },
  {
   "cell_type": "markdown",
   "id": "accessory-working",
   "metadata": {
    "tags": []
   },
   "source": [
    "La sentencia *if* de una list comprehension también puede contener una expresión alternativa.\n",
    "\n",
    "Sintaxis:\n",
    "\n",
    "```\n",
    "[<expression_1> if <condition> else <expression_2> for <item> in <iterable>]\n",
    "```\n",
    "\n",
    "Ejemplo: poner a cero los números pares."
   ]
  },
  {
   "cell_type": "code",
   "execution_count": 6,
   "id": "dutch-translation",
   "metadata": {
    "tags": []
   },
   "outputs": [
    {
     "data": {
      "text/plain": [
       "[0, 1, 0, 3, 0, 5, 0, 7, 0]"
      ]
     },
     "execution_count": 6,
     "metadata": {},
     "output_type": "execute_result"
    }
   ],
   "source": [
    "[0 if x % 2 == 0 else x for x in range(9)]"
   ]
  },
  {
   "cell_type": "markdown",
   "id": "mounted-force",
   "metadata": {},
   "source": [
    "### Anidamiento"
   ]
  },
  {
   "cell_type": "markdown",
   "id": "fleet-productivity",
   "metadata": {},
   "source": [
    "Las list comprehensions soportan anidamiento en sus expresiones.\n",
    "\n",
    "Ejemplo: bucle anidado para obtener una lista de tuplas que combinan los elementos de dos listas dadas."
   ]
  },
  {
   "cell_type": "code",
   "execution_count": 7,
   "id": "republican-cornell",
   "metadata": {},
   "outputs": [
    {
     "data": {
      "text/plain": [
       "[(1, 4), (1, 5), (1, 6), (2, 4), (2, 5), (2, 6), (3, 4), (3, 5), (3, 6)]"
      ]
     },
     "execution_count": 7,
     "metadata": {},
     "output_type": "execute_result"
    }
   ],
   "source": [
    "lista_1 = [1, 2, 3]\n",
    "lista_2 = [4, 5, 6]\n",
    "\n",
    "[(x, y) for x in lista_1 for y in lista_2]"
   ]
  },
  {
   "cell_type": "markdown",
   "id": "hazardous-simulation",
   "metadata": {},
   "source": [
    "### Pros y contras"
   ]
  },
  {
   "cell_type": "markdown",
   "id": "noted-experience",
   "metadata": {},
   "source": [
    "* Principales ventajas de las comprehensions en comparación a un bucle convencional:\n",
    "\n",
    "    * Expresión compacta y legible, si estás familiarizado con la sintaxis.\n",
    "    * Mejor rendimiento.\n",
    "\n",
    "\n",
    "* Desventaja: no escalan bien. Una list comprehension se puede convertir rápidamente en una expresión difícil de entender."
   ]
  },
  {
   "cell_type": "markdown",
   "id": "quiet-biotechnology",
   "metadata": {},
   "source": [
    "### Otros tipos de comprehensions"
   ]
  },
  {
   "cell_type": "markdown",
   "id": "earlier-excellence",
   "metadata": {},
   "source": [
    "**Dictionary comprehensions**\n",
    "\n",
    "Usando '{' y '}' como delimitadores y una expresión 'clave : valor', se obtiene un diccionario en lugar de una lista.\n",
    "\n",
    "Ejemplo: diccionario donde cada valor es el cuadrado de la clave."
   ]
  },
  {
   "cell_type": "code",
   "execution_count": null,
   "id": "dirty-metallic",
   "metadata": {},
   "outputs": [],
   "source": [
    "d = {x : x*x for x in range(10)}\n",
    "\n",
    "print(d)\n",
    "print(type(d))"
   ]
  },
  {
   "cell_type": "markdown",
   "id": "junior-howard",
   "metadata": {},
   "source": [
    "**Set comprehensions**\n",
    "\n",
    "Usando '{' y '}' como delimitadores y una expresión simple (al igual que en las list comprehensions), se obtiene un conjunto.\n",
    "\n",
    "Ejemplo: conjunto que incluye los 10 primeros números naturales."
   ]
  },
  {
   "cell_type": "code",
   "execution_count": 9,
   "id": "alternative-commonwealth",
   "metadata": {},
   "outputs": [
    {
     "name": "stdout",
     "output_type": "stream",
     "text": [
      "<generator object <genexpr> at 0x000001D867710B30>\n",
      "<class 'generator'>\n"
     ]
    }
   ],
   "source": [
    "c = (x for x in range(10))\n",
    "\n",
    "print(c)\n",
    "print(type(c))"
   ]
  },
  {
   "cell_type": "markdown",
   "id": "broke-rwanda",
   "metadata": {},
   "source": [
    "## Ejercicios"
   ]
  },
  {
   "cell_type": "markdown",
   "id": "requested-charles",
   "metadata": {},
   "source": [
    "1. Escribe una *list comprehension* que construya una lista con los números *enteros* positivos de una lista de números dada. La lista original puede incluir números de tipo *float*, los cuales deben ser descartados.\n",
    "\n",
    "2. Escribe una *set comprehension* que, dada una palabra, construya un conjunto que contenga las vocales de dicha palabra.\n",
    "\n",
    "3. Escribe una *list comprehension* que construya una lista con todos los números del 0 al 50 que contengan el dígito 3. El resultado será: [3, 13, 23, 30, 31, 32, 33, 34, 35, 36, 37, 38, 39, 43].\n",
    "\n",
    "4. Escribe una *dictionary comprehension* que construya un diccionario que incluya los tamaños de cada palabra en una frase dada. Ejemplo: el resultado para la frase \"Estudio en la VIU\" será {'Estudio': 7, 'en': 2, 'la': 2, 'VIU': 3}\n",
    "\n",
    "5. Escribe una *list comprehension* que construya una lista que incluya todos los números del 1 al 10 en orden. La primera mitad se mostrarán en formato numérico; la segunda mitad en texto. Es decir, el resultado será: [1, 2, 3, 4, 5, 'seis', 'siete', 'ocho', 'nueve', 'diez']."
   ]
  },
  {
   "cell_type": "code",
   "execution_count": 11,
   "id": "13c8aec8-aee9-41e5-b15d-6d234011b450",
   "metadata": {},
   "outputs": [
    {
     "data": {
      "text/plain": [
       "[1, 2, 4, 6, 7, 8]"
      ]
     },
     "execution_count": 11,
     "metadata": {},
     "output_type": "execute_result"
    }
   ],
   "source": [
    "a=[1,2,3.5,4,2.5,6,7,1.7,-5,-10,1.5,2.3,8]\n",
    "[i for i in a if type(i) == int and i>0]"
   ]
  },
  {
   "cell_type": "code",
   "execution_count": 18,
   "id": "6aa8d879-c109-40e4-b707-caaa0141ec5e",
   "metadata": {},
   "outputs": [
    {
     "data": {
      "text/plain": [
       "{'a', 'i', 'o'}"
      ]
     },
     "execution_count": 18,
     "metadata": {},
     "output_type": "execute_result"
    }
   ],
   "source": [
    "palabra='armario'\n",
    "{t for t in palabra if t in ('a','e','i','o','u')}"
   ]
  },
  {
   "cell_type": "code",
   "execution_count": 21,
   "id": "3fa6b153-9377-4306-9b28-1556df53b7dd",
   "metadata": {},
   "outputs": [
    {
     "data": {
      "text/plain": [
       "[3, 13, 23, 30, 31, 32, 33, 34, 35, 36, 37, 38, 39, 43]"
      ]
     },
     "execution_count": 21,
     "metadata": {},
     "output_type": "execute_result"
    }
   ],
   "source": [
    "[v for v in range(1,50) if '3' in str(v)]"
   ]
  },
  {
   "cell_type": "code",
   "execution_count": 24,
   "id": "c0c490a1-44fa-4881-8705-07d6503db278",
   "metadata": {},
   "outputs": [
    {
     "data": {
      "text/plain": [
       "{'estudio': 7, 'en': 2, 'la': 2, 'viu': 3}"
      ]
     },
     "execution_count": 24,
     "metadata": {},
     "output_type": "execute_result"
    }
   ],
   "source": [
    "frase='estudio en la viu'\n",
    "{palabra: len(palabra) for palabra in frase.split()}"
   ]
  },
  {
   "cell_type": "code",
   "execution_count": 26,
   "id": "6ba862df-cbca-4633-b8d2-6c70e0c39e04",
   "metadata": {},
   "outputs": [
    {
     "data": {
      "text/plain": [
       "[1, 2, 3, 4, 5, 'seis', 'siete', 'ocho', 'nueve', 'diez']"
      ]
     },
     "execution_count": 26,
     "metadata": {},
     "output_type": "execute_result"
    }
   ],
   "source": [
    "nums={6:'seis',7:'siete',8:'ocho',9:'nueve',10:'diez'}\n",
    "[numero if numero<=5 else nums[numero] for numero in range(1,11)]"
   ]
  },
  {
   "cell_type": "markdown",
   "id": "specialized-stanford",
   "metadata": {},
   "source": [
    "## Soluciones"
   ]
  },
  {
   "cell_type": "code",
   "execution_count": null,
   "id": "dying-official",
   "metadata": {},
   "outputs": [],
   "source": [
    "# Ejercicio 1\n",
    "\n",
    "lista = [1, 4, -3, -1.5, 6.5, 2, 8, 2.1]\n",
    "\n",
    "[numero for numero in lista if type(numero) == int and numero > 0]"
   ]
  },
  {
   "cell_type": "code",
   "execution_count": 13,
   "id": "taken-prefix",
   "metadata": {},
   "outputs": [
    {
     "data": {
      "text/plain": [
       "{'a', 'e', 'i', 'u'}"
      ]
     },
     "execution_count": 13,
     "metadata": {},
     "output_type": "execute_result"
    }
   ],
   "source": [
    "# Ejercicio 2\n",
    "\n",
    "palabra = \"universidad\"\n",
    "\n",
    "{letra for letra in palabra if letra in ('a', 'e', 'i', 'o', 'u')}"
   ]
  },
  {
   "cell_type": "code",
   "execution_count": null,
   "id": "proper-sherman",
   "metadata": {},
   "outputs": [],
   "source": [
    "# Ejercicio 3\n",
    "\n",
    "[numero for numero in range(51) if '3' in str(numero)]"
   ]
  },
  {
   "cell_type": "code",
   "execution_count": 22,
   "id": "neural-burner",
   "metadata": {},
   "outputs": [
    {
     "data": {
      "text/plain": [
       "{'Estudio': 7, 'en': 2, 'la': 2, 'VIU': 3}"
      ]
     },
     "execution_count": 22,
     "metadata": {},
     "output_type": "execute_result"
    }
   ],
   "source": [
    "# Ejercicio 4\n",
    "\n",
    "frase = \"Estudio en la VIU\"\n",
    "\n",
    "{palabra : len(palabra) for palabra in frase.split() }"
   ]
  },
  {
   "cell_type": "code",
   "execution_count": null,
   "id": "tropical-committee",
   "metadata": {},
   "outputs": [],
   "source": [
    "# Ejercicio 5\n",
    "\n",
    "numero_a_palabra = {6 : \"seis\", 7 : \"siete\", 8 : \"ocho\", 9 : \"nueve\", 10 : \"diez\"}\n",
    "\n",
    "[numero if numero <= 5 else numero_a_palabra[numero] for numero in range(1,11)]"
   ]
  }
 ],
 "metadata": {
  "kernelspec": {
   "display_name": "Python 3 (ipykernel)",
   "language": "python",
   "name": "python3"
  },
  "language_info": {
   "codemirror_mode": {
    "name": "ipython",
    "version": 3
   },
   "file_extension": ".py",
   "mimetype": "text/x-python",
   "name": "python",
   "nbconvert_exporter": "python",
   "pygments_lexer": "ipython3",
   "version": "3.10.8"
  }
 },
 "nbformat": 4,
 "nbformat_minor": 5
}
