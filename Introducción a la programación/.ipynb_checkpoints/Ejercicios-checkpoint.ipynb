{
 "cells": [
  {
   "cell_type": "markdown",
   "id": "ed49e2fd-2c14-4b46-8667-5f8a5aa32aad",
   "metadata": {
    "tags": []
   },
   "source": [
    "## Ejercicio1 Tema4\n",
    "Escribe un programa que muestre por pantalla la concatenación de un número y una cadena de caracteres. Para obtener esta concatenación puedes usar uno de los operadores explicados en este tema. Ejemplo: dado el número 3 y la cadena 'abc', el programa mostrará la cadena '3abc'."
   ]
  },
  {
   "cell_type": "code",
   "execution_count": 1,
   "id": "c8ad1153-6bcd-44f7-a725-547c2023926e",
   "metadata": {},
   "outputs": [
    {
     "name": "stdout",
     "output_type": "stream",
     "text": [
      "3abc\n"
     ]
    }
   ],
   "source": [
    "x='abc'\n",
    "y=3\n",
    "print(str(y)+x)"
   ]
  },
  {
   "cell_type": "markdown",
   "id": "9e3c5571-1178-4074-8a01-5b1a0d76c9c3",
   "metadata": {},
   "source": [
    "## Ejercicio2 Tema4\n",
    "Escribe un programa que muestre por pantalla un valor booleano que indique si un número entero N está contenido en un intervalo semiabierto [a,b), el cual establece una cota inferior a (inclusive) y una cota superior b (exclusive) para N."
   ]
  },
  {
   "cell_type": "code",
   "execution_count": 2,
   "id": "e4e04cfb-d2f7-4d0d-b7ca-3bae55479a01",
   "metadata": {},
   "outputs": [
    {
     "name": "stdout",
     "output_type": "stream",
     "text": [
      "True\n"
     ]
    }
   ],
   "source": [
    "n=3\n",
    "a=1\n",
    "b=9\n",
    "print(n>=a and n<b)"
   ]
  },
  {
   "cell_type": "markdown",
   "id": "e3e5b9ba-d731-46cc-8fea-6a614c42195d",
   "metadata": {},
   "source": [
    "## Ejercicio3 Tema4\n",
    "Escribe un programa que, dado dos strings S1 y S2 y dos números enteros N1 y N2, determine si el substring que en S1 se extiende desde la posición N1 a la N2 (ambos inclusive) está contenido en S2."
   ]
  },
  {
   "cell_type": "code",
   "execution_count": 8,
   "id": "eeaea6c4-fe84-49a8-a2ef-dcf5a177fad0",
   "metadata": {},
   "outputs": [
    {
     "name": "stdout",
     "output_type": "stream",
     "text": [
      "rce\n",
      "False\n"
     ]
    }
   ],
   "source": [
    "s1='barcelona'\n",
    "s2='madrid'\n",
    "n1=2\n",
    "n2=5\n",
    "print(s1[n1:n2])\n",
    "print(s1[n1:n2]in s2)"
   ]
  },
  {
   "cell_type": "markdown",
   "id": "2f1ada45-7428-464c-b86d-81e4ba4a78b4",
   "metadata": {},
   "source": [
    "## Ejercicio1 Tema5\n",
    "Dada una lista con elementos duplicados, escribir un programa que muestre una nueva lista con el mismo contenido que la primera pero sin elementos duplicados."
   ]
  },
  {
   "cell_type": "code",
   "execution_count": 10,
   "id": "c55006e2-ed80-4a83-8e6f-5483dabfc456",
   "metadata": {},
   "outputs": [
    {
     "name": "stdout",
     "output_type": "stream",
     "text": [
      "[1, 2, 3, 4, 5, 6, 7, 8]\n"
     ]
    }
   ],
   "source": [
    "lista=[1,2,3,2,2,4,3,4,4,5,5,6,3,4,5,6,7,8,7,2,1]\n",
    "print(list(set(lista)))"
   ]
  },
  {
   "cell_type": "markdown",
   "id": "c8010631-44c9-4179-a8b8-7cbf2e6dedc3",
   "metadata": {},
   "source": [
    "## Ejercicio2 Tema5\n",
    "Escribe un programa que, dada una lista de strings L, un string s perteneciente a L y un string t, reemplace s por t en L. El programa debe mostrar la lista resultante por pantalla."
   ]
  },
  {
   "cell_type": "code",
   "execution_count": 17,
   "id": "0b66bc3e-d924-49a7-b06e-85fdd349f2da",
   "metadata": {},
   "outputs": [
    {
     "name": "stdout",
     "output_type": "stream",
     "text": [
      "['manzana', 'fresa', 'platano', 'aguacate']\n"
     ]
    }
   ],
   "source": [
    "L=['manzana','pera','platano','aguacate']\n",
    "s='pera'\n",
    "t='fresa'\n",
    "L[1]=t\n",
    "print(L)"
   ]
  },
  {
   "cell_type": "markdown",
   "id": "3a475564-7ffa-46fd-b2e0-a65bfc699077",
   "metadata": {},
   "source": [
    "## Ejercicio3 Tema5\n",
    "Escribe un programa que defina una tupla con elementos numéricos, reemplace el valor del último por un valor diferente y muestre la tupla por pantalla. Recuerda que las tuplas son inmutables. Tendrás que usar objetos intermedios."
   ]
  },
  {
   "cell_type": "code",
   "execution_count": 19,
   "id": "6884e564-4433-4b83-aca0-8e754fe0cac3",
   "metadata": {},
   "outputs": [
    {
     "name": "stdout",
     "output_type": "stream",
     "text": [
      "(1, 2, 3, 4, 5, 6, 7, 327)\n"
     ]
    }
   ],
   "source": [
    "tupla=(1,2,3,4,5,6,7,8)\n",
    "tupla1=list(tupla)\n",
    "tupla1[-1]=327\n",
    "print(tuple(tupla1))"
   ]
  },
  {
   "cell_type": "markdown",
   "id": "0bb717c9-cdec-4abf-a9e8-a4e130b18aea",
   "metadata": {},
   "source": [
    "## Ejercicio4 Tema5\n",
    "Dada la lista [1,2,3,4,5,6,7,8] escribe un programa que, a partir de esta lista, obtenga la lista [8,6,4,2] y la muestre por pantalla."
   ]
  },
  {
   "cell_type": "code",
   "execution_count": 20,
   "id": "36b27efb-e014-4e0a-899a-55e321408144",
   "metadata": {},
   "outputs": [
    {
     "name": "stdout",
     "output_type": "stream",
     "text": [
      "[8, 6, 4, 2]\n"
     ]
    }
   ],
   "source": [
    "v=[1,2,3,4,5,6,7,8]\n",
    "print(v[-1::-2])"
   ]
  },
  {
   "cell_type": "markdown",
   "id": "f1b008e7-4d3e-429b-85b9-215b7e4dce49",
   "metadata": {},
   "source": [
    "## Ejercicio5 Tema5\n",
    "Escribe un programa que, dada una tupla y un índice válido i, elimine el elemento de la tupla que se encuentra en la posición i. Para este ejercicio sólo puedes usar objetos de tipo tupla. No puedes convetir la tupla a una lista, por ejemplo."
   ]
  },
  {
   "cell_type": "code",
   "execution_count": 23,
   "id": "423657de-f6c1-4259-a571-b25e86769afb",
   "metadata": {},
   "outputs": [
    {
     "name": "stdout",
     "output_type": "stream",
     "text": [
      "(2, 4, 6, 10, 12)\n"
     ]
    }
   ],
   "source": [
    "u=(2,4,6,8,10,12)\n",
    "i=3\n",
    "print(u[:i]+u[i+1:])"
   ]
  },
  {
   "cell_type": "markdown",
   "id": "def07caa-a5bd-4faa-a69f-7bac263fa6b4",
   "metadata": {},
   "source": [
    "## Ejercicio6 Tema5\n",
    "Escribe un programa que obtenga la mediana de una lista de números. Recuerda que la mediana M de una lista de números L es el número que cumple la siguiente propiedad: la mitad de los números de L son superiores a M y la otra mitad son inferiores. Cuando el número de elementos de L es par, se puede considerar que hay dos medianas. No obstante, en este ejercicio consideraremos que únicamente existe una mediana."
   ]
  },
  {
   "cell_type": "code",
   "execution_count": 24,
   "id": "7e40999f-66ab-47df-bbb6-b8e2a38e5154",
   "metadata": {},
   "outputs": [
    {
     "name": "stdout",
     "output_type": "stream",
     "text": [
      "5\n"
     ]
    }
   ],
   "source": [
    "k=[0,1,2,3,4,5,6,7,8,9,10]\n",
    "print(len(k)//2)"
   ]
  },
  {
   "cell_type": "markdown",
   "id": "e5c91e75-b83f-4f37-9fdf-935271fa1b98",
   "metadata": {},
   "source": [
    "## Ejercicio1 Tema6\n",
    "Escribe un programa que calcule la suma de todos los elementos de una lista dada. La lista sólo puede contener elementos numéricos."
   ]
  },
  {
   "cell_type": "code",
   "execution_count": 27,
   "id": "0f9bd73d-12b5-4b3a-8b04-07a2545beb2d",
   "metadata": {},
   "outputs": [
    {
     "name": "stdout",
     "output_type": "stream",
     "text": [
      "34\n"
     ]
    }
   ],
   "source": [
    "w=[2,4,6,5,8,9]\n",
    "suma=0\n",
    "for i in w:\n",
    "    suma+=i\n",
    "print(suma)"
   ]
  },
  {
   "cell_type": "markdown",
   "id": "ba0e4be9-f0ba-4159-9918-ebac59e0386f",
   "metadata": {},
   "source": [
    "## Ejercicio2 Tema6\n",
    "Dada una lista con elementos duplicados, escribir un programa que muestre una nueva lista con el mismo contenido que la primera pero sin elementos duplicados. Para este ejercicio, no puedes hacer uso de objetos de tipo 'Set'."
   ]
  },
  {
   "cell_type": "code",
   "execution_count": 33,
   "id": "3d99069b-e8df-4437-ae02-c61ede1f5770",
   "metadata": {},
   "outputs": [
    {
     "name": "stdout",
     "output_type": "stream",
     "text": [
      "[1, 2, 3, 6, 5, 4, 7, 8]\n"
     ]
    }
   ],
   "source": [
    "k=[1,1,2,3,2,6,5,4,4,5,7,8]\n",
    "l=[]\n",
    "for i in k:\n",
    "    if i not in l:\n",
    "        l.append(i)\n",
    "print(l)"
   ]
  },
  {
   "cell_type": "markdown",
   "id": "637ceae2-2df0-4842-82eb-ff8abeb4561c",
   "metadata": {},
   "source": [
    "## Ejercicio3 Tema6\n",
    "Escribe un programa que construya un diccionario que contenga un número (entre 1 y n) de elementos de esta forma: (x, x*x). Ejemplo: para n = 5, el diccionario resultante sería {1: 1, 2: 4, 3: 9, 4: 16, 5: 25}"
   ]
  },
  {
   "cell_type": "code",
   "execution_count": 37,
   "id": "ec81223d-5af8-4ef0-9057-e3de79d236e9",
   "metadata": {},
   "outputs": [
    {
     "name": "stdout",
     "output_type": "stream",
     "text": [
      "{1: 1, 2: 4, 3: 9, 4: 16, 5: 25}\n"
     ]
    }
   ],
   "source": [
    "n=5\n",
    "diccionario={}\n",
    "for i in range(1,n+1):\n",
    "    diccionario[i]=i*i\n",
    "print(diccionario)"
   ]
  },
  {
   "cell_type": "markdown",
   "id": "4d41a63a-1510-43c4-9113-522cbb0a6cf9",
   "metadata": {},
   "source": [
    "## Ejercicio4 Tema6\n",
    "Escribe un programa que, dada una lista de palabras, compruebe si alguna empieza por 'a' y tiene más de 9 caracteres. Si dicha palabra existe, el programa deberá terminar en el momento exacto de encontrarla. El programa también debe mostrar un mensaje apropiado por pantalla que indique el éxito o el fracaso de la búsqueda. En caso de éxito, también se mostrará por pantalla la palabra encontrada."
   ]
  },
  {
   "cell_type": "code",
   "execution_count": 47,
   "id": "79c205e0-c7bf-48b3-be99-9d9accb2fc1e",
   "metadata": {},
   "outputs": [
    {
     "name": "stdout",
     "output_type": "stream",
     "text": [
      "palabra encontrada: antiguedad\n"
     ]
    }
   ],
   "source": [
    "z=['movil','cartera','pared','puerta','antiguedad']\n",
    "for i in z:\n",
    "    if i[0]=='a' and len(i)>9:\n",
    "        print(f\"palabra encontrada: {i}\")\n",
    "        break\n",
    "else:\n",
    "    print('palabra no encontrada')"
   ]
  },
  {
   "cell_type": "markdown",
   "id": "9e088b99-33b1-4a42-ae67-ba91edae682c",
   "metadata": {},
   "source": [
    "## Ejercicio5 Tema6\n",
    "Dado un diccionario cuyos elementos son pares de tipo string y numérico (es decir, las claves son de tipo 'str' y los valores son de tipo 'int' o 'float'), escribe un programa que muestre por pantalla la clave cuyo valor asociado representa el valor númerico más alto de todo el diccionario. Por ejemplo, para el diccionario {'a': 4.3, 'b': 1, 'c': 7.8, 'd': -5} la respuesta sería 'c', dado que 7.8 es el valor más alto de los números 4.3, 1, 7.8 y -5."
   ]
  },
  {
   "cell_type": "code",
   "execution_count": 58,
   "id": "9e273691-dcb0-479c-b124-02367f695a8d",
   "metadata": {},
   "outputs": [
    {
     "name": "stdout",
     "output_type": "stream",
     "text": [
      "Clave:0\n"
     ]
    }
   ],
   "source": [
    "dicc={'a':4.3,'b':1,'c':7.8,'d':-5}\n",
    "maximo=float('inf')\n",
    "resultado=0\n",
    "for (clave,valor) in dicc.items():\n",
    "    if valor>maximo:\n",
    "        maximo=valor\n",
    "        resultado=clave\n",
    "        \n",
    "print(f\"Clave:{resultado}\")\n",
    "        "
   ]
  },
  {
   "cell_type": "markdown",
   "id": "a5704136-539a-45cd-b873-f704277d209d",
   "metadata": {},
   "source": [
    "## Ejercicio7 Tema6\n",
    "Dada la lista a = [2, 4, 6, 8] y la lista b = [7, 11, 15, 22], escribe un programa que itere las listas a y b y multiplique cada elemento de a que sea mayor que 5 por cada elemento de b que sea menor que 14. El programa debe mostrar los resultados por pantalla."
   ]
  },
  {
   "cell_type": "code",
   "execution_count": 63,
   "id": "5f42d7e3-6b55-4a06-be5f-ae7f837b7621",
   "metadata": {},
   "outputs": [
    {
     "name": "stdout",
     "output_type": "stream",
     "text": [
      "6 x 7 = 42\n",
      "6 x 11 = 66\n",
      "8 x 7 = 56\n",
      "8 x 11 = 88\n"
     ]
    }
   ],
   "source": [
    "a=[2,4,6,8]\n",
    "b=[7,11,15,22]\n",
    "for i in a:\n",
    "    if i>5:\n",
    "        for j in b:\n",
    "            if j<14:\n",
    "                print(f\"{i} x {j} = {i*j}\")"
   ]
  },
  {
   "cell_type": "markdown",
   "id": "10f19ae2-3079-4a0f-9742-2aa4ea420d74",
   "metadata": {
    "tags": []
   },
   "source": [
    "## Ejercicio1 Tema7\n",
    "Escribir un programa que pida un valor numérico X al usuario. Para ello podéis hacer uso de la función predefinida 'input'. El programa deberá mostrar por pantalla el resultado de la división 10/X. En caso de que el usuario introduzca valores no apropiados, el programa deberá gestionar correctamente las excepciones, por ejemplo, mostrando mensajes informativos por pantalla."
   ]
  },
  {
   "cell_type": "code",
   "execution_count": 67,
   "id": "d91fd695-33e2-4c13-884a-b5573f23b29d",
   "metadata": {},
   "outputs": [
    {
     "name": "stdin",
     "output_type": "stream",
     "text": [
      " a\n"
     ]
    },
    {
     "name": "stdout",
     "output_type": "stream",
     "text": [
      "La división no se puede dar\n"
     ]
    }
   ],
   "source": [
    "try:\n",
    "    x=input()\n",
    "    y=float(x)\n",
    "    print(f\"El resultado de la división 10/{y} es:{10/y}\")\n",
    "except ZeroDivisionError:\n",
    "    print(f\" la división 10/{y} da error\")\n",
    "except ValueError:\n",
    "    print('La división no se puede dar')"
   ]
  },
  {
   "cell_type": "markdown",
   "id": "5536491b-f8e7-4e52-9900-509b1d2be746",
   "metadata": {
    "tags": []
   },
   "source": [
    "## Ejercicio2 Tema 7\n",
    "Escribir un programa que cree un diccionario cualquiera. Posteriormente, el programa pedirá al usuario (a través de la función predefinida 'input') que introduzca una clave del diccionario. Si la clave introducida es correcta (es decir, existe en el diccionario), el programa mostrará por pantalla el valor asociado a dicha clave. En caso de que la clave no exista, el programa gestionará de manera apropiada el error, por ejemplo, mostrando un mensaje informativo al usuario."
   ]
  },
  {
   "cell_type": "code",
   "execution_count": 21,
   "id": "0f343a5b-090b-4ed3-8f09-a946ebf3657e",
   "metadata": {},
   "outputs": [
    {
     "name": "stdin",
     "output_type": "stream",
     "text": [
      "introduce un nombre benco\n"
     ]
    },
    {
     "name": "stdout",
     "output_type": "stream",
     "text": [
      "benco no es un dato\n"
     ]
    }
   ],
   "source": [
    "cualquiera={'dani':6,'zeben':7,'padilla':8,'chavi':13}\n",
    "try:\n",
    "    nombre=input('introduce un nombre')\n",
    "    print(f\"el numero de {nombre} es el {cualquiera[nombre]}\")\n",
    "except KeyError:\n",
    "    print(f\"{nombre} no es un dato\")"
   ]
  },
  {
   "cell_type": "markdown",
   "id": "ce29cb0b-d197-47ff-8653-b4ef19ae3ef9",
   "metadata": {},
   "source": [
    "## Ejercicio1 Tema8\n",
    "Escribe una función que reciba como entrada una lista con números y devuelva como resultado una lista con los cuadrados de los números contenidos en la lista de entrada."
   ]
  },
  {
   "cell_type": "code",
   "execution_count": 86,
   "id": "3ae5e374-2b23-4157-9c3c-e797a3ec0544",
   "metadata": {},
   "outputs": [
    {
     "name": "stdout",
     "output_type": "stream",
     "text": [
      "[1, 4, 9, 16, 25, 36, 49, 64, 81]\n"
     ]
    }
   ],
   "source": [
    "def cuadrados(x):\n",
    "    resultado=[]\n",
    "    for i in x:\n",
    "        resultado.append(i**2)\n",
    "    return resultado\n",
    "print(cuadrados([1,2,3,4,5,6,7,8,9]))"
   ]
  },
  {
   "cell_type": "markdown",
   "id": "542999d9-e453-4bb1-9850-58a665f551ea",
   "metadata": {},
   "source": [
    "## Ejercicio2 Tema8\n",
    "Escribe una función que reciba números como entrada y devuelva la suma de los mismos. La función debe ser capaz de recibir una cantidad indeterminada de números. La función no debe recibir directamente ningún objeto complejo (lista, conjunto, etc.)."
   ]
  },
  {
   "cell_type": "code",
   "execution_count": 35,
   "id": "a8b350ea-ae66-44f3-b1fb-c2cb0f2fab56",
   "metadata": {},
   "outputs": [
    {
     "name": "stdout",
     "output_type": "stream",
     "text": [
      "45\n"
     ]
    }
   ],
   "source": [
    "def sumatorio(*nums):\n",
    "    suma=0\n",
    "    for num in nums:\n",
    "        suma+=num\n",
    "    return suma\n",
    "print(sumatorio(1,2,3,4,5,6,7,8,9))"
   ]
  },
  {
   "cell_type": "markdown",
   "id": "0f48f109-5c5d-4e35-997b-0fc4c8679738",
   "metadata": {},
   "source": [
    "## Ejercicio3 Tema8\n",
    "Escribe una función que reciba un string como entrada y devuelva el string al revés. Ejemplo: si el string de entrada es 'hola', el resultado será 'aloh'."
   ]
  },
  {
   "cell_type": "code",
   "execution_count": 46,
   "id": "694892a7-941a-4023-8553-bfdad049bc24",
   "metadata": {},
   "outputs": [
    {
     "name": "stdout",
     "output_type": "stream",
     "text": [
      "aloh\n"
     ]
    }
   ],
   "source": [
    "def invertir(s):\n",
    "    s_invertida = \"\"\n",
    "    for caracter in s:\n",
    "        s_invertida = caracter + s_invertida\n",
    "    return s_invertida\n",
    "\n",
    "print(invertir(\"hola\"))"
   ]
  },
  {
   "cell_type": "code",
   "execution_count": 1,
   "id": "cfdd6928-af21-455a-aa0b-3fec4b046f08",
   "metadata": {},
   "outputs": [
    {
     "data": {
      "text/plain": [
       "'aloh'"
      ]
     },
     "execution_count": 1,
     "metadata": {},
     "output_type": "execute_result"
    }
   ],
   "source": [
    "def invertido(k):\n",
    "    return k[::-1]\n",
    "invertido('hola')"
   ]
  },
  {
   "cell_type": "markdown",
   "id": "fa6e323a-976a-496b-ac66-18c791482879",
   "metadata": {},
   "source": [
    "## Ejercicio4 Tema8\n",
    "Escribe una función lambda que, al igual que la función desarrollada en el ejercicio anterior, invierta el string recibido como parámetro. Ejemplo: si el string de entrada es 'hola', el resultado será 'aloh'."
   ]
  },
  {
   "cell_type": "code",
   "execution_count": 49,
   "id": "a810ff8c-2959-4294-b6ed-3c3069cb340f",
   "metadata": {},
   "outputs": [
    {
     "name": "stdout",
     "output_type": "stream",
     "text": [
      "aloh\n"
     ]
    }
   ],
   "source": [
    "invertir= lambda s : s[::-1]\n",
    "print(invertir('hola'))"
   ]
  },
  {
   "cell_type": "markdown",
   "id": "d5930588-f86f-4e4a-9cb1-07605561d068",
   "metadata": {},
   "source": [
    "## Ejercicio5 Tema8\n",
    "Escribe una función que compruebe si un número se encuentra dentro de un rango específico."
   ]
  },
  {
   "cell_type": "code",
   "execution_count": 88,
   "id": "f3427fb9-611e-4f10-b29a-0e9e5dc3c2e8",
   "metadata": {},
   "outputs": [
    {
     "name": "stdout",
     "output_type": "stream",
     "text": [
      "No encontrado\n"
     ]
    }
   ],
   "source": [
    "def buscar(x,rango):\n",
    "    if x in rango:\n",
    "        print('Encontrado')\n",
    "    else:\n",
    "        print('No encontrado')\n",
    "buscar(12,range(1,10))"
   ]
  },
  {
   "cell_type": "markdown",
   "id": "f5c0a03c-c60b-4297-8898-eb0f62819026",
   "metadata": {},
   "source": [
    "## Ejercicio6 Tema8\n",
    "Escribe una función que reciba un número entero positivo como parámetro y devuelva una lista que contenga los 5 primeros múltiplos de dicho número. Por ejemplo, si la función recibe el número 3, devolverá la lista [3, 6, 9, 12, 15]. Si la función recibe un parámetro incorrecto (por ejemplo, un múmero menor o igual a cero), mostrará un mensaje de error por pantalla y devolverá una lista vacía."
   ]
  },
  {
   "cell_type": "code",
   "execution_count": 93,
   "id": "db057633-c094-4ee9-bb7c-85bb4501e0d2",
   "metadata": {},
   "outputs": [
    {
     "data": {
      "text/plain": [
       "[3, 6, 9, 12, 15]"
      ]
     },
     "execution_count": 93,
     "metadata": {},
     "output_type": "execute_result"
    }
   ],
   "source": [
    "def func(x):\n",
    "    if x<=0:\n",
    "        print(\"Nº incorrecto: el numero debe ser mayor que 0\")\n",
    "        return []\n",
    "    multiplos=[]\n",
    "    for i in range(1,6):\n",
    "        multiplos.append(x*i)\n",
    "    return multiplos\n",
    "func(3)"
   ]
  },
  {
   "cell_type": "markdown",
   "id": "ed220d36-4a87-4cef-bbcb-87f3b394f738",
   "metadata": {},
   "source": [
    "## Ejercicio7 Tema8\n",
    "Escribe una función que reciba una lista como parámetro y compruebe si la lista tiene duplicados. La función devolverá True si la lista tiene duplicados y False si no los tiene."
   ]
  },
  {
   "cell_type": "code",
   "execution_count": 78,
   "id": "86410b91-bfb3-40a9-af4d-38124cd8165b",
   "metadata": {},
   "outputs": [
    {
     "name": "stdout",
     "output_type": "stream",
     "text": [
      "True\n",
      "False\n"
     ]
    }
   ],
   "source": [
    "def duplicados(x):\n",
    "    objetos_ya_vistos = set()\n",
    "    for objeto in x:\n",
    "        if objeto in objetos_ya_vistos:\n",
    "            return True\n",
    "        objetos_ya_vistos.add(objeto)\n",
    "    return False\n",
    "print(duplicados([1,2,3,1,1,2,2,3,3,4,5,6]))\n",
    "print(duplicados([1,2,3,4,5]))"
   ]
  },
  {
   "cell_type": "markdown",
   "id": "0528d081-5736-4ce3-9bf2-84752244c461",
   "metadata": {},
   "source": [
    "## Ejercicio8 Tema8\n",
    "Escribe una función lambda que, al igual que la función desarrollada en el ejercicio anterior, reciba una lista como parámetro y compruebe si la lista tiene duplicados. La función devolverá True si la lista tiene duplicados y False si no los tiene."
   ]
  },
  {
   "cell_type": "code",
   "execution_count": 80,
   "id": "c309f499-b5fb-4f95-b5ab-74eb85cd1ac2",
   "metadata": {},
   "outputs": [
    {
     "name": "stdout",
     "output_type": "stream",
     "text": [
      "True\n",
      "False\n"
     ]
    }
   ],
   "source": [
    "duplicados= lambda lista: len(lista) != len(set(lista))\n",
    "print(duplicados([1,1,2,3,2,3,4,5,4,3]))\n",
    "print(duplicados([1,2,3,4,5]))"
   ]
  },
  {
   "cell_type": "markdown",
   "id": "8bab29a0-43dc-4110-9bb6-cd0e1eda8123",
   "metadata": {},
   "source": [
    "## Ejercicio9 Tema9\n",
    "Escribe una función que compruebe si un string dado es un palíndromo. Un palíndromo es una secuencia de caracteres que se lee igual de izquierda a derecha que de derecha a izquierda. Por ejemplo, la función devolverá True si recibe el string \"reconocer\" y False si recibe el string \"python\"."
   ]
  },
  {
   "cell_type": "code",
   "execution_count": 83,
   "id": "a87feedd-3a22-4d54-987e-276a49d4c632",
   "metadata": {},
   "outputs": [
    {
     "name": "stdout",
     "output_type": "stream",
     "text": [
      "True\n",
      "False\n"
     ]
    }
   ],
   "source": [
    "def capicua(x):\n",
    "    for i in range(len(x)//2):\n",
    "        if x[i] != x[len(x)-i-1]:\n",
    "            return False\n",
    "    return True\n",
    "print(capicua('reconocer'))\n",
    "print(capicua('python'))"
   ]
  },
  {
   "cell_type": "code",
   "execution_count": 95,
   "id": "97436b69-eb31-46c2-b89d-55e4e7403f1e",
   "metadata": {},
   "outputs": [
    {
     "name": "stdout",
     "output_type": "stream",
     "text": [
      "True\n",
      "False\n"
     ]
    }
   ],
   "source": [
    "def capicuas(v):\n",
    "    return v==v[::-1]\n",
    "print(capicuas(\"reconocer\"))\n",
    "print(capicuas('hola'))"
   ]
  },
  {
   "cell_type": "markdown",
   "id": "3196040d-b8cb-4f18-9d8a-bbdc2b00de88",
   "metadata": {},
   "source": [
    "## Ejercicio1 Tema11\n",
    "Escribe una list comprehension que construya una lista con los números enteros positivos de una lista de números dada. La lista original puede incluir números de tipo float, los cuales deben ser descartados."
   ]
  },
  {
   "cell_type": "code",
   "execution_count": 6,
   "id": "8c08a168-01d2-4867-82b1-c8c982d7596c",
   "metadata": {},
   "outputs": [
    {
     "data": {
      "text/plain": [
       "[1, 7, 9, 6, 20, 11]"
      ]
     },
     "execution_count": 6,
     "metadata": {},
     "output_type": "execute_result"
    }
   ],
   "source": [
    "arrow=[1,5.5,7,9,10.23,6,12.5,20,11,7.5,-6,-2]\n",
    "[a for a in arrow if type(a)==int and a>0 ]"
   ]
  },
  {
   "cell_type": "markdown",
   "id": "04f9d53a-2363-450e-8f22-86f455d1810e",
   "metadata": {},
   "source": [
    "## Ejercicio2 Tema11\n",
    "Escribe una set comprehension que, dada una palabra, construya un conjunto que contenga las vocales de dicha palabra."
   ]
  },
  {
   "cell_type": "code",
   "execution_count": 12,
   "id": "26da5446-3d62-4305-a238-5d56d5730ec0",
   "metadata": {},
   "outputs": [
    {
     "data": {
      "text/plain": [
       "['o', 'e', 'i', 'a']"
      ]
     },
     "execution_count": 12,
     "metadata": {},
     "output_type": "execute_result"
    }
   ],
   "source": [
    "palabra='loteria'\n",
    "[p for p in palabra if p in ('a','e','i','o','u')]"
   ]
  },
  {
   "cell_type": "markdown",
   "id": "e7cb9085-95dc-44af-9917-dcb67ffa605a",
   "metadata": {},
   "source": [
    "## Ejercicio3 Tema 11\n",
    "Escribe una list comprehension que construya una lista con todos los números del 0 al 50 que contengan el dígito 3. El resultado será: [3, 13, 23, 30, 31, 32, 33, 34, 35, 36, 37, 38, 39, 43]."
   ]
  },
  {
   "cell_type": "code",
   "execution_count": 13,
   "id": "b9d63a72-ce70-4c54-9923-7df469436de1",
   "metadata": {},
   "outputs": [
    {
     "data": {
      "text/plain": [
       "[3, 13, 23, 30, 31, 32, 33, 34, 35, 36, 37, 38, 39, 43]"
      ]
     },
     "execution_count": 13,
     "metadata": {},
     "output_type": "execute_result"
    }
   ],
   "source": [
    "[f for f in list(range(1,51)) if '3' in str(f)]"
   ]
  },
  {
   "cell_type": "markdown",
   "id": "d4525fb2-8111-4cff-9d9f-e0a4b7d1874e",
   "metadata": {},
   "source": [
    "## Ejercicio4 Tema11\n",
    "Escribe una dictionary comprehension que construya un diccionario que incluya los tamaños de cada palabra en una frase dada. Ejemplo: el resultado para la frase \"Estudio en la VIU\" será {'Estudio': 7, 'en': 2, 'la': 2, 'VIU': 3}"
   ]
  },
  {
   "cell_type": "code",
   "execution_count": 29,
   "id": "63add6b7-6059-4ef3-9900-071adef747bc",
   "metadata": {},
   "outputs": [
    {
     "data": {
      "text/plain": [
       "{'Vivo': 4, 'en': 2, 'Santa': 5, 'Cruz': 4, 'de': 2, 'Tenerife': 8}"
      ]
     },
     "execution_count": 29,
     "metadata": {},
     "output_type": "execute_result"
    }
   ],
   "source": [
    "k='Vivo en Santa Cruz de Tenerife'\n",
    "{t: len(t) for t in k.split() }"
   ]
  },
  {
   "cell_type": "markdown",
   "id": "c18cb9e4-6e06-499f-99ec-e69da3290b03",
   "metadata": {},
   "source": [
    "## Ejercicio5 Tema11\n",
    "Escribe una list comprehension que construya una lista que incluya todos los números del 1 al 10 en orden. La primera mitad se mostrarán en formato numérico; la segunda mitad en texto. Es decir, el resultado será: [1, 2, 3, 4, 5, 'seis', 'siete', 'ocho', 'nueve', 'diez']."
   ]
  },
  {
   "cell_type": "code",
   "execution_count": 18,
   "id": "20f9f897-d416-4b9e-abff-0c9daf73e5e6",
   "metadata": {},
   "outputs": [
    {
     "data": {
      "text/plain": [
       "[1, 2, 3, 4, 5, 'seis', 'siete', 'ocho', 'nueve', 'diez']"
      ]
     },
     "execution_count": 18,
     "metadata": {},
     "output_type": "execute_result"
    }
   ],
   "source": [
    "nums={6:'seis',7:'siete',8:'ocho',9:'nueve',10:'diez'}\n",
    "[key if key <=5 else nums[key] for key in range(1,11)]"
   ]
  }
 ],
 "metadata": {
  "kernelspec": {
   "display_name": "Python 3 (ipykernel)",
   "language": "python",
   "name": "python3"
  },
  "language_info": {
   "codemirror_mode": {
    "name": "ipython",
    "version": 3
   },
   "file_extension": ".py",
   "mimetype": "text/x-python",
   "name": "python",
   "nbconvert_exporter": "python",
   "pygments_lexer": "ipython3",
   "version": "3.10.8"
  }
 },
 "nbformat": 4,
 "nbformat_minor": 5
}
