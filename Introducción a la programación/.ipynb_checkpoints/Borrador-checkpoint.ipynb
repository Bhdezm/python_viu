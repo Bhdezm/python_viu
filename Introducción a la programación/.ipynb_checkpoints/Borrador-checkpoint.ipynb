{
 "cells": [
  {
   "cell_type": "code",
   "execution_count": 1,
   "id": "818e7687-2352-4e0c-9d0c-c39710ef6ec6",
   "metadata": {},
   "outputs": [
    {
     "data": {
      "text/plain": [
       "{'diego': 15, 'raul': 42, 'jose': 27, 'luis': 73}"
      ]
     },
     "execution_count": 1,
     "metadata": {},
     "output_type": "execute_result"
    }
   ],
   "source": [
    "def diccionario(x,y):\n",
    "    return dict(zip(x,y))\n",
    "\n",
    "nombre=['diego','raul','jose','luis']\n",
    "edad=[15,42,27,73]\n",
    "diccionario(nombre,edad)"
   ]
  },
  {
   "cell_type": "code",
   "execution_count": 5,
   "id": "444342e8-5f8a-48f9-8209-8e29f6731276",
   "metadata": {},
   "outputs": [
    {
     "data": {
      "text/plain": [
       "4.0"
      ]
     },
     "execution_count": 5,
     "metadata": {},
     "output_type": "execute_result"
    }
   ],
   "source": [
    "a=27\n",
    "if a<=27:\n",
    "    def op(x,y):\n",
    "        return x/y\n",
    "else:\n",
    "    def op(x,y):\n",
    "        return x*y\n",
    "op(12,3)"
   ]
  },
  {
   "cell_type": "code",
   "execution_count": 8,
   "id": "edcd54f3-5ccd-472c-a6d5-b22553a7ea1c",
   "metadata": {},
   "outputs": [
    {
     "data": {
      "text/plain": [
       "7"
      ]
     },
     "execution_count": 8,
     "metadata": {},
     "output_type": "execute_result"
    }
   ],
   "source": [
    "def t(x):\n",
    "    if x>2:\n",
    "        return x*2\n",
    "    return x+5\n",
    "t(2)"
   ]
  },
  {
   "cell_type": "code",
   "execution_count": 15,
   "id": "9ce71bfe-cdac-49c4-8902-c593b5ef9beb",
   "metadata": {},
   "outputs": [
    {
     "data": {
      "text/plain": [
       "('ibai', 'pique')"
      ]
     },
     "execution_count": 15,
     "metadata": {},
     "output_type": "execute_result"
    }
   ],
   "source": [
    "def v(v):\n",
    "    return v[3],v[0]\n",
    "\n",
    "v(['pique','aguero','casillas','ibai'])\n"
   ]
  },
  {
   "cell_type": "code",
   "execution_count": 51,
   "id": "f7816c1a-9231-47b1-9142-62d3f7c2d82e",
   "metadata": {},
   "outputs": [
    {
     "name": "stdout",
     "output_type": "stream",
     "text": [
      "camisa es el valor de a\n",
      "armario es el valor de b\n",
      "coche es el valor de c\n"
     ]
    }
   ],
   "source": [
    "def valores(a,b=None,c=None):\n",
    "    if a is not None:\n",
    "        print(f\"{a} es el valor de a\")\n",
    "    if b is not None:\n",
    "        print(f\"{b} es el valor de b\")\n",
    "    if c is not None:\n",
    "        print(f\"{c} es el valor de c\")\n",
    "valores('camisa','armario','coche')"
   ]
  },
  {
   "cell_type": "code",
   "execution_count": 27,
   "id": "81a52992-285a-4e20-8a49-599c850a6078",
   "metadata": {},
   "outputs": [
    {
     "name": "stdout",
     "output_type": "stream",
     "text": [
      "32\n",
      "81\n"
     ]
    }
   ],
   "source": [
    "def potencia(g,h):\n",
    "    return g**h\n",
    "print(potencia(2,5))\n",
    "print(potencia(3,4))"
   ]
  },
  {
   "cell_type": "code",
   "execution_count": 35,
   "id": "d79bb0b9-c5a3-4176-9711-7ff6e68cfbaf",
   "metadata": {},
   "outputs": [
    {
     "data": {
      "text/plain": [
       "9"
      ]
     },
     "execution_count": 35,
     "metadata": {},
     "output_type": "execute_result"
    }
   ],
   "source": [
    "def valor(x):\n",
    "    if x>0:\n",
    "        return x*x\n",
    "valor(a)\n",
    "x=3\n",
    "a=7\n",
    "valor(a)\n",
    "valor(x)"
   ]
  },
  {
   "cell_type": "code",
   "execution_count": 53,
   "id": "d1c60de3-c0d1-4da9-ad35-3ae11d38a6a6",
   "metadata": {},
   "outputs": [
    {
     "data": {
      "text/plain": [
       "('zeben', 'nico', 'edu', 'dani', 'viti', 'cris', 'servan')"
      ]
     },
     "execution_count": 53,
     "metadata": {},
     "output_type": "execute_result"
    }
   ],
   "source": [
    "def jugadores(*s):\n",
    "    return s\n",
    "jugadores('zeben','nico','edu','dani','viti','cris','servan')"
   ]
  },
  {
   "cell_type": "code",
   "execution_count": 90,
   "id": "44ea3b6e-f876-4c13-aec4-84e3a1ea19c8",
   "metadata": {},
   "outputs": [
    {
     "name": "stdin",
     "output_type": "stream",
     "text": [
      "introduce nombre Alemania\n"
     ]
    },
    {
     "data": {
      "text/plain": [
       "' Alemania se clasifica con 5 puntos'"
      ]
     },
     "execution_count": 90,
     "metadata": {},
     "output_type": "execute_result"
    }
   ],
   "source": [
    "Ga={'Holanda':9,'Senegal':6,'Ecuador':3,'Catar':0}\n",
    "Gb={'Inglaterra':7,'USA':4,'Irán':1,'Gales':5}\n",
    "Gc={'Argentina':7,'Mexico':4,'Polonia':6,'Arabia Saudi':0}\n",
    "Gd={'Francia':7,'Australia':3,'Dinamarca':7,'Tunez':0}\n",
    "Ge={'España':7,'Alemania':5,'Japon':2,'Costa Rica':1}\n",
    "Gf={'Belgica':5,'Canada':1,'Marruecos':5,'Croacia':2}\n",
    "Gg={'Brasil':9,'Serbia':4,'Suiza':3,'Camerun':1}\n",
    "Gf={'Portugal':7,'Uruguay':5,'Ghana':1,'Corea del sur':2}\n",
    "      \n",
    "def Mundial(Ga):\n",
    "    nombre=input('introduce nombre')\n",
    "    if Ga[nombre]>=5:\n",
    "        return (f\" {nombre} se clasifica con {Ga[nombre]} puntos\")\n",
    "    else:\n",
    "        return (f\" {nombre} no se clasifica con {Ga[nombre]} puntos\")\n",
    "    \n",
    "Mundial(Ge)    \n"
   ]
  },
  {
   "cell_type": "code",
   "execution_count": 126,
   "id": "9577aa5e-6f7b-4d23-8d0b-bec1d40f5e86",
   "metadata": {},
   "outputs": [
    {
     "data": {
      "text/plain": [
       "'true'"
      ]
     },
     "execution_count": 126,
     "metadata": {},
     "output_type": "execute_result"
    }
   ],
   "source": [
    "def sumatorio(lista):\n",
    "    for j in lista:\n",
    "        if type(j) == int or float:\n",
    "            return ('true')\n",
    "sumatorio([1,2,3.4])\n",
    "            "
   ]
  },
  {
   "cell_type": "code",
   "execution_count": 143,
   "id": "cb28ac81-cade-48a3-b399-5ee986083cce",
   "metadata": {},
   "outputs": [
    {
     "ename": "KeyError",
     "evalue": "'d'",
     "output_type": "error",
     "traceback": [
      "\u001b[1;31m---------------------------------------------------------------------------\u001b[0m",
      "\u001b[1;31mKeyError\u001b[0m                                  Traceback (most recent call last)",
      "Cell \u001b[1;32mIn [143], line 4\u001b[0m\n\u001b[0;32m      2\u001b[0m w\u001b[38;5;241m=\u001b[39m{\u001b[38;5;124m'\u001b[39m\u001b[38;5;124md\u001b[39m\u001b[38;5;124m'\u001b[39m:\u001b[38;5;241m1\u001b[39m,\u001b[38;5;124m'\u001b[39m\u001b[38;5;124mb\u001b[39m\u001b[38;5;124m'\u001b[39m:\u001b[38;5;241m4\u001b[39m,\u001b[38;5;124m'\u001b[39m\u001b[38;5;124mf\u001b[39m\u001b[38;5;124m'\u001b[39m:\u001b[38;5;241m5\u001b[39m}\n\u001b[0;32m      3\u001b[0m \u001b[38;5;28;01mfor\u001b[39;00m (clave,valor) \u001b[38;5;129;01min\u001b[39;00m z\u001b[38;5;241m.\u001b[39mitems() \u001b[38;5;129;01mand\u001b[39;00m w\u001b[38;5;241m.\u001b[39mitems():\n\u001b[1;32m----> 4\u001b[0m     \u001b[38;5;28;01mif\u001b[39;00m \u001b[43mz\u001b[49m\u001b[43m[\u001b[49m\u001b[43mclave\u001b[49m\u001b[43m]\u001b[49m \u001b[38;5;129;01min\u001b[39;00m z\u001b[38;5;241m.\u001b[39mitems():\n\u001b[0;32m      5\u001b[0m         \u001b[38;5;28;01mif\u001b[39;00m w[clave] \u001b[38;5;129;01min\u001b[39;00m w\u001b[38;5;241m.\u001b[39mitems():\n\u001b[0;32m      6\u001b[0m             \u001b[38;5;28mprint\u001b[39m(\u001b[38;5;124m'\u001b[39m\u001b[38;5;124mTrue\u001b[39m\u001b[38;5;124m'\u001b[39m)\n",
      "\u001b[1;31mKeyError\u001b[0m: 'd'"
     ]
    }
   ],
   "source": [
    "z={'a':2,'b':4,'c':6}\n",
    "w={'d':1,'b':4,'f':5}\n",
    "for (clave,valor) in z.items() and w.items():\n",
    "    if z[clave] in z.items():\n",
    "        if w[clave] in w.items():\n",
    "            print('True')\n",
    "    else:\n",
    "        print('false')"
   ]
  },
  {
   "cell_type": "code",
   "execution_count": 108,
   "id": "fde055bb-585d-4705-af7b-9d55f8777d14",
   "metadata": {},
   "outputs": [
    {
     "name": "stdout",
     "output_type": "stream",
     "text": [
      "<class 'int'>\n"
     ]
    }
   ],
   "source": [
    "a=[1,2,3.4,'a','b']\n",
    "print(type(a[1]))"
   ]
  },
  {
   "cell_type": "code",
   "execution_count": 105,
   "id": "c3a4edfc-2b4e-470c-b99e-e6207d45906c",
   "metadata": {},
   "outputs": [
    {
     "name": "stdout",
     "output_type": "stream",
     "text": [
      "14\n"
     ]
    }
   ],
   "source": [
    "a=7\n",
    "if type(a) == int:\n",
    "    print(a*2)"
   ]
  },
  {
   "cell_type": "code",
   "execution_count": 151,
   "id": "dabdee06-d1d3-4802-b114-659deb48e42d",
   "metadata": {},
   "outputs": [
    {
     "name": "stdout",
     "output_type": "stream",
     "text": [
      "[1, 2, 3, 4, 5, 6, 7, 8, 9, 10, 11, 12, 13, 14, 15, 16, 17, 18, 19, 20]\n",
      "[5, 10, 15, 20]\n"
     ]
    }
   ],
   "source": [
    "lista=list(range(1,21))\n",
    "print(lista)\n",
    "print((lista[4::5]))"
   ]
  },
  {
   "cell_type": "code",
   "execution_count": 153,
   "id": "dbff0a3e-acea-46c1-a9e0-2f25dbcd0b2a",
   "metadata": {},
   "outputs": [
    {
     "name": "stdout",
     "output_type": "stream",
     "text": [
      "soida\n"
     ]
    }
   ],
   "source": [
    "#invertir un string\n",
    "def invertir(s):\n",
    "    return s[-1::-1]\n",
    "print(invertir('adios'))"
   ]
  },
  {
   "cell_type": "code",
   "execution_count": 6,
   "id": "893aca5c-d7f8-45e2-98a4-a80da281805e",
   "metadata": {},
   "outputs": [
    {
     "data": {
      "text/plain": [
       "[2, 4, 6, 8, 10, 12, 14, 16, 18, 20]"
      ]
     },
     "execution_count": 6,
     "metadata": {},
     "output_type": "execute_result"
    }
   ],
   "source": [
    "lista=list(range(1,21))\n",
    "[ i for i in lista if i%2==0 ]"
   ]
  },
  {
   "cell_type": "code",
   "execution_count": 7,
   "id": "28d5c495-d278-480c-866c-c4732e231071",
   "metadata": {},
   "outputs": [
    {
     "name": "stdout",
     "output_type": "stream",
     "text": [
      "[1, 3, 5, 7, 9, 11, 13, 15, 17, 19, 21, 23, 25, 27, 29]\n"
     ]
    }
   ],
   "source": [
    "lista=list(range(1,30))\n",
    "p=[]\n",
    "for i in lista:\n",
    "    if i%2!=0:\n",
    "        p.append(i)\n",
    "print(p)"
   ]
  },
  {
   "cell_type": "code",
   "execution_count": 79,
   "id": "049ed913-5106-419d-80f5-8ea2a197b067",
   "metadata": {},
   "outputs": [
    {
     "name": "stdout",
     "output_type": "stream",
     "text": [
      "45\n"
     ]
    }
   ],
   "source": [
    "def suma_numeros(lista):\n",
    "    x=[]\n",
    "    for t in lista:\n",
    "        if type(t) == int:\n",
    "            x.append(t)\n",
    "        elif type(t) == float:\n",
    "            x.append(t)\n",
    "    print(sum(tuple(x)))\n",
    "\n",
    "suma_numeros([15,'d',20,10,'c'])"
   ]
  },
  {
   "cell_type": "code",
   "execution_count": 250,
   "id": "850de4c8-9898-41e6-96f1-c7c24f6c4266",
   "metadata": {},
   "outputs": [
    {
     "name": "stdout",
     "output_type": "stream",
     "text": [
      "True\n"
     ]
    }
   ],
   "source": [
    "h={'a':3,'b':7,'c':9,'f':6}\n",
    "u={'c':5,'f':6,'d':4,'a':3}\n",
    "for i in list(h.items()):\n",
    "    if i in list(u.items()):\n",
    "        print('True')\n",
    "        break\n",
    "else:\n",
    "    print('False')"
   ]
  },
  {
   "cell_type": "code",
   "execution_count": 243,
   "id": "a031a012-8644-40b3-a8b8-ef9140c6b0cf",
   "metadata": {},
   "outputs": [
    {
     "name": "stdout",
     "output_type": "stream",
     "text": [
      "True\n"
     ]
    }
   ],
   "source": [
    "dicc_a={'a':3,'b':6,'c':7}\n",
    "dicc_b={'t':4,'a':4,'d':1}\n",
    "for key in dicc_a:\n",
    "    if key in dicc_b:\n",
    "        if a[key] == b[key]:\n",
    "            print('True')\n",
    "            break\n",
    "else:\n",
    "    print('False')"
   ]
  },
  {
   "cell_type": "markdown",
   "id": "4dfb383a-43c2-4763-bb3f-78062e674433",
   "metadata": {},
   "source": [
    "Ejercicio 4. (2 puntos) Escribe una función que reciba como parámetros dos strings y compruebe si estos strings cumplen las siguientes propiedades: (1) ambos strings tienen los mismos caracteres y, además, (2) estos caracteres aparecen el mismo número de veces en ambos strings (es decir, si el primer string tiene 3 'a', por ejemplo, el segundo string también tendrá 3 'a', aunque éstas pueden aparecer en posiciones diferentes). Para resolver el problema, no puedes importar ningún módulo de Python (como, por ejemplo, collections) ni usar funciones de ordenación (como sort).\n",
    "\n",
    "Ejemplos para los que la función devolverá False:\n",
    "\n",
    "'hola' y 'adios'.\n",
    "'java' y 'javascript'.\n",
    "'maria' y 'mariam'.\n",
    "'aab' y 'abb'.\n",
    "\n",
    "Ejemplos para los que la función devolverá True:\n",
    "\n",
    "'python' y 'python'\n",
    "'listen' y 'silent'\n",
    "'aabbcc' y 'abcabc'"
   ]
  },
  {
   "cell_type": "code",
   "execution_count": 272,
   "id": "b0418238-f0ca-4a0c-a25c-3d6354fc0a58",
   "metadata": {},
   "outputs": [
    {
     "name": "stdout",
     "output_type": "stream",
     "text": [
      "True\n"
     ]
    }
   ],
   "source": [
    "def frase(o,p):\n",
    "    if len(o) == len(p):\n",
    "        print('True')\n",
    "        \n",
    "frase('listen','silent')"
   ]
  },
  {
   "cell_type": "markdown",
   "id": "ff2f86a9-b134-482a-ab32-420974a3a031",
   "metadata": {},
   "source": [
    "Ejercicio 5. (2 puntos) En \"./actividades/res/ciudades.csv\" tenéis un fichero CSV con información acerca de un conjunto de ciudades: nombre de la ciudad, país al que pertenece y número de habitantes. Escribir un programa que acceda al fichero y obtenga:\n",
    "\n",
    "Una lista con los nombres de las ciudades españolas que tienen más de 300.000 habitantes.\n",
    "El número total de ciudades francesas.\n",
    "El programa debe mostrar la lista y el número por pantalla."
   ]
  },
  {
   "cell_type": "code",
   "execution_count": 425,
   "id": "688a4bce-056c-4237-9960-8df4d95cc07f",
   "metadata": {},
   "outputs": [
    {
     "data": {
      "text/plain": [
       "(['Valencia', 'Bilbao', 'Madrid', 'Sevilla', 'Barcelona'], 3)"
      ]
     },
     "execution_count": 425,
     "metadata": {},
     "output_type": "execute_result"
    }
   ],
   "source": [
    "def ciudades(hoja,habitantes):\n",
    "    with open(hoja) as fichero:\n",
    "        reader=csv.reader(fichero,delimiter='|')\n",
    "        ciudades_españa=[]\n",
    "        ciudades_francia=[]\n",
    "        for pais in reader:\n",
    "            if 'Espanya' in pais and int(pais[2]) > habitantes:\n",
    "                ciudades_españa.append(pais[0])\n",
    "            elif 'Francia' in pais:\n",
    "                ciudades_francia.append(pais[0])\n",
    "        return ciudades_españa, len(ciudades_francia)\n",
    "               \n",
    "ciudades('actividades/res/ciudades.csv',300000)"
   ]
  },
  {
   "cell_type": "code",
   "execution_count": 278,
   "id": "cec08a5d-6c1d-44d8-9acc-1d90b5aaebad",
   "metadata": {},
   "outputs": [
    {
     "name": "stdout",
     "output_type": "stream",
     "text": [
      "Ciudad|Pais|Poblacion\n",
      "Segovia|Espanya|51683\n",
      "Nairobi|Kenia|4397000\n",
      "Valencia|Espanya|791413\n",
      "Berlin|Alemania|3645000\n",
      "Marsella|Francia|861635\n",
      "Bilbao|Espanya|345821\n",
      "Lyon|Francia|513275\n",
      "Teruel|Espanya|35691\n",
      "Milan|Italia|1352000\n",
      "Oporto|Portugal|214349\n",
      "Madrid|Espanya|3223000\n",
      "Sevilla|Espanya|688711\n",
      "Albacete|Espanya|173050\n",
      "Oslo|Noruega|634293\n",
      "Medellin|Colombia|2569000\n",
      "Nantes|Francia|303382 \n",
      "Gotemburgo|Suecia|579281\n",
      "Barcelona|Espanya|1620000\n",
      "Pekin|China|21540000\n",
      "Montevideo|Uruguay|1381000\n",
      "Zamora|Espanya|61827\n"
     ]
    }
   ],
   "source": [
    "import csv\n",
    "\n",
    "fichero=open('actividades/res/ciudades.csv')\n",
    "print(fichero.read())\n",
    "fichero.close()"
   ]
  },
  {
   "cell_type": "code",
   "execution_count": null,
   "id": "a496a95f-90d4-4a20-8cd8-c8bcb97e4860",
   "metadata": {},
   "outputs": [],
   "source": [
    "with open ('actividades/res/ciudades.csv') as fichero:\n",
    "    "
   ]
  },
  {
   "cell_type": "code",
   "execution_count": null,
   "id": "a4c3f067-2878-439b-8878-5579416cf793",
   "metadata": {},
   "outputs": [],
   "source": []
  },
  {
   "cell_type": "code",
   "execution_count": null,
   "id": "9b76d1af-cf3f-449c-8a25-a950a50dfc1d",
   "metadata": {},
   "outputs": [],
   "source": []
  },
  {
   "cell_type": "code",
   "execution_count": null,
   "id": "15487652-d1d3-439e-b31f-ffe2d30960b9",
   "metadata": {},
   "outputs": [],
   "source": []
  },
  {
   "cell_type": "code",
   "execution_count": null,
   "id": "ab2e9138-8f9f-4451-8781-51714f063e75",
   "metadata": {},
   "outputs": [],
   "source": []
  },
  {
   "cell_type": "code",
   "execution_count": null,
   "id": "923dfe30-019b-4649-aff7-51a010dddde1",
   "metadata": {},
   "outputs": [],
   "source": []
  }
 ],
 "metadata": {
  "kernelspec": {
   "display_name": "Python 3 (ipykernel)",
   "language": "python",
   "name": "python3"
  },
  "language_info": {
   "codemirror_mode": {
    "name": "ipython",
    "version": 3
   },
   "file_extension": ".py",
   "mimetype": "text/x-python",
   "name": "python",
   "nbconvert_exporter": "python",
   "pygments_lexer": "ipython3",
   "version": "3.10.8"
  }
 },
 "nbformat": 4,
 "nbformat_minor": 5
}
