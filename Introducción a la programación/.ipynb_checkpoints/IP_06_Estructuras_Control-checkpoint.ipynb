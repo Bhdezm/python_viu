{
 "cells": [
  {
   "cell_type": "markdown",
   "id": "rental-safety",
   "metadata": {},
   "source": [
    "<img src=\"img/viu_logo.png\" width=\"200\"><img src=\"img/python_logo.png\" width=\"250\"> *Mario Cervera*"
   ]
  },
  {
   "cell_type": "markdown",
   "id": "moving-tissue",
   "metadata": {},
   "source": [
    "# Estructuras de control"
   ]
  },
  {
   "cell_type": "markdown",
   "id": "employed-millennium",
   "metadata": {},
   "source": [
    "## Primero, un poco de historia ..."
   ]
  },
  {
   "cell_type": "markdown",
   "id": "democratic-retreat",
   "metadata": {},
   "source": [
    "#### Lenguaje ensamblador\n",
    "\n",
    "* Lenguaje de bajo nivel de abstracción.\n",
    "* Dependiente de la arquitectura hardware.\n",
    "* Cada procesador define su propio conjunto de instrucciones."
   ]
  },
  {
   "cell_type": "markdown",
   "id": "reasonable-chart",
   "metadata": {},
   "source": [
    "<img src=\"img/EstructurasControl/AssemblyLanguage.jpg\" width=\"500\">"
   ]
  },
  {
   "cell_type": "markdown",
   "id": "impossible-stanley",
   "metadata": {
    "tags": []
   },
   "source": [
    "* Este tipo de código es mayormente lineal.\n",
    "* Sin embargo, el flujo de ejecución no lo es: hay saltos hacia delante y hacia atrás a posiciones arbitrarias del programa.\n",
    "* El código carece de una estructura visual que nos facilite la lectura y comprensión.\n",
    "* Este problema es especialmente relevante en programas más grandes."
   ]
  },
  {
   "cell_type": "markdown",
   "id": "split-rochester",
   "metadata": {},
   "source": [
    "<img src=\"img/EstructurasControl/AssemblyLanguage_Long.png\" width=\"400\">"
   ]
  },
  {
   "cell_type": "markdown",
   "id": "aggressive-accent",
   "metadata": {},
   "source": [
    "#### Sentencia goto\n",
    "\n",
    "* Alrededor de los años 50 y 60, lenguajes de más alto nivel de abstracción (independientes de la arquitectura hardware) comenzaron a cobrar protagonismo.\n",
    "* Estos lenguajes dependendían fuertemente de la sentencia *goto*.\n",
    "* La sentencia *goto* permitía al flujo de control saltar a posiciones arbitrarias del programa.\n",
    "\n",
    "Ejemplo: Fortran."
   ]
  },
  {
   "cell_type": "markdown",
   "id": "studied-firmware",
   "metadata": {},
   "source": [
    "<img src=\"img/EstructurasControl/Goto.png\" width=\"350\">"
   ]
  },
  {
   "cell_type": "markdown",
   "id": "retired-silly",
   "metadata": {},
   "source": [
    "#### Programación estructurada\n",
    "\n",
    "* Fue *Edsger W. Dijkstra* quién popularizó la idea de que la sentencia *goto* era perjudicial.\n",
    "\n",
    "   * [Go To Statement Considered Harmful (1968)](https://homepages.cwi.nl/~storm/teaching/reader/Dijkstra68.pdf)\n",
    "\n",
    "\n",
    "* No permite razonar de manera formal acerca de la corrección de un programa.\n",
    "\n",
    "\n",
    "* Nacimiento de la [Programación Estructurada](https://en.wikipedia.org/wiki/Structured_programming) como alternativa al *goto*.\n",
    "\n",
    "   * *Secuencia*: ejecución de instrucciones en línea.\n",
    "   * *Selección*: posibilidad de elegir si una instrucción es ejecutada o no.\n",
    "   * *Iteración*: repetición de la ejecución de instrucciones.\n",
    "\n",
    "\n",
    "* Estas estructuras de control nos permiten alterar el flujo de ejecución del programa para que no sea puramente *secuencial* de manera más intuitiva que a través de *gotos*."
   ]
  },
  {
   "cell_type": "markdown",
   "id": "attended-depression",
   "metadata": {},
   "source": [
    "<img src=\"img/EstructurasControl/StructuredProgramming.png\" width=\"800\">"
   ]
  },
  {
   "cell_type": "markdown",
   "id": "hollywood-check",
   "metadata": {},
   "source": [
    "## Selección (sentencias condicionales)\n",
    "\n",
    "* Selección de una de varias alternativas en base a alguna condición.\n",
    "* Indentación para estructurar el código\n",
    "* Importante el símbolo ':'"
   ]
  },
  {
   "cell_type": "code",
   "execution_count": null,
   "id": "herbal-surprise",
   "metadata": {},
   "outputs": [],
   "source": [
    "x = 1\n",
    "if x > 0:\n",
    "    print('Valor positivo')\n",
    "else:\n",
    "    print('Valor negativo')"
   ]
  },
  {
   "cell_type": "markdown",
   "id": "african-oakland",
   "metadata": {},
   "source": [
    "* Las condiciones son expresiones que se evalúan a *True* o *False*.\n",
    "* Recuerda los operadores de comparación, lógicos, de identidad y de pertenencia vistos en una unidad temática anterior."
   ]
  },
  {
   "cell_type": "code",
   "execution_count": 18,
   "id": "periodic-original",
   "metadata": {},
   "outputs": [
    {
     "name": "stdout",
     "output_type": "stream",
     "text": [
      "True\n",
      "True\n",
      "True\n",
      "True\n"
     ]
    }
   ],
   "source": [
    "x = 3\n",
    "y = [1, 2, 3]\n",
    "\n",
    "print(x > 0)\n",
    "print(x > 0 and x < 10)\n",
    "print(x is not y)\n",
    "print(x in y)"
   ]
  },
  {
   "cell_type": "markdown",
   "id": "eight-probe",
   "metadata": {},
   "source": [
    "* Se pueden introducir más 'ramas' en sentencias condicionales a través de la palabra clave *elif*."
   ]
  },
  {
   "cell_type": "code",
   "execution_count": null,
   "id": "hollywood-azerbaijan",
   "metadata": {},
   "outputs": [],
   "source": [
    "x = -50\n",
    "if x > 0:\n",
    "    print('Valor positivo')\n",
    "elif x == 0:\n",
    "    print('Valor nulo')\n",
    "else:\n",
    "    print('Valor negativo')"
   ]
  },
  {
   "cell_type": "markdown",
   "id": "several-skating",
   "metadata": {},
   "source": [
    "* Anidamiento."
   ]
  },
  {
   "cell_type": "code",
   "execution_count": 8,
   "id": "thorough-pickup",
   "metadata": {},
   "outputs": [
    {
     "name": "stdout",
     "output_type": "stream",
     "text": [
      "Valor muy positivo\n"
     ]
    }
   ],
   "source": [
    "val = 120\n",
    "if val > 0:\n",
    "    if val < 100:\n",
    "        print('Valor positivo')\n",
    "    else:\n",
    "        print('Valor muy positivo')\n",
    "else:\n",
    "    print('Valor negativo')"
   ]
  },
  {
   "cell_type": "markdown",
   "id": "adjusted-kansas",
   "metadata": {},
   "source": [
    "#### Expresión ternaria\n",
    "\n",
    "* Estructura if-else condensado en una línea.\n",
    "* Se recomienda usar solo en casos sencillos."
   ]
  },
  {
   "cell_type": "code",
   "execution_count": 9,
   "id": "changed-realtor",
   "metadata": {},
   "outputs": [
    {
     "name": "stdout",
     "output_type": "stream",
     "text": [
      "3\n"
     ]
    }
   ],
   "source": [
    "# Ejemplo: cálculo del valor absoluto de un número.\n",
    "\n",
    "x = -3\n",
    "resultado = x if x >= 0 else -x\n",
    "print(resultado)"
   ]
  },
  {
   "cell_type": "markdown",
   "id": "executed-franklin",
   "metadata": {},
   "source": [
    "#### Concatenación de comparaciones\n",
    "\n",
    "* Como vimos en una unidad temática anterior, se pueden concatenar comparaciones en una misma expresión:\n",
    "    * *and*: true, si ambos son true.\n",
    "    * *or*: true, si al menos uno es true.\n",
    "    * *not*: inversión del valor de verdad de una expresión.\n",
    "    \n",
    "Enlace a [Tablas de Verdad](https://es.wikipedia.org/wiki/Tabla_de_verdad)."
   ]
  },
  {
   "cell_type": "code",
   "execution_count": 19,
   "id": "miniature-samuel",
   "metadata": {},
   "outputs": [
    {
     "name": "stdout",
     "output_type": "stream",
     "text": [
      "Buena película!\n"
     ]
    }
   ],
   "source": [
    "genero = 'Acción'\n",
    "fecha_de_estreno = 1989\n",
    "\n",
    "if genero == 'Comedia' or genero == 'Acción':\n",
    "    print('Buena película!')\n",
    "elif fecha_de_estreno >= 1990 and fecha_de_estreno < 2000:\n",
    "    print('Buena década!')\n",
    "else:\n",
    "    print('Meh')"
   ]
  },
  {
   "cell_type": "markdown",
   "id": "biblical-andorra",
   "metadata": {},
   "source": [
    "#### Comparación de variables: '==' vs 'is'\n",
    "\n",
    "* '==' compara si el valor de las variables es el mismo\n",
    "* 'is' compara si los objetos en las variables son iguales (referencia)"
   ]
  },
  {
   "cell_type": "code",
   "execution_count": 4,
   "id": "significant-nitrogen",
   "metadata": {},
   "outputs": [
    {
     "name": "stdout",
     "output_type": "stream",
     "text": [
      "False\n",
      "True\n",
      "True\n"
     ]
    }
   ],
   "source": [
    "a = [1, 2, 3]\n",
    "b = [1, 2, 3]\n",
    "c = a\n",
    "\n",
    "print(a is b)\n",
    "print(a is c)\n",
    "print(a == b)\n",
    "\n",
    "#print(id(a))\n",
    "#print(id(b))\n",
    "#print(id(c))"
   ]
  },
  {
   "cell_type": "markdown",
   "id": "working-freeze",
   "metadata": {},
   "source": [
    "#### Valor booleano\n",
    "\n",
    "* Todos los objetos en Python tiene inherentemente un valor booleano: *True* o *False*.\n",
    "* Cualquier número distinto de 0 ó cualquier objeto no vacío tienen valor *True*.\n",
    "* El número 0, objetos vacíos y el objeto especial *None* tienen valor *False*."
   ]
  },
  {
   "cell_type": "code",
   "execution_count": null,
   "id": "digital-model",
   "metadata": {},
   "outputs": [],
   "source": [
    "a = -10\n",
    "b = 0\n",
    "if a:\n",
    "    print(\"a es True\")\n",
    "if not b:\n",
    "    print(\"b es False\")"
   ]
  },
  {
   "cell_type": "code",
   "execution_count": null,
   "id": "alert-insurance",
   "metadata": {},
   "outputs": [],
   "source": [
    "c = []\n",
    "if c:\n",
    "    print(\"Lista no vacía\")\n",
    "else:\n",
    "    print(\"Lista vacía\")"
   ]
  },
  {
   "cell_type": "markdown",
   "id": "loved-calcium",
   "metadata": {},
   "source": [
    "# Iteración (bucles)\n",
    "\n",
    "* Repetición de un bloque de código.\n",
    "* La terminación del bucle depende del tipo de bucle.\n",
    "* Dos tipos: *while* y *for*."
   ]
  },
  {
   "cell_type": "markdown",
   "id": "brutal-latitude",
   "metadata": {},
   "source": [
    "#### Bucle 'while'\n",
    "\n",
    "* Repetición de un bloque de código hasta que se deje cumplir una expresión (es decir, hasta que una condición evalue a *False*).\n",
    "* Si la condición evalua a *False* desde el principio, el bloque de código nunca se ejecuta.\n",
    "* Cuidado con los bucles infinitos.\n",
    "\n",
    "Formato general:\n",
    "\n",
    "```\n",
    "while test:       # Mientras se cumple la condición\n",
    "    statements    # Instrucciones a ejecutar\n",
    "```"
   ]
  },
  {
   "cell_type": "code",
   "execution_count": 20,
   "id": "extra-laptop",
   "metadata": {},
   "outputs": [
    {
     "name": "stdout",
     "output_type": "stream",
     "text": [
      "9\n",
      "4\n",
      "7\n"
     ]
    }
   ],
   "source": [
    "# Ejemplo: Mostrar los primeros 3 objetos de una lista\n",
    "\n",
    "indice = 0\n",
    "numeros = [9, 4, 7, 1, 2]\n",
    "while indice < 3:\n",
    "    print(numeros[indice])\n",
    "    indice+=1"
   ]
  },
  {
   "cell_type": "code",
   "execution_count": 11,
   "id": "chubby-calvin",
   "metadata": {},
   "outputs": [
    {
     "name": "stdout",
     "output_type": "stream",
     "text": [
      "3\n",
      "9\n",
      "1\n",
      "7\n",
      "8\n",
      "Contador: 5\n",
      "Indice: 9\n"
     ]
    }
   ],
   "source": [
    "# Ejemplo: contar y mostrar los números inferiores a 10.\n",
    "\n",
    "numeros = [33, 3, 9, 21, 1, 7, 12, 10, 8]\n",
    "contador = 0\n",
    "indice = 0\n",
    "\n",
    "while indice < len(numeros):\n",
    "    if numeros[indice] < 10:\n",
    "        print(numeros[indice])\n",
    "        contador += 1\n",
    "    indice += 1\n",
    "\n",
    "print('Contador:', contador)\n",
    "print('Indice:', indice)"
   ]
  },
  {
   "cell_type": "code",
   "execution_count": 1,
   "id": "gentle-registration",
   "metadata": {},
   "outputs": [
    {
     "name": "stdout",
     "output_type": "stream",
     "text": [
      "Pablo\n",
      "ablo\n",
      "blo\n",
      "lo\n",
      "o\n"
     ]
    }
   ],
   "source": [
    "nombre = 'Pablo'\n",
    "while nombre: # Mientras 'nombre' no sea vacío\n",
    "    print(nombre)\n",
    "    nombre = nombre[1:]"
   ]
  },
  {
   "cell_type": "markdown",
   "id": "dirty-somewhere",
   "metadata": {},
   "source": [
    "#### Bucle 'for'\n",
    "\n",
    "* Permite recorrer los items de una *sequencia* o un objeto *iterable*.\n",
    "* Funciona en strings, listas, tuplas, etc.\n",
    "\n",
    "Formato general:\n",
    "\n",
    "```\n",
    "for item in objeto:   # Asigna los items del objeto a la variable item en cada iteración\n",
    "    statements        # Instrucciones a ejecutar\n",
    "```"
   ]
  },
  {
   "cell_type": "code",
   "execution_count": 4,
   "id": "aware-reverse",
   "metadata": {},
   "outputs": [
    {
     "name": "stdout",
     "output_type": "stream",
     "text": [
      "23\n",
      "Avatar\n",
      "Star Wars\n"
     ]
    }
   ],
   "source": [
    "peliculas = [23, 'Avatar', 'Star Wars']\n",
    "for pelicula in peliculas:\n",
    "    print(pelicula)"
   ]
  },
  {
   "cell_type": "markdown",
   "id": "manual-republic",
   "metadata": {},
   "source": [
    "* También se usa para iterar un número preestablecido de veces (*counted loops*):"
   ]
  },
  {
   "cell_type": "code",
   "execution_count": 11,
   "id": "august-mumbai",
   "metadata": {},
   "outputs": [
    {
     "name": "stdout",
     "output_type": "stream",
     "text": [
      "0\n",
      "1\n",
      "2\n",
      "3\n",
      "4\n",
      "5\n",
      "6\n",
      "7\n",
      "8\n",
      "9\n"
     ]
    }
   ],
   "source": [
    "for i in range(10):\n",
    "    print(i)"
   ]
  },
  {
   "cell_type": "markdown",
   "id": "final-passenger",
   "metadata": {},
   "source": [
    "* *range* es útil en combinación con *len* porque permite acceder a los elementos de una *secuencia* por posición."
   ]
  },
  {
   "cell_type": "code",
   "execution_count": 8,
   "id": "surrounded-parker",
   "metadata": {},
   "outputs": [
    {
     "name": "stdout",
     "output_type": "stream",
     "text": [
      "P\n",
      "a\n",
      "b\n",
      "l\n",
      "o\n"
     ]
    }
   ],
   "source": [
    "nombre = 'Pablo'\n",
    "for i in range(len(nombre)):\n",
    "    print(nombre[i])"
   ]
  },
  {
   "cell_type": "code",
   "execution_count": 14,
   "id": "portuguese-polyester",
   "metadata": {},
   "outputs": [
    {
     "name": "stdout",
     "output_type": "stream",
     "text": [
      "1 --> 2\n",
      "3 --> 4\n",
      "5 --> 6\n"
     ]
    }
   ],
   "source": [
    "tuplas = [(1, 2), (3, 4), (5, 6)]\n",
    "for (a, b) in tuplas:\n",
    "    print(a,'-->', b)"
   ]
  },
  {
   "cell_type": "markdown",
   "id": "celtic-heather",
   "metadata": {},
   "source": [
    "* Iteración de diccionarios. Se iteran las claves:"
   ]
  },
  {
   "cell_type": "code",
   "execution_count": 12,
   "id": "changed-coordinator",
   "metadata": {},
   "outputs": [
    {
     "name": "stdout",
     "output_type": "stream",
     "text": [
      "a => 1\n",
      "b => 2\n",
      "c => 3\n"
     ]
    }
   ],
   "source": [
    "diccionario = {'a': 1, 'b': 2, 'c': 3}\n",
    "for key in diccionario:\n",
    "    print(key, '=>', diccionario[key])"
   ]
  },
  {
   "cell_type": "markdown",
   "id": "original-miniature",
   "metadata": {},
   "source": [
    "* Para iterar los pares (clave-valor) o únicamente los valores, se deben usar los métodos *items* y *values*."
   ]
  },
  {
   "cell_type": "code",
   "execution_count": null,
   "id": "future-decline",
   "metadata": {},
   "outputs": [],
   "source": [
    "for (key, value) in diccionario.items():\n",
    "    print(key, '=>', value)"
   ]
  },
  {
   "cell_type": "code",
   "execution_count": null,
   "id": "front-geography",
   "metadata": {},
   "outputs": [],
   "source": [
    "for value in diccionario.values():\n",
    "    print(value)"
   ]
  },
  {
   "cell_type": "markdown",
   "id": "straight-disability",
   "metadata": {},
   "source": [
    "* La variable *item* en la cabecera del *for* puede ser cualquier expresión que sea válida como parte izquierda de una asignación convencional."
   ]
  },
  {
   "cell_type": "code",
   "execution_count": null,
   "id": "antique-andrews",
   "metadata": {},
   "outputs": [],
   "source": [
    "for a, b, c in [(1, 2, 3), (4, 5, 6)]:\n",
    "    print(a, b, c)"
   ]
  },
  {
   "cell_type": "markdown",
   "id": "elect-background",
   "metadata": {},
   "source": [
    "## Las sentencias break, continue y else"
   ]
  },
  {
   "cell_type": "markdown",
   "id": "military-participant",
   "metadata": {},
   "source": [
    "#### Break y continue\n",
    "\n",
    "* Solo tienen sentido dentro de bucles.\n",
    "* *Break* permite terminar el bucle por completo.\n",
    "* *Continue* permite saltar a la siguiente iteración, continuando con el bucle.\n",
    "* Pueden aparecer en cualquier parte de un bucle, pero normalmente aparecen dentro de sentencias condicionales (if)."
   ]
  },
  {
   "cell_type": "code",
   "execution_count": 16,
   "id": "optimum-warner",
   "metadata": {},
   "outputs": [
    {
     "name": "stdout",
     "output_type": "stream",
     "text": [
      "4.9\n",
      "2.5\n",
      "1.7\n",
      "4.2\n",
      "Encontrada\n"
     ]
    }
   ],
   "source": [
    "# Ejemplo: break\n",
    "\n",
    "calificacion_a_encontrar = 4.2\n",
    "calificaciones_peliculas = [4.9, 2.5, 1.7, 4.2, 3.8, 3.3, 2.9]\n",
    "\n",
    "for calificacion in calificaciones_peliculas:\n",
    "    print(calificacion)\n",
    "    if calificacion == calificacion_a_encontrar:\n",
    "        print(\"Encontrada\")\n",
    "        break"
   ]
  },
  {
   "cell_type": "code",
   "execution_count": null,
   "id": "undefined-relationship",
   "metadata": {},
   "outputs": [],
   "source": [
    "for i in range(10):\n",
    "    if i % 2 == 0: continue          # Si el número es par, salta a la siguiente iteración\n",
    "    print('Numero impar:', end=' ')\n",
    "    print(i)"
   ]
  },
  {
   "cell_type": "markdown",
   "id": "rapid-installation",
   "metadata": {},
   "source": [
    "* Observa como la sentencia *continue* te puede ayudar a reducir el número de niveles de anidamiento.\n",
    "* Sin *continue* el anterior ejemplo sería:"
   ]
  },
  {
   "cell_type": "code",
   "execution_count": null,
   "id": "injured-financing",
   "metadata": {},
   "outputs": [],
   "source": [
    "for i in range(10):\n",
    "    if i % 2 != 0:\n",
    "        print('Numero impar:', end=' ')\n",
    "        print(i)"
   ]
  },
  {
   "cell_type": "markdown",
   "id": "right-novelty",
   "metadata": {},
   "source": [
    "#### Else\n",
    "\n",
    "* Los bucles pueden tener una sensencia *else*.\n",
    "* Resulta poco intuitiva para muchos programadores porque esta sintaxis no existe en otros lenguajes.\n",
    "* Se ejecuta cuando el bucle termina con normalidad; es decir, cuando no termina a causa de un *break*."
   ]
  },
  {
   "cell_type": "code",
   "execution_count": null,
   "id": "distinguished-auckland",
   "metadata": {},
   "outputs": [],
   "source": [
    "nombre = 'Pablo'\n",
    "str_a_encontrar = 'a'\n",
    "\n",
    "while nombre:\n",
    "    if nombre[0] == str_a_encontrar:\n",
    "        print('Encontrado')\n",
    "        break\n",
    "    nombre = nombre[1:]\n",
    "else:\n",
    "    print('No encontrado')"
   ]
  },
  {
   "cell_type": "markdown",
   "id": "compressed-given",
   "metadata": {},
   "source": [
    "## Ejercicios"
   ]
  },
  {
   "cell_type": "markdown",
   "id": "shared-austria",
   "metadata": {},
   "source": [
    "1. Escribe un programa que calcule la suma de todos los elementos de una *lista* dada. La lista sólo puede contener elementos numéricos.\n",
    "\n",
    "2. Dada una lista con elementos duplicados, escribir un programa que muestre una nueva lista con el mismo contenido que la primera pero sin elementos duplicados. Para este ejercicio, no puedes hacer uso de objetos de tipo 'Set'. \n",
    "\n",
    "3. Escribe un programa que construya un diccionario que contenga un número (entre 1 y *n*) de elementos de esta forma: (x, x*x). Ejemplo: para n = 5, el diccionario resultante sería {1: 1, 2: 4, 3: 9, 4: 16, 5: 25}\n",
    "\n",
    "4. Escribe un programa que, dada una lista de palabras, compruebe si alguna empieza por 'a' y tiene más de 9 caracteres. Si dicha palabra existe, el programa deberá terminar en el momento exacto de encontrarla. El programa también debe mostrar un mensaje apropiado por pantalla que indique el éxito o el fracaso de la búsqueda. En caso de éxito, también se mostrará por pantalla la palabra encontrada.\n",
    "\n",
    "5. Dada una lista *L* de números positivos, escribir un programa que muestre otra lista (ordenada) que contenga todo índice *i* que cumpla la siguiente condición: *L[i]* es múltiplo de 3. Por ejemplo, dada la lista *L* = [3,5,13,12,1,9] el programa mostrará la lista [0,3,5] dado que *L[0], L[3] y L[5]* son, respectivamente, 3, 12 y 9, que son los únicos múltiplos de 3 que hay en *L*.\n",
    "\n",
    "6. Dado un diccionario cuyos elementos son pares de tipo string y numérico (es decir, las claves son de tipo 'str' y los valores son de tipo 'int' o 'float'), escribe un programa que muestre por pantalla la clave cuyo valor asociado representa el valor númerico más alto de todo el diccionario. Por ejemplo, para el diccionario {'a': 4.3, 'b': 1, 'c': 7.8, 'd': -5} la respuesta sería 'c', dado que 7.8 es el valor más alto de los números 4.3, 1, 7.8 y -5.\n",
    "\n",
    "7. Dada la lista *a* = [2, 4, 6, 8] y la lista *b* = [7, 11, 15, 22], escribe un programa que itere las listas *a* y *b* y multiplique cada elemento de *a* que sea mayor que 5 por cada elemento de *b* que sea menor que 14. El programa debe mostrar los resultados por pantalla."
   ]
  },
  {
   "cell_type": "code",
   "execution_count": 28,
   "id": "6af5e8a7-1b6d-479a-83b5-9290336c634a",
   "metadata": {},
   "outputs": [
    {
     "name": "stdout",
     "output_type": "stream",
     "text": [
      "36\n"
     ]
    }
   ],
   "source": [
    "#Ejercicio 1\n",
    "nums=[1,2,3,4,5,6,7,8]\n",
    "suma=0\n",
    "for numero in nums:\n",
    "    suma+=numero\n",
    "\n",
    "print(suma)"
   ]
  },
  {
   "cell_type": "code",
   "execution_count": 28,
   "id": "5103fe74-3fd3-44bd-b284-f123e17eda65",
   "metadata": {},
   "outputs": [
    {
     "name": "stdout",
     "output_type": "stream",
     "text": [
      "[1, 2, 3, 4, 5, 6, 7, 8]\n"
     ]
    }
   ],
   "source": [
    "#Ejercicio 2\n",
    "nums=[1,2,2,3,3,4,4,5,5,5,6,7,7,8]\n",
    "resultado=[]\n",
    "for num in nums:\n",
    "    if num not in resultado:\n",
    "        resultado.append(num)\n",
    "print(resultado)"
   ]
  },
  {
   "cell_type": "code",
   "execution_count": 5,
   "id": "a9ae2c1e-86cf-4b75-b1d9-0e4c81acd639",
   "metadata": {},
   "outputs": [
    {
     "name": "stdout",
     "output_type": "stream",
     "text": [
      "{1: 1, 2: 4, 3: 9, 4: 16, 5: 25}\n"
     ]
    }
   ],
   "source": [
    "#Ejercicio3\n",
    "n=5\n",
    "diccionario={}\n",
    "for i in range(1,n+1):\n",
    "    diccionario[i]=i*i\n",
    "    \n",
    "print(diccionario)"
   ]
  },
  {
   "cell_type": "code",
   "execution_count": 18,
   "id": "912b38be-a909-4be1-bef3-8c935d842d90",
   "metadata": {},
   "outputs": [
    {
     "name": "stdout",
     "output_type": "stream",
     "text": [
      "Palabra encontrada: Asintomático\n"
     ]
    }
   ],
   "source": [
    "#Ejercicio 4\n",
    "palabras=['Lámpara','Árbol','Mesa','Cama','Azulejo','Asintomático','Pantalla','Antipático']\n",
    "palabra_clave='asintomatico'\n",
    "for palabra in palabras:\n",
    "    if palabra[0]=='A' and len(palabra)>9:\n",
    "        print('Palabra encontrada:',palabra)\n",
    "        break\n",
    "else:\n",
    "    print('Palabra no encontrada')"
   ]
  },
  {
   "cell_type": "code",
   "execution_count": 19,
   "id": "51c6c2e3-50cc-44d7-ac2b-13fe7216c0e6",
   "metadata": {},
   "outputs": [
    {
     "name": "stdout",
     "output_type": "stream",
     "text": [
      "[0, 3, 5]\n"
     ]
    }
   ],
   "source": [
    "#Ejercicio 5\n",
    "L=[3,5,13,12,1,9]\n",
    "resultado = []\n",
    "for i in range(len(L)):\n",
    "    if L[i] % 3 == 0:\n",
    "        resultado.append(i)\n",
    "        \n",
    "print(resultado)"
   ]
  },
  {
   "cell_type": "code",
   "execution_count": 23,
   "id": "00afe3ed-ba57-42a7-bbea-fb340d6326c7",
   "metadata": {},
   "outputs": [
    {
     "name": "stdout",
     "output_type": "stream",
     "text": [
      "6 * 7 = 42\n",
      "6 * 11 = 66\n",
      "8 * 7 = 56\n",
      "8 * 11 = 88\n"
     ]
    }
   ],
   "source": [
    "#ejercicio 7\n",
    "a=[2,4,6,8]\n",
    "b=[7,11,15,22]\n",
    "for i in a:\n",
    "    if i>5:\n",
    "        for j in b:\n",
    "            if j<14:\n",
    "                print(i,'*',j,'=',i*j)"
   ]
  },
  {
   "cell_type": "code",
   "execution_count": null,
   "id": "fd672f0d-687c-42e1-9092-45233b67f714",
   "metadata": {},
   "outputs": [],
   "source": []
  },
  {
   "cell_type": "code",
   "execution_count": null,
   "id": "2cc61bde-0e2d-4a83-bf09-68bcb85b655d",
   "metadata": {},
   "outputs": [],
   "source": []
  },
  {
   "cell_type": "code",
   "execution_count": null,
   "id": "9f3cc62a-9d22-45ec-97fd-7d7f18afd4e4",
   "metadata": {},
   "outputs": [],
   "source": []
  },
  {
   "cell_type": "code",
   "execution_count": null,
   "id": "440d004b-f01b-492f-af06-5dc3ce80c2c0",
   "metadata": {},
   "outputs": [],
   "source": []
  },
  {
   "cell_type": "markdown",
   "id": "based-skiing",
   "metadata": {},
   "source": [
    "## Soluciones"
   ]
  },
  {
   "cell_type": "code",
   "execution_count": 17,
   "id": "altered-wagon",
   "metadata": {},
   "outputs": [
    {
     "name": "stdout",
     "output_type": "stream",
     "text": [
      "20\n"
     ]
    }
   ],
   "source": [
    "# Ejercicio 1\n",
    "\n",
    "numeros = [1,5,9,2,3]\n",
    "\n",
    "suma = 0\n",
    "for numero in numeros:\n",
    "    suma += numero\n",
    "    \n",
    "print(suma)"
   ]
  },
  {
   "cell_type": "code",
   "execution_count": 22,
   "id": "registered-drink",
   "metadata": {},
   "outputs": [
    {
     "name": "stdout",
     "output_type": "stream",
     "text": [
      "[1, 2, 3, 4, 5]\n"
     ]
    }
   ],
   "source": [
    "# Ejercicio 2\n",
    "\n",
    "numeros = [1,2,2,3,4,5,4,5,3,3,1]\n",
    "\n",
    "resultado = []\n",
    "for numero in numeros:\n",
    "    if numero not in resultado:\n",
    "        resultado.append(numero)\n",
    "\n",
    "print(resultado)"
   ]
  },
  {
   "cell_type": "code",
   "execution_count": 4,
   "id": "prostate-election",
   "metadata": {},
   "outputs": [
    {
     "name": "stdout",
     "output_type": "stream",
     "text": [
      "{1: 1, 2: 4, 3: 9, 4: 16, 5: 25}\n"
     ]
    }
   ],
   "source": [
    "# Ejercicio 3\n",
    "\n",
    "n = 5\n",
    "diccionario = {}\n",
    "\n",
    "for i in range(1,n+1):\n",
    "    diccionario[i] = i*i\n",
    "    \n",
    "print(diccionario)"
   ]
  },
  {
   "cell_type": "code",
   "execution_count": 15,
   "id": "informed-guide",
   "metadata": {},
   "outputs": [
    {
     "name": "stdout",
     "output_type": "stream",
     "text": [
      "Palabra encontrada: asignaturas\n"
     ]
    }
   ],
   "source": [
    "# Ejercicio 4\n",
    "\n",
    "palabras = [\"\", \"VIU\", \"python\", \"asignaturas\", \"programación\", \"java\", \"estudiantes\", \"académicos\"]\n",
    "\n",
    "for palabra in palabras:\n",
    "    if len(palabra) >= 9 and palabra[0] == 'a':\n",
    "        print(f\"Palabra encontrada: {palabra}\")\n",
    "        break\n",
    "else:\n",
    "    print(\"Palabra no encontrada\")"
   ]
  },
  {
   "cell_type": "code",
   "execution_count": 20,
   "id": "designed-abuse",
   "metadata": {},
   "outputs": [
    {
     "name": "stdout",
     "output_type": "stream",
     "text": [
      "[0, 3, 5]\n"
     ]
    }
   ],
   "source": [
    "# Ejercicio 5\n",
    "\n",
    "L = [3,5,13,12,1,9]\n",
    "\n",
    "resultado = []\n",
    "for i in range(len(L)):\n",
    "    if L[i] % 3 == 0:\n",
    "        resultado.append(i)\n",
    "        \n",
    "print(resultado)"
   ]
  },
  {
   "cell_type": "code",
   "execution_count": 21,
   "id": "perfect-technical",
   "metadata": {},
   "outputs": [
    {
     "name": "stdout",
     "output_type": "stream",
     "text": [
      "c\n"
     ]
    }
   ],
   "source": [
    "# Ejercicio 6\n",
    "\n",
    "d = {'a':4.3, 'b':1, 'c':7.8, 'd':-5}\n",
    "\n",
    "maximo = float(\"-inf\") # Inicializamos la variable 'maximo' a -infinito. Para este ejercicio, también valdría cualquier valor negativo muy pequeño.\n",
    "\n",
    "if(len(d) == 0):\n",
    "    print(\"El diccionario está vacío\")\n",
    "\n",
    "for clave, valor in d.items():\n",
    "    if valor > maximo:\n",
    "        maximo = valor\n",
    "        resultado = clave\n",
    "        \n",
    "print(resultado)"
   ]
  },
  {
   "cell_type": "code",
   "execution_count": 24,
   "id": "spread-topic",
   "metadata": {},
   "outputs": [
    {
     "name": "stdout",
     "output_type": "stream",
     "text": [
      "6 x 7 = 42\n",
      "6 x 11 = 66\n",
      "8 x 7 = 56\n",
      "8 x 11 = 88\n"
     ]
    }
   ],
   "source": [
    "# Ejercicio 7\n",
    "\n",
    "a = [2, 4, 6, 8]\n",
    "b = [7, 11, 15, 22]\n",
    "\n",
    "for i in a:\n",
    "    if i > 5:\n",
    "        for j in b:\n",
    "            if j < 14:\n",
    "                print(f\"{i} x {j} = {i*j}\")"
   ]
  }
 ],
 "metadata": {
  "kernelspec": {
   "display_name": "Python 3 (ipykernel)",
   "language": "python",
   "name": "python3"
  },
  "language_info": {
   "codemirror_mode": {
    "name": "ipython",
    "version": 3
   },
   "file_extension": ".py",
   "mimetype": "text/x-python",
   "name": "python",
   "nbconvert_exporter": "python",
   "pygments_lexer": "ipython3",
   "version": "3.10.8"
  }
 },
 "nbformat": 4,
 "nbformat_minor": 5
}
