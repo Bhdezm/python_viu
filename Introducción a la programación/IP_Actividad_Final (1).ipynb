{
 "cells": [
  {
   "cell_type": "markdown",
   "id": "differential-valley",
   "metadata": {},
   "source": [
    "# Introducción a la Programación - Actividad Final"
   ]
  },
  {
   "cell_type": "markdown",
   "id": "handled-spanking",
   "metadata": {
    "tags": []
   },
   "source": [
    "El fichero *grafo.txt* define un grafo dirigido ponderado. Cada fila del fichero contiene tres items separados entre sí por un espacio. Estos tres items definen una arista y su peso. Por ejemplo, la fila \"a b 2\" define una arista *(a, b)*, cuyo peso es 2, y donde *a* y *b* son nodos del grafo. La arista tiene *a* como origen y *b* como destino."
   ]
  },
  {
   "cell_type": "markdown",
   "id": "sufficient-female",
   "metadata": {},
   "source": [
    "1.1. Crea una clase *Arista* que represente una arista del grafo, con su nodo origen, su nodo destino y su peso. La clase debe sobreescribir el operador que permite que las instancias de la clase puedan representarse apropiadamente en formato *string*. Añade documentación a la clase."
   ]
  },
  {
   "cell_type": "code",
   "execution_count": 1,
   "id": "337e8abc-bc08-4df6-95dd-e7632af23caf",
   "metadata": {},
   "outputs": [
    {
     "name": "stdout",
     "output_type": "stream",
     "text": [
      "La arista del grafo esta compuesta por un nodo origen:b, un nodo de destino: e, con un peso de:3\n"
     ]
    }
   ],
   "source": [
    "class Arista:\n",
    "    \"\"\" \n",
    "    Esta clase representa la clase arista.\n",
    "    Dentro de la clase arista, viene definido las posibles aristas del grafo\n",
    "    donde se encuentra el nodo origen, el nodo destino y su peso.\n",
    "    \"\"\"\n",
    "    def __init__(self,nodo_origen,nodo_destino,peso):\n",
    "        self.nodo_origen=nodo_origen\n",
    "        self.nodo_destino=nodo_destino\n",
    "        self.peso=peso\n",
    "    def __str__(self):\n",
    "        print (f\"La arista del grafo esta compuesta por un nodo origen:{self.nodo_origen}, un nodo de destino: {self.nodo_destino}, con un peso de:{self.peso}\")\n",
    "\n",
    "arista=Arista('b','e','3')\n",
    "arista.__str__()"
   ]
  },
  {
   "cell_type": "markdown",
   "id": "clear-infection",
   "metadata": {},
   "source": [
    "1.2. Crea una clase abstracta *Grafo* que represente un grafo, pero sin proporcionar detalles sobre su representación en memoria. Esta clase abstracta contendrá un constructor que recibirá un parámetro: la ruta a un fichero de texto, de donde la clase *Grafo* podrá extraer la definición del grafo. La clase, al ser abstracta, no puede crear el grafo, pero sí puede procesar el fichero y usar un método abstracto *anyadir_arista*. Añadir también a la clase *Grafo* otro método abstracto *contiene_arista* que permita comprobar la presencia de una arista en el grafo. Ambos métodos recibirán una *Arista* como parámetro. Añade documentación a la clase."
   ]
  },
  {
   "cell_type": "code",
   "execution_count": 2,
   "id": "e9bade7e-6673-4203-9151-ef9f78c75292",
   "metadata": {},
   "outputs": [],
   "source": [
    "from abc import ABC\n",
    "from abc import abstractmethod\n",
    "class Grafo(ABC):\n",
    "    \"\"\"Esta clase representa la clase Grafo.\n",
    "    \n",
    "    Esta clase recibira la ruta de un fichero para procesarla al ser una clase abstracta y que implementara\n",
    "    dos metodos abstractos añadir_Arista y contiene_arista que seran definidos en las siguientes clases.\n",
    "    \"\"\"\n",
    "    def __init__(self,nombre_fichero): \n",
    "        with open ('res/grafo.txt') as fichero:\n",
    "            self.lineas=fichero.readlines()\n",
    "        for linea in self.lineas:\n",
    "            (nodo_origen, nodo_destino, peso) = linea.split(\" \")\n",
    "            peso = int(peso)\n",
    "            \n",
    "            self.anyadir_arista(nodo_origen,nodo_destino,peso)\n",
    "            \n",
    "    @abstractmethod\n",
    "    def contiene_arista(self,Arista):\n",
    "        pass\n",
    "    @abstractmethod\n",
    "    def anyadir_arista(self,Arista):\n",
    "        pass\n"
   ]
  },
  {
   "cell_type": "markdown",
   "id": "native-width",
   "metadata": {
    "tags": []
   },
   "source": [
    "1.3. Crea una subclase *GrafoListasAdyacencia*. Esta clase implementará el método *anyadir_arista* de manera que se creen las listas de adyacencia de manera apropiada. La clase deberá también implementar el método *contiene_arista*. Añade documentación a la clase.\n",
    "\n",
    "Nota: observad que en las listas de adyacencia no debéis almacenar objetos de tipo *Arista*, ya que esto crearía duplicación innecesaria de información en memoria."
   ]
  },
  {
   "cell_type": "code",
   "execution_count": 4,
   "id": "af8b4f9b-6f03-49fd-a00c-4438b8e5cf3d",
   "metadata": {},
   "outputs": [
    {
     "data": {
      "text/plain": [
       "{'a': {'b': 1, 'c': 3},\n",
       " 'b': {'e': 3},\n",
       " 'c': {'a': 2, 'd': 1},\n",
       " 'd': {'a': 1, 'e': 2, 'f': 1},\n",
       " 'e': {'c': 3, 'f': 4},\n",
       " 'f': {'g': 1},\n",
       " 'g': {'b': 2}}"
      ]
     },
     "execution_count": 4,
     "metadata": {},
     "output_type": "execute_result"
    }
   ],
   "source": [
    "class GrafoListasAdyacencia(Grafo):\n",
    "    \"\"\"Esta clase representa la subclase GrafoListasAdyacencia\n",
    "    \n",
    "    Esta clase implementara los metodos abstractos anyadir_arista y contiene_arista que fueron \n",
    "    añadidos en la clase Grafo anteriormente de manera que se cree una lista de adyacencia.\n",
    "    \"\"\"\n",
    "    def __init__(self,nombre_fichero):\n",
    "        self.lista_adyacencia={}\n",
    "        super().__init__(nombre_fichero)\n",
    "\n",
    "    def contiene_arista(self,nodo_origen,nodo_destino,peso):\n",
    "        return nodo_origen in self.lista_adyacencia and nodo_destino in self.lista_adyacencia[nodo_origen]\n",
    "    def anyadir_nodo(self,nodo):\n",
    "        if nodo not in self.lista_adyacencia:\n",
    "            self.lista_adyacencia[nodo]={}\n",
    "    def anyadir_arista(self,nodo_origen,nodo_destino,peso):\n",
    "        self.anyadir_nodo(nodo_origen)\n",
    "        if not self.contiene_arista(nodo_origen, nodo_destino,peso):\n",
    "            arista = {nodo_destino: peso}                     \n",
    "            self.lista_adyacencia[nodo_origen].update(arista)\n",
    "grafo = GrafoListasAdyacencia(\"res/grafo.txt\")\n",
    "grafo.lista_adyacencia"
   ]
  },
  {
   "cell_type": "markdown",
   "id": "arabic-casino",
   "metadata": {},
   "source": [
    "1.4. Crea una subclase *GrafoMatrizAdyacencia*. Esta clase implementará el método *anyadir_arista* de manera que se cree la matriz de adyacencia de manera apropiada. Una matriz de adyacencia es una matriz cuadrada que indica, para cada par de nodos, si son adyacentes o no. Más formalmente, dado un grafo con nodos *U = { u<sub>1</sub>, u<sub>2</sub>, ..., u<sub>n</sub> }*, la matriz de adyacencia es una matriz *n x n* donde un elemento *A<sub>ij</sub>* de la matriz es *X* cuando el grafo posee una arista del nodo *u<sub>i</sub>* al nodo *u<sub>j</sub>* con peso *X*, y 0 cuando no existe tal arista o tiene peso 0.\n",
    "\n",
    "Nota: para este ejercicio, podéis asumir que se sabe de antemano (es decir, antes de procesar el fichero) que el grafo tiene 7 nodos: 'a', 'b', 'c', 'd', 'e', 'f' y 'g'."
   ]
  },
  {
   "cell_type": "code",
   "execution_count": 5,
   "id": "7a7ead85-c2e9-4982-b9ad-b98fc4e393d6",
   "metadata": {},
   "outputs": [
    {
     "data": {
      "text/plain": [
       "[[0, 1, 3, 0, 0, 0, 0],\n",
       " [0, 0, 0, 0, 3, 0, 0],\n",
       " [2, 0, 0, 1, 0, 0, 0],\n",
       " [1, 0, 0, 0, 2, 1, 0],\n",
       " [0, 0, 3, 0, 0, 4, 0],\n",
       " [0, 0, 0, 0, 0, 0, 1],\n",
       " [0, 2, 0, 0, 0, 0, 0]]"
      ]
     },
     "execution_count": 5,
     "metadata": {},
     "output_type": "execute_result"
    }
   ],
   "source": [
    "class GrafoMatrizAdyacencia(Grafo):\n",
    "    \"\"\" Esta clase represente la subclase GrafoMatrizAdyacencia.\n",
    "    \n",
    "    Esta clase implementara los metodos abstractos anyadir_arista y contiene_arista que fueron añadidos \n",
    "    en la clase Grafo anteriormente de manera que se cree una matriz de adyacencia que muestre los pesos de las aristas.\n",
    "    \"\"\"\n",
    "    def __init__(self,nombre_fichero):\n",
    "        self.columnas=['a','b','c','d','e','f','g']\n",
    "        self.matriz_adyacencia=[[0 for x in range(len(self.columnas))]for y in range(len(self.columnas))]\n",
    "        super().__init__(nombre_fichero)\n",
    "    \n",
    "    def contiene_arista(self,nodo_origen,nodo_destino,peso):\n",
    "        return nodo_origen in self.matriz_adyacencia and nodo_destino in self.matriz_adyacencia[nodo_origen]\n",
    "    def anyadir_arista(self,nodo_origen,nodo_destino,peso):\n",
    "        self.matriz_adyacencia[self.columnas.index(nodo_origen)][self.columnas.index(nodo_destino)]=peso\n",
    "\n",
    "grafo_matriz_adyacencia = GrafoMatrizAdyacencia(\"res/grafo.txt\")\n",
    "grafo_matriz_adyacencia.matriz_adyacencia"
   ]
  },
  {
   "cell_type": "markdown",
   "id": "strange-blink",
   "metadata": {},
   "source": [
    "1.5. Crea una función que, dado un grafo y una arista, compruebe si la arista existe en el grafo y muestre un mensaje apropiado por pantalla en cualquier caso. Utiliza esta función para comprobar la existencia/ausencia de varias aristas en una instancia de un grafo basado en listas de adyacencia y también en un grafo basado en matriz de adyacencia. El resultado debería ser el mismo en ambos casos, ya que la existencia o ausencia de una arista en un grafo no depende de cómo el grafo está representado internamente."
   ]
  },
  {
   "cell_type": "code",
   "execution_count": 6,
   "id": "16295778-afe8-4a52-b63e-2b7e47f3b111",
   "metadata": {},
   "outputs": [
    {
     "name": "stdout",
     "output_type": "stream",
     "text": [
      "La arista('a', 'b', '1') existe en el grafo\n",
      "La arista('d', 'e', '2') existe en el grafo\n",
      "La arista('c', 'b', '3') no existe en el grafo\n",
      "La arista('a', 'e', '7') no existe en el grafo\n"
     ]
    }
   ],
   "source": [
    "def comprobar_arista(nodo_origen,nodo_destino,peso):\n",
    "    grafo=GrafoListasAdyacencia('res/grafo.txt')\n",
    "    if grafo.contiene_arista(nodo_origen,nodo_destino,peso)==True:\n",
    "        return(f\"La arista{nodo_origen,nodo_destino,peso} existe en el grafo\")\n",
    "    else:\n",
    "        return (f'La arista{nodo_origen,nodo_destino,peso} no existe en el grafo')\n",
    "    \n",
    "print(comprobar_arista('a','b','1'))\n",
    "print(comprobar_arista('d','e','2'))\n",
    "print(comprobar_arista('c','b','3'))\n",
    "print(comprobar_arista('a','e','7'))"
   ]
  }
 ],
 "metadata": {
  "kernelspec": {
   "display_name": "Python 3 (ipykernel)",
   "language": "python",
   "name": "python3"
  },
  "language_info": {
   "codemirror_mode": {
    "name": "ipython",
    "version": 3
   },
   "file_extension": ".py",
   "mimetype": "text/x-python",
   "name": "python",
   "nbconvert_exporter": "python",
   "pygments_lexer": "ipython3",
   "version": "3.10.8"
  }
 },
 "nbformat": 4,
 "nbformat_minor": 5
}
