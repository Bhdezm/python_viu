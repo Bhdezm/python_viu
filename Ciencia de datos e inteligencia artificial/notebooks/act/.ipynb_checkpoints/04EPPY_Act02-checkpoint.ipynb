{
 "cells": [
  {
   "cell_type": "markdown",
   "id": "31ffaa68",
   "metadata": {},
   "source": [
    "<img src=\"../img/viu_logo.png\" width=\"200\">\n",
    "\n",
    "## 04EPPY - Actividad 2\n",
    "\n",
    "25% de la Nota Final\n",
    "\n",
    "### Fecha Entrega\n",
    "- Convocatoria 1 - 31/03/2022\n",
    "- Convocatoria 2 - 07/04/2022\n",
    "\n",
    "### Instrucciones:\n",
    "- Crear un notebook de Python3 que servirá como entrega de la actividad.\n",
    "- Separar bien los apartados propuestos con celdas Markdown.\n",
    "- Mantener una estructura limpia, comentando código y secuenciando los apartados con el código correspondiente que resuelva la actividad.\n",
    "- Como criterio de evaluación se tendrá en cuenta el resultado, la consecución del mismo, estilo, comentarios y adecuación.\n",
    "- No está permitido compartir los resultados ni el código en ninguno de los foros.\n",
    "\n",
    "### Entrega:\n",
    "- Un solo documento en formato notebook: .ipynb\n",
    "- Para hacer la entrega hay que subir el notebook al repositorio en la actividad de blackboard."
   ]
  },
  {
   "cell_type": "markdown",
   "id": "acc1f5f5",
   "metadata": {},
   "source": [
    "# Olympics"
   ]
  },
  {
   "cell_type": "markdown",
   "id": "96ebe415",
   "metadata": {},
   "source": [
    "### A1 - Leer Datasets - 10%\n",
    "- En Kaggle existen dos datasets sobre las olimpiadas modernas\n",
    "  - Atletas y resultados de medallas, desde 1896 a 2016, https://www.kaggle.com/heesoo37/120-years-of-olympic-history-athletes-and-results\n",
    "  - Resultados de atletismo, desde 1896 a 2016, https://www.kaggle.com/jayrav13/olympic-track-field-results\n",
    "  \n",
    "- Obtener y leer los ficheros csv en dataframes de pandas"
   ]
  },
  {
   "cell_type": "markdown",
   "id": "6c87165f",
   "metadata": {},
   "source": [
    "### A2 - Análisis - 45%\n",
    "- Obtener un gráfico de barras con la evolución del número de deportes por año, eje X años, eje Y número de deportes\n",
    "![sports_per_year](res/sports_per_year.png)\n",
    "- Gráfico con la evolución de la participación femenina en las olimpiadas a lo largo de la historia, eje X años, eje Y número de atletas, para cada año una barra para cada sexo\n",
    "![sex](res/sex.png)\n",
    "- Gráfico con los 50 paises con más medallas en toda la historia, en cada barra el nombre completo del pais, longitud de cada barra, total de medallas obtenidas por pais\n",
    "![medallero](res/medallero.png)"
   ]
  },
  {
   "cell_type": "markdown",
   "id": "7918d9b7",
   "metadata": {},
   "source": [
    "### A3 - Machine Learning - 45%\n",
    "\n",
    "- Crear un modelo capaz de predecir el tiempo que va a hacer un atleta en la prueba de los 100 metros lisos, en función de su edad, sexo, peso y altura.\n",
    "![model](res/model.png)"
   ]
  }
 ],
 "metadata": {
  "kernelspec": {
   "display_name": "Python 3",
   "language": "python",
   "name": "python3"
  },
  "language_info": {
   "codemirror_mode": {
    "name": "ipython",
    "version": 3
   },
   "file_extension": ".py",
   "mimetype": "text/x-python",
   "name": "python",
   "nbconvert_exporter": "python",
   "pygments_lexer": "ipython3",
   "version": "3.8.5"
  }
 },
 "nbformat": 4,
 "nbformat_minor": 5
}
