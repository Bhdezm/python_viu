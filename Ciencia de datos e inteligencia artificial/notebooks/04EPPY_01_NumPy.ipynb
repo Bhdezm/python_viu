{
 "cells": [
  {
   "cell_type": "markdown",
   "metadata": {
    "slideshow": {
     "slide_type": "slide"
    }
   },
   "source": [
    "\n",
    "<img src=\"img/viu_logo.png\" width=\"200\">\n",
    "\n",
    "## 04EPPY - Ciencia de Datos e Inteligencia Artificial\n",
    "### NumPy\n",
    "\n",
    "![logo](img/python_logo.png)\n",
    "\n",
    "*Òscar Garibo*"
   ]
  },
  {
   "cell_type": "markdown",
   "metadata": {
    "slideshow": {
     "slide_type": "subslide"
    }
   },
   "source": [
    "# Sumario\n",
    "- ndarray\n",
    "- creacion y modificacion de ndarrays\n",
    "- indexacion y slicing\n",
    "- estadistica descriptiva\n",
    "- filtrado de datos con where\n",
    "- algebra lineal\n",
    "- Valores aleatorios\n",
    "- Leer y escribir NumPy ndarrays"
   ]
  },
  {
   "cell_type": "markdown",
   "metadata": {
    "slideshow": {
     "slide_type": "slide"
    }
   },
   "source": [
    "# NumPy ndarray\n",
    "- NumPy (__Num__ erical __Py__ thon) es la de facto librería estándar para análisis numérico en Python\n",
    "- Estructura de datos multidimensional eficiente (escrita en C): ndarray\n",
    "- Colección de funciones para álgebra lineal, estadística descriptiva\n",
    "- Ayuda al procesamiento de datos (np.where)"
   ]
  },
  {
   "cell_type": "code",
   "execution_count": 1,
   "metadata": {},
   "outputs": [],
   "source": [
    "#importar libreria\n",
    "import numpy as np"
   ]
  },
  {
   "cell_type": "code",
   "execution_count": 4,
   "metadata": {},
   "outputs": [
    {
     "name": "stdout",
     "output_type": "stream",
     "text": [
      "[[  2  71   0  34]\n",
      " [  2 171 -35  34]]\n"
     ]
    }
   ],
   "source": [
    "array = np.array([[2,71,0,34], [2,171,-35,34]])\n",
    "print(array)"
   ]
  },
  {
   "cell_type": "code",
   "execution_count": 4,
   "metadata": {},
   "outputs": [
    {
     "data": {
      "text/plain": [
       "numpy.ndarray"
      ]
     },
     "execution_count": 4,
     "metadata": {},
     "output_type": "execute_result"
    }
   ],
   "source": [
    "type(array)"
   ]
  },
  {
   "cell_type": "code",
   "execution_count": 3,
   "metadata": {},
   "outputs": [
    {
     "data": {
      "text/plain": [
       "6"
      ]
     },
     "execution_count": 3,
     "metadata": {},
     "output_type": "execute_result"
    }
   ],
   "source": [
    "array.argmin()"
   ]
  },
  {
   "cell_type": "code",
   "execution_count": 7,
   "metadata": {},
   "outputs": [
    {
     "data": {
      "text/plain": [
       "5"
      ]
     },
     "execution_count": 7,
     "metadata": {},
     "output_type": "execute_result"
    }
   ],
   "source": [
    "array.argmax()"
   ]
  },
  {
   "cell_type": "code",
   "execution_count": 8,
   "metadata": {},
   "outputs": [
    {
     "data": {
      "text/plain": [
       "(array([0, 0, 0, 1, 1, 1, 1], dtype=int64),\n",
       " array([0, 1, 3, 0, 1, 2, 3], dtype=int64))"
      ]
     },
     "execution_count": 8,
     "metadata": {},
     "output_type": "execute_result"
    }
   ],
   "source": [
    "array.nonzero()"
   ]
  },
  {
   "cell_type": "code",
   "execution_count": 9,
   "metadata": {},
   "outputs": [
    {
     "data": {
      "text/plain": [
       "(array([0, 1, 2, 3], dtype=int64),)"
      ]
     },
     "execution_count": 9,
     "metadata": {},
     "output_type": "execute_result"
    }
   ],
   "source": [
    "array[1].nonzero()"
   ]
  },
  {
   "cell_type": "code",
   "execution_count": null,
   "metadata": {},
   "outputs": [],
   "source": [
    "!pip install numpy"
   ]
  },
  {
   "cell_type": "code",
   "execution_count": 10,
   "metadata": {
    "slideshow": {
     "slide_type": "fragment"
    }
   },
   "outputs": [
    {
     "name": "stdout",
     "output_type": "stream",
     "text": [
      "[['onions' 'carrots' 'celery']\n",
      " ['apples' 'oranges' 'grapes']]\n",
      "<class 'numpy.ndarray'>\n"
     ]
    }
   ],
   "source": [
    "shopping_list = [ ['onions','carrots','celery'], ['apples','oranges','grapes'] ] # 2D\n",
    "array = np.array(shopping_list) # convertir una lista en una ndarray\n",
    "print(array)\n",
    "print(type(array))"
   ]
  },
  {
   "cell_type": "markdown",
   "metadata": {
    "slideshow": {
     "slide_type": "subslide"
    }
   },
   "source": [
    "## Formas de crear ndarrays"
   ]
  },
  {
   "cell_type": "code",
   "execution_count": 11,
   "metadata": {},
   "outputs": [
    {
     "data": {
      "text/plain": [
       "range(0, 2)"
      ]
     },
     "execution_count": 11,
     "metadata": {},
     "output_type": "execute_result"
    }
   ],
   "source": [
    "range(2)"
   ]
  },
  {
   "cell_type": "code",
   "execution_count": 12,
   "metadata": {
    "slideshow": {
     "slide_type": "fragment"
    }
   },
   "outputs": [
    {
     "name": "stdout",
     "output_type": "stream",
     "text": [
      "[100  10   1]\n",
      "[2 4 6 8]\n"
     ]
    }
   ],
   "source": [
    "print(np.array([100,10,1])) # array a partir de una lista\n",
    "print(np.arange(2,10,2))    # array a partir de una secuencia(range) 1D"
   ]
  },
  {
   "cell_type": "code",
   "execution_count": 13,
   "metadata": {},
   "outputs": [
    {
     "name": "stdout",
     "output_type": "stream",
     "text": [
      "[0. 0.]\n"
     ]
    }
   ],
   "source": [
    "print(np.zeros(2))       # 1D"
   ]
  },
  {
   "cell_type": "code",
   "execution_count": 9,
   "metadata": {},
   "outputs": [
    {
     "name": "stdout",
     "output_type": "stream",
     "text": [
      "[[1. 1.]\n",
      " [1. 1.]]\n",
      "[[1. 1. 1.]\n",
      " [1. 1. 1.]]\n"
     ]
    }
   ],
   "source": [
    "print(np.ones((2,2))) # matrix 2x2\n",
    "print(np.ones((2,3)))"
   ]
  },
  {
   "cell_type": "code",
   "execution_count": 15,
   "metadata": {},
   "outputs": [
    {
     "name": "stdout",
     "output_type": "stream",
     "text": [
      "[[[4.67296746e-307 1.69121096e-306]\n",
      "  [1.86921822e-306 1.37961709e-306]]\n",
      "\n",
      " [[1.42419938e-306 7.56603881e-307]\n",
      "  [8.45603440e-307 4.45046008e-307]]]\n"
     ]
    }
   ],
   "source": [
    "print(np.empty((2,2,2))) # matrix 2x2x2, no inicializados"
   ]
  },
  {
   "cell_type": "code",
   "execution_count": 16,
   "metadata": {},
   "outputs": [],
   "source": [
    "cosa = np.array([[2,71,0,34], [2,171,-35,34]])"
   ]
  },
  {
   "cell_type": "code",
   "execution_count": 17,
   "metadata": {},
   "outputs": [
    {
     "data": {
      "text/plain": [
       "array([[  2,  71,   0,  34],\n",
       "       [  2, 171, -35,  34]])"
      ]
     },
     "execution_count": 17,
     "metadata": {},
     "output_type": "execute_result"
    }
   ],
   "source": [
    "cosa"
   ]
  },
  {
   "cell_type": "code",
   "execution_count": 18,
   "metadata": {},
   "outputs": [
    {
     "name": "stdout",
     "output_type": "stream",
     "text": [
      "[[3 3]\n",
      " [3 3]\n",
      " [3 3]\n",
      " [3 3]\n",
      " [3 3]]\n"
     ]
    }
   ],
   "source": [
    "print(np.full((5,2),3)) # matrix 5x2"
   ]
  },
  {
   "cell_type": "code",
   "execution_count": 19,
   "metadata": {},
   "outputs": [
    {
     "name": "stdout",
     "output_type": "stream",
     "text": [
      "[[1. 0. 0.]\n",
      " [0. 1. 0.]\n",
      " [0. 0. 1.]]\n"
     ]
    }
   ],
   "source": [
    "print(np.eye(3))         # matrix identity"
   ]
  },
  {
   "cell_type": "code",
   "execution_count": 20,
   "metadata": {
    "slideshow": {
     "slide_type": "fragment"
    }
   },
   "outputs": [
    {
     "name": "stdout",
     "output_type": "stream",
     "text": [
      "[0. 0.]\n",
      "[[1. 1.]\n",
      " [1. 1.]]\n",
      "[[[4.67296746e-307 1.69121096e-306]\n",
      "  [1.86921822e-306 1.37961709e-306]]\n",
      "\n",
      " [[1.42419938e-306 7.56603881e-307]\n",
      "  [8.45603440e-307 4.45046008e-307]]]\n",
      "[[3 3]\n",
      " [3 3]\n",
      " [3 3]\n",
      " [3 3]\n",
      " [3 3]]\n",
      "[[1. 0. 0.]\n",
      " [0. 1. 0.]\n",
      " [0. 0. 1.]]\n"
     ]
    }
   ],
   "source": [
    "# Generar arrays con valores fijos\n",
    "print(np.zeros(2))       # 1D\n",
    "print(np.ones((2,2)))    # matrix 2x2\n",
    "print(np.empty((2,2,2))) # matrix 2x2x2, no inicializados\n",
    "print(np.full((5,2),3)) # matrix 5x2\n",
    "print(np.eye(3))         # matrix identity"
   ]
  },
  {
   "cell_type": "markdown",
   "metadata": {
    "slideshow": {
     "slide_type": "subslide"
    }
   },
   "source": [
    "## Obtener información sobre ndarray"
   ]
  },
  {
   "cell_type": "code",
   "execution_count": 21,
   "metadata": {},
   "outputs": [
    {
     "name": "stdout",
     "output_type": "stream",
     "text": [
      "[ 2 71  0 34]\n"
     ]
    }
   ],
   "source": [
    "my_ndarray = np.array([2,71,0,34])\n",
    "print(my_ndarray)"
   ]
  },
  {
   "cell_type": "code",
   "execution_count": 22,
   "metadata": {},
   "outputs": [
    {
     "data": {
      "text/plain": [
       "(array([0, 1, 3], dtype=int64),)"
      ]
     },
     "execution_count": 22,
     "metadata": {},
     "output_type": "execute_result"
    }
   ],
   "source": [
    "my_ndarray.nonzero()"
   ]
  },
  {
   "cell_type": "code",
   "execution_count": 23,
   "metadata": {},
   "outputs": [
    {
     "data": {
      "text/plain": [
       "array([ 2, 71, 34])"
      ]
     },
     "execution_count": 23,
     "metadata": {},
     "output_type": "execute_result"
    }
   ],
   "source": [
    "my_ndarray[[0, 1, 3]]"
   ]
  },
  {
   "cell_type": "code",
   "execution_count": 24,
   "metadata": {},
   "outputs": [
    {
     "data": {
      "text/plain": [
       "array([ 2, 71, 34])"
      ]
     },
     "execution_count": 24,
     "metadata": {},
     "output_type": "execute_result"
    }
   ],
   "source": [
    "my_ndarray[my_ndarray.nonzero()]"
   ]
  },
  {
   "cell_type": "code",
   "execution_count": 25,
   "metadata": {},
   "outputs": [
    {
     "data": {
      "text/plain": [
       "71"
      ]
     },
     "execution_count": 25,
     "metadata": {},
     "output_type": "execute_result"
    }
   ],
   "source": [
    "np.amax(my_ndarray)"
   ]
  },
  {
   "cell_type": "code",
   "execution_count": 27,
   "metadata": {},
   "outputs": [
    {
     "data": {
      "text/plain": [
       "[0.98, 0.02]"
      ]
     },
     "execution_count": 27,
     "metadata": {},
     "output_type": "execute_result"
    }
   ],
   "source": [
    "[0.98, 0.02]"
   ]
  },
  {
   "cell_type": "code",
   "execution_count": 28,
   "metadata": {
    "scrolled": true,
    "slideshow": {
     "slide_type": "fragment"
    }
   },
   "outputs": [
    {
     "name": "stdout",
     "output_type": "stream",
     "text": [
      "[ 2 71  0 34]\n",
      "1\n",
      "2\n",
      "(array([0, 1, 3], dtype=int64),)\n"
     ]
    }
   ],
   "source": [
    "my_ndarray = np.array([2,71,0,34])\n",
    "print(my_ndarray)\n",
    "print(my_ndarray.argmax())    # índice del valor más alto\n",
    "print(my_ndarray.argmin())    # índice del valor más bajo\n",
    "print(my_ndarray.nonzero())   # retorna los índices de los elementos distintos a 0"
   ]
  },
  {
   "cell_type": "code",
   "execution_count": 29,
   "metadata": {},
   "outputs": [
    {
     "name": "stdout",
     "output_type": "stream",
     "text": [
      "5\n",
      "171\n"
     ]
    }
   ],
   "source": [
    "nueva = np.array([[2,71,0,34], [2,171,-35,34]])\n",
    "print(nueva.argmax())\n",
    "print(np.amax(nueva))"
   ]
  },
  {
   "cell_type": "code",
   "execution_count": 30,
   "metadata": {},
   "outputs": [
    {
     "data": {
      "text/plain": [
       "2"
      ]
     },
     "execution_count": 30,
     "metadata": {},
     "output_type": "execute_result"
    }
   ],
   "source": [
    "nueva.ndim"
   ]
  },
  {
   "cell_type": "code",
   "execution_count": 31,
   "metadata": {},
   "outputs": [
    {
     "data": {
      "text/plain": [
       "171"
      ]
     },
     "execution_count": 31,
     "metadata": {},
     "output_type": "execute_result"
    }
   ],
   "source": [
    "nueva[1][1]"
   ]
  },
  {
   "cell_type": "code",
   "execution_count": 10,
   "metadata": {},
   "outputs": [
    {
     "ename": "NameError",
     "evalue": "name 'my_ndarray' is not defined",
     "output_type": "error",
     "traceback": [
      "\u001b[1;31m---------------------------------------------------------------------------\u001b[0m",
      "\u001b[1;31mNameError\u001b[0m                                 Traceback (most recent call last)",
      "Cell \u001b[1;32mIn [10], line 1\u001b[0m\n\u001b[1;32m----> 1\u001b[0m \u001b[43mmy_ndarray\u001b[49m\u001b[38;5;241m.\u001b[39mndim\n",
      "\u001b[1;31mNameError\u001b[0m: name 'my_ndarray' is not defined"
     ]
    }
   ],
   "source": [
    "my_ndarray.ndim"
   ]
  },
  {
   "cell_type": "code",
   "execution_count": 11,
   "metadata": {},
   "outputs": [
    {
     "name": "stdout",
     "output_type": "stream",
     "text": [
      "[[-3 -3 -3 -3 -3]\n",
      " [-3 -3 -3 -3 -3]]\n",
      "10\n",
      "(2, 5)\n",
      "2\n"
     ]
    }
   ],
   "source": [
    "my_ndarray = np.full((2,5),-3) # matrix 5x2\n",
    "print(my_ndarray)\n",
    "print(my_ndarray.size)        # número de elementos\n",
    "print(my_ndarray.shape)       # dimensiones\n",
    "print(my_ndarray.ndim)        # número de dimensiones"
   ]
  },
  {
   "cell_type": "markdown",
   "metadata": {
    "slideshow": {
     "slide_type": "subslide"
    }
   },
   "source": [
    "#### Redimensionar los datos"
   ]
  },
  {
   "cell_type": "code",
   "execution_count": 12,
   "metadata": {},
   "outputs": [
    {
     "name": "stdout",
     "output_type": "stream",
     "text": [
      "(1, 8)\n",
      "2\n",
      "[[ 10  71  21  19 213 412 111  98]]\n",
      "8\n"
     ]
    }
   ],
   "source": [
    "my_ndarray = np.array([[10, 71, 21, 19, 213, 412, 111, 98]])  # matrix 1x8\n",
    "print(my_ndarray.shape)\n",
    "print(my_ndarray.ndim)\n",
    "print(my_ndarray)\n",
    "print(my_ndarray.size)\n"
   ]
  },
  {
   "cell_type": "code",
   "execution_count": 13,
   "metadata": {},
   "outputs": [
    {
     "name": "stdout",
     "output_type": "stream",
     "text": [
      "[[ 10  71]\n",
      " [ 21  19]\n",
      " [213 412]\n",
      " [111  98]]\n"
     ]
    }
   ],
   "source": [
    "new_dims = my_ndarray.reshape(4, 2)\n",
    "print(new_dims)"
   ]
  },
  {
   "cell_type": "code",
   "execution_count": 16,
   "metadata": {},
   "outputs": [
    {
     "data": {
      "text/plain": [
       "(3, 1)"
      ]
     },
     "execution_count": 16,
     "metadata": {},
     "output_type": "execute_result"
    }
   ],
   "source": [
    "x = np.array([100, 10, 1]).reshape(3,1)\n",
    "x.shape"
   ]
  },
  {
   "cell_type": "code",
   "execution_count": 17,
   "metadata": {},
   "outputs": [
    {
     "data": {
      "text/plain": [
       "array([[100],\n",
       "       [ 10],\n",
       "       [  1]])"
      ]
     },
     "execution_count": 17,
     "metadata": {},
     "output_type": "execute_result"
    }
   ],
   "source": [
    "x"
   ]
  },
  {
   "cell_type": "code",
   "execution_count": 19,
   "metadata": {
    "slideshow": {
     "slide_type": "fragment"
    }
   },
   "outputs": [
    {
     "name": "stdout",
     "output_type": "stream",
     "text": [
      "(1, 8)\n",
      "[[ 10  71  21  19 213 412 111  98]]\n",
      "[[ 10  71]\n",
      " [ 21  19]\n",
      " [213 412]\n",
      " [111  98]]\n",
      "[[ 10  71  21  19]\n",
      " [213 412 111  98]]\n"
     ]
    }
   ],
   "source": [
    "my_ndarray = np.array([[10, 71, 21, 19, 213, 412, 111, 98]])  # matrix 1x8\n",
    "print(my_ndarray.shape)\n",
    "print(my_ndarray)\n",
    "\n",
    "# cambiar las dimensiones a 4x2\n",
    "new_dims = my_ndarray.reshape(4, 2)\n",
    "print(new_dims)\n",
    "\n",
    "# cambiar las dimensiones a 2x4\n",
    "new_dims = my_ndarray.reshape(2, 4) # qué sucede si utilizamos otros valores?\n",
    "print(new_dims)"
   ]
  },
  {
   "cell_type": "code",
   "execution_count": 18,
   "metadata": {
    "slideshow": {
     "slide_type": "fragment"
    }
   },
   "outputs": [
    {
     "name": "stdout",
     "output_type": "stream",
     "text": [
      "[[ 0  1  2  3]\n",
      " [ 4  5  6  7]\n",
      " [ 8  9 10 11]\n",
      " [12 13 14 15]]\n",
      "[[ 0  4  8 12]\n",
      " [ 1  5  9 13]\n",
      " [ 2  6 10 14]\n",
      " [ 3  7 11 15]]\n"
     ]
    }
   ],
   "source": [
    "# Cambiar ejes\n",
    "new_dims = np.arange(16).reshape(4,4)\n",
    "print(new_dims)\n",
    "print(new_dims.swapaxes(0,1))"
   ]
  },
  {
   "cell_type": "code",
   "execution_count": 20,
   "metadata": {
    "slideshow": {
     "slide_type": "fragment"
    }
   },
   "outputs": [
    {
     "name": "stdout",
     "output_type": "stream",
     "text": [
      "[[0 1 2]\n",
      " [3 4 5]\n",
      " [6 7 8]]\n",
      "[0 1 2 3 4 5 6 7 8]\n",
      "[0 1 2 3 4 5 6 7 8]\n",
      "<class 'numpy.ndarray'>\n",
      "[[0 1 2 3 4 5 6 7 8]]\n"
     ]
    }
   ],
   "source": [
    "# reducir a 1D\n",
    "new_dims = np.arange(9).reshape(3,3)\n",
    "print(new_dims)\n",
    "print(np.arange(9))\n",
    "print(new_dims.flatten())\n",
    "print(type(new_dims.flatten()))\n",
    "print(new_dims.reshape(1,9))"
   ]
  },
  {
   "cell_type": "code",
   "execution_count": 21,
   "metadata": {},
   "outputs": [
    {
     "data": {
      "text/plain": [
       "array([0, 1, 2, 3, 4, 5, 6, 7, 8])"
      ]
     },
     "execution_count": 21,
     "metadata": {},
     "output_type": "execute_result"
    }
   ],
   "source": [
    "new_dims.reshape(1,9)[0]"
   ]
  },
  {
   "cell_type": "code",
   "execution_count": 22,
   "metadata": {},
   "outputs": [
    {
     "data": {
      "text/plain": [
       "0"
      ]
     },
     "execution_count": 22,
     "metadata": {},
     "output_type": "execute_result"
    }
   ],
   "source": [
    "new_dims.flatten()[0]"
   ]
  },
  {
   "cell_type": "code",
   "execution_count": 23,
   "metadata": {},
   "outputs": [
    {
     "name": "stdout",
     "output_type": "stream",
     "text": [
      "[[ 0  1  2  3]\n",
      " [ 4  5  6  7]\n",
      " [ 8  9 10 11]\n",
      " [12 13 14 15]]\n",
      "[[ 0  1  2  3  4  5  6  7  8  9 10 11 12 13 14 15]]\n",
      "[ 0  1  2  3  4  5  6  7  8  9 10 11 12 13 14 15]\n"
     ]
    }
   ],
   "source": [
    "# reducir a 1D\n",
    "new_dims = np.arange(16).reshape(4,4)\n",
    "print(new_dims)\n",
    "print(new_dims.reshape(1, -1))\n",
    "print(new_dims.flatten())"
   ]
  },
  {
   "cell_type": "code",
   "execution_count": 24,
   "metadata": {},
   "outputs": [
    {
     "data": {
      "text/plain": [
       "numpy.ndarray"
      ]
     },
     "execution_count": 24,
     "metadata": {},
     "output_type": "execute_result"
    }
   ],
   "source": [
    "type(new_dims.reshape(1, -1))"
   ]
  },
  {
   "cell_type": "code",
   "execution_count": 25,
   "metadata": {},
   "outputs": [
    {
     "data": {
      "text/plain": [
       "0"
      ]
     },
     "execution_count": 25,
     "metadata": {},
     "output_type": "execute_result"
    }
   ],
   "source": [
    "new_dims.reshape(1, -1)[0][0]"
   ]
  },
  {
   "cell_type": "code",
   "execution_count": null,
   "metadata": {},
   "outputs": [],
   "source": [
    "type(new_dims.flatten())"
   ]
  },
  {
   "cell_type": "code",
   "execution_count": 26,
   "metadata": {},
   "outputs": [
    {
     "data": {
      "text/plain": [
       "0"
      ]
     },
     "execution_count": 26,
     "metadata": {},
     "output_type": "execute_result"
    }
   ],
   "source": [
    "new_dims.flatten()[0]"
   ]
  },
  {
   "cell_type": "markdown",
   "metadata": {
    "slideshow": {
     "slide_type": "subslide"
    }
   },
   "source": [
    "## Manipulación de ndarrays"
   ]
  },
  {
   "cell_type": "code",
   "execution_count": 27,
   "metadata": {
    "slideshow": {
     "slide_type": "fragment"
    }
   },
   "outputs": [
    {
     "name": "stdout",
     "output_type": "stream",
     "text": [
      "[ 2  9 10 17]\n"
     ]
    }
   ],
   "source": [
    "# ordenar\n",
    "array1 = np.array([10,2,9,17])\n",
    "array2 = array1.copy()\n",
    "array1.sort()\n",
    "print(array1)"
   ]
  },
  {
   "cell_type": "code",
   "execution_count": 28,
   "metadata": {},
   "outputs": [],
   "source": [
    "array2 = -np.sort(-array2)"
   ]
  },
  {
   "cell_type": "code",
   "execution_count": 29,
   "metadata": {},
   "outputs": [
    {
     "data": {
      "text/plain": [
       "array([17, 10,  9,  2])"
      ]
     },
     "execution_count": 29,
     "metadata": {},
     "output_type": "execute_result"
    }
   ],
   "source": [
    "array2"
   ]
  },
  {
   "cell_type": "code",
   "execution_count": 30,
   "metadata": {},
   "outputs": [
    {
     "data": {
      "text/plain": [
       "array([17, 10,  9,  2])"
      ]
     },
     "execution_count": 30,
     "metadata": {},
     "output_type": "execute_result"
    }
   ],
   "source": [
    "np.flip(array1)"
   ]
  },
  {
   "cell_type": "code",
   "execution_count": 31,
   "metadata": {},
   "outputs": [
    {
     "data": {
      "text/plain": [
       "array([['onions', 'carrots', 'celery'],\n",
       "       ['apples', 'oranges', 'grapes']], dtype='<U7')"
      ]
     },
     "execution_count": 31,
     "metadata": {},
     "output_type": "execute_result"
    }
   ],
   "source": [
    "shopping_list = [ ['onions','carrots','celery'], ['apples','oranges','grapes'] ] # 2D\n",
    "array = np.array(shopping_list)\n",
    "array"
   ]
  },
  {
   "cell_type": "code",
   "execution_count": 32,
   "metadata": {},
   "outputs": [
    {
     "data": {
      "text/plain": [
       "array([['carrots', 'celery', 'onions'],\n",
       "       ['apples', 'grapes', 'oranges']], dtype='<U7')"
      ]
     },
     "execution_count": 32,
     "metadata": {},
     "output_type": "execute_result"
    }
   ],
   "source": [
    "array.sort()\n",
    "array"
   ]
  },
  {
   "cell_type": "code",
   "execution_count": 33,
   "metadata": {},
   "outputs": [
    {
     "data": {
      "text/plain": [
       "array([['oranges', 'grapes', 'apples'],\n",
       "       ['onions', 'celery', 'carrots']], dtype='<U7')"
      ]
     },
     "execution_count": 33,
     "metadata": {},
     "output_type": "execute_result"
    }
   ],
   "source": [
    "np.flip(array)"
   ]
  },
  {
   "cell_type": "code",
   "execution_count": 34,
   "metadata": {
    "slideshow": {
     "slide_type": "fragment"
    }
   },
   "outputs": [
    {
     "name": "stdout",
     "output_type": "stream",
     "text": [
      "[0 0 0 0 0 0 1 1 1 1 1 1]\n",
      "[[0 0 0 0 0 0]\n",
      " [1 1 1 1 1 1]]\n",
      "(12,)\n",
      "(2, 6)\n"
     ]
    }
   ],
   "source": [
    "# Juntar dos arrays\n",
    "a1 = [0,0,0,0,0,0]\n",
    "a2 = [1,1,1,1,1,1]\n",
    "print(np.hstack((a1,a2))) # una al lado de la otra\n",
    "print(np.vstack((a1,a2))) # una encima de la otra\n",
    "\n",
    "print(np.hstack((a1,a2)).shape)\n",
    "print(np.vstack((a1,a2)).shape)"
   ]
  },
  {
   "cell_type": "code",
   "execution_count": 35,
   "metadata": {
    "slideshow": {
     "slide_type": "fragment"
    }
   },
   "outputs": [
    {
     "name": "stdout",
     "output_type": "stream",
     "text": [
      "[[ 0  1  2  3]\n",
      " [ 4  5  6  7]\n",
      " [ 8  9 10 11]\n",
      " [12 13 14 15]]\n",
      "[array([[0, 1, 2, 3],\n",
      "       [4, 5, 6, 7]]), array([[ 8,  9, 10, 11],\n",
      "       [12, 13, 14, 15]])]\n",
      "[array([[0, 1, 2, 3],\n",
      "       [4, 5, 6, 7]]), array([[ 8,  9, 10, 11]]), array([[12, 13, 14, 15]])]\n"
     ]
    }
   ],
   "source": [
    "# dividir un array\n",
    "array = np.arange(16).reshape(4,4)\n",
    "print(array)\n",
    "print(np.array_split(array,2)) # divide array en 2 partes iguales\n",
    "print(np.array_split(array,3)) # divide array en 3 partes \"iguales\""
   ]
  },
  {
   "cell_type": "code",
   "execution_count": 36,
   "metadata": {
    "scrolled": true,
    "slideshow": {
     "slide_type": "fragment"
    }
   },
   "outputs": [
    {
     "name": "stdout",
     "output_type": "stream",
     "text": [
      "[[ 0  1  2  3]\n",
      " [ 4  5  6  7]\n",
      " [ 8  9 10 11]\n",
      " [12 13 14 15]]\n",
      "[array([[0, 1, 2, 3]]), array([[4, 5, 6, 7]]), array([[ 8,  9, 10, 11]]), array([[12, 13, 14, 15]])]\n"
     ]
    }
   ],
   "source": [
    "# dividir un array\n",
    "array = np.arange(16).reshape(4,4)\n",
    "print(array)\n",
    "print(np.array_split(array,[1,2,3], axis = 0)) # divide array, por la fila 3"
   ]
  },
  {
   "cell_type": "code",
   "execution_count": 37,
   "metadata": {
    "slideshow": {
     "slide_type": "fragment"
    }
   },
   "outputs": [
    {
     "name": "stdout",
     "output_type": "stream",
     "text": [
      "[[ 0  1  2  3  4  5  6  7]\n",
      " [ 8  9 10 11 12 13 14 15]\n",
      " [16 17 18 19 20 21 22 23]\n",
      " [24 25 26 27 28 29 30 31]\n",
      " [32 33 34 35 36 37 38 39]\n",
      " [40 41 42 43 44 45 46 47]\n",
      " [48 49 50 51 52 53 54 55]\n",
      " [56 57 58 59 60 61 62 63]]\n",
      "[array([[0, 1, 2, 3, 4, 5, 6, 7]]), array([[ 8,  9, 10, 11, 12, 13, 14, 15],\n",
      "       [16, 17, 18, 19, 20, 21, 22, 23]]), array([[24, 25, 26, 27, 28, 29, 30, 31],\n",
      "       [32, 33, 34, 35, 36, 37, 38, 39],\n",
      "       [40, 41, 42, 43, 44, 45, 46, 47],\n",
      "       [48, 49, 50, 51, 52, 53, 54, 55],\n",
      "       [56, 57, 58, 59, 60, 61, 62, 63]])]\n",
      "[array([[ 0],\n",
      "       [ 8],\n",
      "       [16],\n",
      "       [24],\n",
      "       [32],\n",
      "       [40],\n",
      "       [48],\n",
      "       [56]]), array([[ 1,  2],\n",
      "       [ 9, 10],\n",
      "       [17, 18],\n",
      "       [25, 26],\n",
      "       [33, 34],\n",
      "       [41, 42],\n",
      "       [49, 50],\n",
      "       [57, 58]]), array([[ 3,  4,  5,  6,  7],\n",
      "       [11, 12, 13, 14, 15],\n",
      "       [19, 20, 21, 22, 23],\n",
      "       [27, 28, 29, 30, 31],\n",
      "       [35, 36, 37, 38, 39],\n",
      "       [43, 44, 45, 46, 47],\n",
      "       [51, 52, 53, 54, 55],\n",
      "       [59, 60, 61, 62, 63]])]\n"
     ]
    }
   ],
   "source": [
    "array = np.arange(64).reshape(8,8)\n",
    "print(array)\n",
    "print(np.array_split(array, [1, 3], axis = 0))  # divide array por la fila 1 y 2\n",
    "\n",
    "print(np.array_split(array, [1, 3], axis = 1))  # divide array por la columna 1 y 2\n",
    "# axis = n_dimensions - 1"
   ]
  },
  {
   "cell_type": "code",
   "execution_count": 38,
   "metadata": {},
   "outputs": [
    {
     "name": "stdout",
     "output_type": "stream",
     "text": [
      "[51 52 53 54 55]\n"
     ]
    }
   ],
   "source": [
    "cosa2 = np.array_split(array, [1, 3], axis = 1)\n",
    "\n",
    "print(cosa2[2][6])"
   ]
  },
  {
   "cell_type": "markdown",
   "metadata": {
    "slideshow": {
     "slide_type": "slide"
    }
   },
   "source": [
    "# Índices y slicing\n",
    "- De manera análoga a índices y slicing para listas"
   ]
  },
  {
   "cell_type": "code",
   "execution_count": 39,
   "metadata": {
    "slideshow": {
     "slide_type": "fragment"
    }
   },
   "outputs": [
    {
     "name": "stdout",
     "output_type": "stream",
     "text": [
      "[10 11 12 13 14 15]\n",
      "12\n",
      "[10 11 12 13 14]\n"
     ]
    }
   ],
   "source": [
    "array = np.arange(10, 16)\n",
    "print(array)\n",
    "print(array[2])    # acceso unidimensional\n",
    "print(array[:-1])  # slice"
   ]
  },
  {
   "cell_type": "code",
   "execution_count": 40,
   "metadata": {
    "slideshow": {
     "slide_type": "fragment"
    }
   },
   "outputs": [
    {
     "name": "stdout",
     "output_type": "stream",
     "text": [
      "[[ 0  1  2  3]\n",
      " [ 4  5  6  7]\n",
      " [ 8  9 10 11]\n",
      " [12 13 14 15]]\n",
      "10\n"
     ]
    }
   ],
   "source": [
    "# bidimensional\n",
    "array = np.arange(16).reshape(4,4)\n",
    "print(array)\n",
    "print(array[2, 2]) # fila, columna"
   ]
  },
  {
   "cell_type": "code",
   "execution_count": 41,
   "metadata": {
    "slideshow": {
     "slide_type": "fragment"
    }
   },
   "outputs": [
    {
     "name": "stdout",
     "output_type": "stream",
     "text": [
      "[[[ 0  1  2  3  4  5]\n",
      "  [ 6  7  8  9 10 11]\n",
      "  [12 13 14 15 16 17]]\n",
      "\n",
      " [[18 19 20 21 22 23]\n",
      "  [24 25 26 27 28 29]\n",
      "  [30 31 32 33 34 35]]]\n",
      "34\n"
     ]
    }
   ],
   "source": [
    "# multidimensional\n",
    "array = np.arange(36).reshape(2,3,6)\n",
    "print(array)\n",
    "print(array[1,2,4])"
   ]
  },
  {
   "cell_type": "code",
   "execution_count": 45,
   "metadata": {},
   "outputs": [],
   "source": [
    "lista = [[[ 0 ,1,  2,  3,  4,  5],\n",
    "  [ 6,  7,  8,  9, 10, 11],\n",
    "  [12, 13, 14, 15, 16, 17]],\n",
    "\n",
    " [[18, 19, 20, 21, 22, 23],\n",
    "  [24, 25, 26, 27, 28, 29],\n",
    "  [30, 31, 32, 33, 34, 35]]]"
   ]
  },
  {
   "cell_type": "code",
   "execution_count": 42,
   "metadata": {},
   "outputs": [],
   "source": [
    "array[1,2,4] = 75"
   ]
  },
  {
   "cell_type": "code",
   "execution_count": 43,
   "metadata": {},
   "outputs": [
    {
     "data": {
      "text/plain": [
       "array([[[ 0,  1,  2,  3,  4,  5],\n",
       "        [ 6,  7,  8,  9, 10, 11],\n",
       "        [12, 13, 14, 15, 16, 17]],\n",
       "\n",
       "       [[18, 19, 20, 21, 22, 23],\n",
       "        [24, 25, 26, 27, 28, 29],\n",
       "        [30, 31, 32, 33, 75, 35]]])"
      ]
     },
     "execution_count": 43,
     "metadata": {},
     "output_type": "execute_result"
    }
   ],
   "source": [
    "array"
   ]
  },
  {
   "cell_type": "code",
   "execution_count": 46,
   "metadata": {},
   "outputs": [
    {
     "data": {
      "text/plain": [
       "34"
      ]
     },
     "execution_count": 46,
     "metadata": {},
     "output_type": "execute_result"
    }
   ],
   "source": [
    "lista[1][2][4]"
   ]
  },
  {
   "cell_type": "code",
   "execution_count": 47,
   "metadata": {},
   "outputs": [
    {
     "data": {
      "text/plain": [
       "array([[[ 0,  1,  2,  3,  4,  5],\n",
       "        [ 6,  7,  8,  9, 10, 11],\n",
       "        [12, 13, 14, 15, 16, 17]],\n",
       "\n",
       "       [[18, 19, 20, 21, 22, 23],\n",
       "        [24, 25, 26, 27, 28, 29],\n",
       "        [30, 31, 32, 33, 75, 35]]])"
      ]
     },
     "execution_count": 47,
     "metadata": {},
     "output_type": "execute_result"
    }
   ],
   "source": [
    "array"
   ]
  },
  {
   "cell_type": "markdown",
   "metadata": {
    "slideshow": {
     "slide_type": "subslide"
    }
   },
   "source": [
    "#### NumPy es row major"
   ]
  },
  {
   "cell_type": "code",
   "execution_count": 48,
   "metadata": {},
   "outputs": [
    {
     "name": "stdout",
     "output_type": "stream",
     "text": [
      "[[1 2 3]\n",
      " [4 5 6]]\n"
     ]
    }
   ],
   "source": [
    "row_major = np.array([1, 2, 3, 4, 5, 6])\n",
    "row_major = row_major.reshape(2,3)\n",
    "print(row_major)"
   ]
  },
  {
   "cell_type": "code",
   "execution_count": 49,
   "metadata": {},
   "outputs": [
    {
     "name": "stdout",
     "output_type": "stream",
     "text": [
      "[[1 3 5]\n",
      " [2 4 6]]\n"
     ]
    }
   ],
   "source": [
    "row_major = np.array([1, 2, 3, 4, 5, 6])\n",
    "row_major = row_major.reshape(2,3, order='F')  # col major\n",
    "print(row_major)"
   ]
  },
  {
   "cell_type": "code",
   "execution_count": 50,
   "metadata": {},
   "outputs": [
    {
     "name": "stdout",
     "output_type": "stream",
     "text": [
      "[[1 2 3]\n",
      " [4 5 6]]\n"
     ]
    }
   ],
   "source": [
    "row_major = np.array([1, 2, 3, 4, 5, 6])\n",
    "row_major = row_major.reshape(2,3, order='C')  # by default, row major\n",
    "print(row_major)"
   ]
  },
  {
   "cell_type": "code",
   "execution_count": 51,
   "metadata": {
    "slideshow": {
     "slide_type": "fragment"
    }
   },
   "outputs": [
    {
     "name": "stdout",
     "output_type": "stream",
     "text": [
      "[[1 2 3]\n",
      " [4 5 6]]\n",
      "[[1 3 5]\n",
      " [2 4 6]]\n"
     ]
    }
   ],
   "source": [
    "row_major = np.array([1, 2, 3, 4, 5, 6])\n",
    "row_major = row_major.reshape(2,3,order='C')  # by default, row major\n",
    "print(row_major)\n",
    "\n",
    "col_major = np.array([1, 2, 3, 4, 5, 6])\n",
    "col_major = col_major.reshape(2,3,order='F')  # col major\n",
    "print(col_major)"
   ]
  },
  {
   "cell_type": "markdown",
   "metadata": {
    "slideshow": {
     "slide_type": "subslide"
    }
   },
   "source": [
    "#### Slice"
   ]
  },
  {
   "cell_type": "code",
   "execution_count": 52,
   "metadata": {
    "slideshow": {
     "slide_type": "fragment"
    }
   },
   "outputs": [
    {
     "name": "stdout",
     "output_type": "stream",
     "text": [
      "[[ 0  1  2  3  4  5  6  7  8]\n",
      " [ 9 10 11 12 13 14 15 16 17]\n",
      " [18 19 20 21 22 23 24 25 26]\n",
      " [27 28 29 30 31 32 33 34 35]\n",
      " [36 37 38 39 40 41 42 43 44]\n",
      " [45 46 47 48 49 50 51 52 53]\n",
      " [54 55 56 57 58 59 60 61 62]\n",
      " [63 64 65 66 67 68 69 70 71]\n",
      " [72 73 74 75 76 77 78 79 80]]\n",
      "[50 59 68 77]\n"
     ]
    }
   ],
   "source": [
    "# se puede hacer slice por fila o columna\n",
    "array = np.arange(81).reshape(9,9)\n",
    "print(array)\n",
    "print(array[5:,5])"
   ]
  },
  {
   "cell_type": "code",
   "execution_count": 53,
   "metadata": {
    "slideshow": {
     "slide_type": "fragment"
    }
   },
   "outputs": [
    {
     "name": "stdout",
     "output_type": "stream",
     "text": [
      "[[0 1 2]\n",
      " [3 4 5]\n",
      " [6 7 8]]\n",
      "[[1 2]\n",
      " [4 5]]\n"
     ]
    }
   ],
   "source": [
    "# se puede hacer slice por fila o columna\n",
    "array = np.arange(9).reshape(3,3)\n",
    "print(array)\n",
    "print(array[0:2,1:])"
   ]
  },
  {
   "cell_type": "markdown",
   "metadata": {
    "slideshow": {
     "slide_type": "subslide"
    }
   },
   "source": [
    "#### Diferencias entre índices y slicing en listas y ndarrays:\n",
    "- ¡Retornan una referencia, no una copia!"
   ]
  },
  {
   "cell_type": "code",
   "execution_count": 54,
   "metadata": {
    "slideshow": {
     "slide_type": "fragment"
    }
   },
   "outputs": [
    {
     "name": "stdout",
     "output_type": "stream",
     "text": [
      "[0, 1]\n",
      "[0, 1, 2, 3, 4, 5, 6, 7, 8, 9]\n",
      "[222, 1]\n"
     ]
    }
   ],
   "source": [
    "# uso de slice en listas, retorna copia\n",
    "lista = [0,1,2,3,4,5,6,7,8,9]\n",
    "my_copy = lista[0:2]  # devuelve una copia\n",
    "print(my_copy)\n",
    "my_copy[0] = 222\n",
    "print(lista)\n",
    "print(my_copy)"
   ]
  },
  {
   "cell_type": "code",
   "execution_count": 55,
   "metadata": {
    "slideshow": {
     "slide_type": "fragment"
    }
   },
   "outputs": [
    {
     "name": "stdout",
     "output_type": "stream",
     "text": [
      "[0 1 2 3 4 5 6 7 8 9]\n",
      "[2 3 4]\n",
      "[  0   1 222   3   4   5   6   7   8   9]\n",
      "[222   3   4]\n"
     ]
    }
   ],
   "source": [
    "# slicing retorna una referencia en ndarrays\n",
    "array = np.arange(10)\n",
    "my_copy = array[2:5]  # devuelve una referencia\n",
    "print(array)\n",
    "print(my_copy)\n",
    "my_copy[0] = 222\n",
    "print(array)\n",
    "print(my_copy)"
   ]
  },
  {
   "cell_type": "code",
   "execution_count": 56,
   "metadata": {
    "slideshow": {
     "slide_type": "fragment"
    }
   },
   "outputs": [
    {
     "name": "stdout",
     "output_type": "stream",
     "text": [
      "[0 1 2 3 4 5 6 7 8 9]\n",
      "[222   3   4]\n"
     ]
    }
   ],
   "source": [
    "# copiar ndarrays\n",
    "array = np.arange(10)\n",
    "my_copy = array[2:5].copy()  # hay que hacer la copia explicitamente\n",
    "my_copy[0] = 222\n",
    "print(array)\n",
    "print(my_copy)"
   ]
  },
  {
   "cell_type": "code",
   "execution_count": 57,
   "metadata": {},
   "outputs": [
    {
     "name": "stdout",
     "output_type": "stream",
     "text": [
      "[[0 1 2]\n",
      " [3 4 5]\n",
      " [6 7 8]]\n",
      "[[0]\n",
      " [3]\n",
      " [6]]\n",
      "(3, 1)\n",
      "(3, 3)\n"
     ]
    }
   ],
   "source": [
    "array = np.arange(9).reshape(3,3)\n",
    "\n",
    "print(array)\n",
    "\n",
    "array2 = array[:,0].reshape(3,1)\n",
    "\n",
    "print(array2)\n",
    "\n",
    "print(array2.shape)\n",
    "\n",
    "print(array.shape)"
   ]
  },
  {
   "cell_type": "markdown",
   "metadata": {
    "slideshow": {
     "slide_type": "subslide"
    }
   },
   "source": [
    "- Permite asignar valores a un corte"
   ]
  },
  {
   "cell_type": "code",
   "execution_count": 58,
   "metadata": {
    "slideshow": {
     "slide_type": "fragment"
    }
   },
   "outputs": [
    {
     "name": "stdout",
     "output_type": "stream",
     "text": [
      "[0 1 2 3 4 5 6 7 8 9]\n",
      "[-1 -1 -1  3  4  5  6  7  8  9]\n"
     ]
    }
   ],
   "source": [
    "array = np.arange(10)\n",
    "print(array)\n",
    "array[0:3] = -1\n",
    "print(array)"
   ]
  },
  {
   "cell_type": "markdown",
   "metadata": {
    "slideshow": {
     "slide_type": "subslide"
    }
   },
   "source": [
    "- Slicing condicionales (mask)"
   ]
  },
  {
   "cell_type": "code",
   "execution_count": 59,
   "metadata": {},
   "outputs": [
    {
     "name": "stdout",
     "output_type": "stream",
     "text": [
      "[-3 -2 -1  0  1  2  3]\n"
     ]
    }
   ],
   "source": [
    "array = np.arange(-3,4)\n",
    "print(array)"
   ]
  },
  {
   "cell_type": "code",
   "execution_count": 60,
   "metadata": {
    "slideshow": {
     "slide_type": "fragment"
    }
   },
   "outputs": [
    {
     "name": "stdout",
     "output_type": "stream",
     "text": [
      "[-3 -2 -1  0  1  2  3]\n",
      "[ True  True  True False False False False]\n",
      "[-3 -2 -1]\n",
      "[0 0 0 0 1 2 3]\n"
     ]
    }
   ],
   "source": [
    "# slicing condicional\n",
    "array = np.arange(-3,4)\n",
    "print(array)\n",
    "\n",
    "mask = array < 0\n",
    "print(mask)\n",
    "\n",
    "print(array[mask])\n",
    "\n",
    "array[mask] = 0\n",
    "print(array)"
   ]
  },
  {
   "cell_type": "code",
   "execution_count": 61,
   "metadata": {},
   "outputs": [
    {
     "data": {
      "text/plain": [
       "array([-3, -2, -1,  0,  1,  2,  3])"
      ]
     },
     "execution_count": 61,
     "metadata": {},
     "output_type": "execute_result"
    }
   ],
   "source": [
    "np.arange(-3,4)"
   ]
  },
  {
   "cell_type": "code",
   "execution_count": 62,
   "metadata": {},
   "outputs": [
    {
     "name": "stdout",
     "output_type": "stream",
     "text": [
      "[-3 -2 -1  0  1  2  3]\n",
      "[False  True False  True False  True False]\n",
      "[-2  0  2]\n",
      "[-3 -2 -1  0  1  2  3]\n",
      "[-10   0   2]\n"
     ]
    }
   ],
   "source": [
    "# slicing condicional\n",
    "array = np.arange(-3,4)\n",
    "print(array)\n",
    "mask = array % 2 == 0\n",
    "print(mask)\n",
    "\n",
    "array_par = array[mask]  # devuelve una copia\n",
    "print(array_par)\n",
    "\n",
    "array_par[0] = -10\n",
    "print(array)\n",
    "print(array_par)"
   ]
  },
  {
   "cell_type": "code",
   "execution_count": 63,
   "metadata": {
    "slideshow": {
     "slide_type": "fragment"
    }
   },
   "outputs": [
    {
     "name": "stdout",
     "output_type": "stream",
     "text": [
      "[False  True False  True False  True False]\n",
      "[-3 -2 -1  0  1  2  3]\n",
      "[-2  0  2]\n",
      "[-3 10 -1 10  1 10  3]\n",
      "[False  True False  True False  True False]\n",
      "[-3  0 -1  0  1  0  3]\n"
     ]
    }
   ],
   "source": [
    "# slicing condicional\n",
    "array = np.arange(-3,4)\n",
    "mask = array % 2 == 0\n",
    "print(mask)\n",
    "print(array)\n",
    "print(array[mask])\n",
    "\n",
    "array[mask] = 10 # ??\n",
    "print(array)\n",
    "\n",
    "mask = array == 10\n",
    "print(mask)\n",
    "array[mask] = 0 # ??\n",
    "print(array)"
   ]
  },
  {
   "cell_type": "markdown",
   "metadata": {
    "slideshow": {
     "slide_type": "subslide"
    }
   },
   "source": [
    "- Acceso a múltiples valores con listados de índices"
   ]
  },
  {
   "cell_type": "code",
   "execution_count": 64,
   "metadata": {
    "slideshow": {
     "slide_type": "fragment"
    }
   },
   "outputs": [
    {
     "name": "stdout",
     "output_type": "stream",
     "text": [
      "[-10  -9  -8  -7  -6  -5  -4  -3  -2  -1]\n",
      "[-8 -7 -9]\n",
      "[-8 -7 -9]\n",
      "[999  -7  -9]\n",
      "[-10  -9  -8  -7  -6  -5  -4  -3  -2  -1]\n"
     ]
    }
   ],
   "source": [
    "array = np.arange(-10,0)\n",
    "print(array)\n",
    "print(array[[2,3,1]])\n",
    "\n",
    "ar = array[[2,3,1]]\n",
    "print(ar)\n",
    "ar[0] = 999\n",
    "print(ar)\n",
    "print(array)"
   ]
  },
  {
   "cell_type": "markdown",
   "metadata": {
    "slideshow": {
     "slide_type": "slide"
    }
   },
   "source": [
    "# Funciones matemáticas\n",
    "- Aplicar operaciones entre escalares y arrays o entre arrays"
   ]
  },
  {
   "cell_type": "code",
   "execution_count": 70,
   "metadata": {
    "slideshow": {
     "slide_type": "fragment"
    }
   },
   "outputs": [
    {
     "name": "stdout",
     "output_type": "stream",
     "text": [
      "[0, 1, 2, 3, 0, 1, 2, 3, 0, 1, 2, 3]\n",
      "[0, 1, 2, 3, 0, 1, 2, 3, 0, 1, 2, 3, 1]\n"
     ]
    }
   ],
   "source": [
    "# listas y escalares\n",
    "lista = [0,1,2,3]\n",
    "lista *= 3\n",
    "print(lista)\n",
    "lista = lista + [1]\n",
    "print(lista)"
   ]
  },
  {
   "cell_type": "code",
   "execution_count": 66,
   "metadata": {
    "slideshow": {
     "slide_type": "fragment"
    }
   },
   "outputs": [
    {
     "name": "stdout",
     "output_type": "stream",
     "text": [
      "[2. 2. 2. 2.]\n",
      "[12. 12. 12. 12.]\n"
     ]
    }
   ],
   "source": [
    "# ndarray hace las operaciones sobre los elementos\n",
    "array = np.ones(4) * 2\n",
    "print(array)\n",
    "array += 10\n",
    "print(array)"
   ]
  },
  {
   "cell_type": "code",
   "execution_count": 71,
   "metadata": {
    "slideshow": {
     "slide_type": "fragment"
    }
   },
   "outputs": [
    {
     "name": "stdout",
     "output_type": "stream",
     "text": [
      "[2. 2. 2. 2.]\n",
      "[1 2 3 4]\n",
      "[3. 4. 5. 6.]\n",
      "[ 1.  0. -1. -2.]\n",
      "[2. 4. 6. 8.]\n",
      "[2.         1.         0.66666667 0.5       ]\n"
     ]
    }
   ],
   "source": [
    "# operaciones entre arrays es como operaciones entre matrices\n",
    "array_1 = np.ones(4) * 2\n",
    "array_2 = np.arange(4) + 1\n",
    "\n",
    "print(array_1)\n",
    "print(array_2)\n",
    "\n",
    "print(array_1 + array_2)\n",
    "print(array_1 - array_2)\n",
    "print(array_1 * array_2)\n",
    "print(array_1 / array_2)"
   ]
  },
  {
   "cell_type": "code",
   "execution_count": null,
   "metadata": {},
   "outputs": [],
   "source": [
    "[0, 0, 1,2,3,4]\n",
    "\n",
    "[2,4,6,8,9,8]"
   ]
  },
  {
   "cell_type": "markdown",
   "metadata": {
    "slideshow": {
     "slide_type": "fragment"
    }
   },
   "source": [
    "Si las arrays no tienen las mismas dimensiones --> [broadcasting](https://docs.scipy.org/doc/numpy-1.13.0/user/basics.broadcasting.html)\n",
    "- Restricciones"
   ]
  },
  {
   "cell_type": "markdown",
   "metadata": {
    "slideshow": {
     "slide_type": "subslide"
    }
   },
   "source": [
    "## Operadores unarios y binarios\n",
    "\n",
    "| Tipo | Operación | Descripción |\n",
    "|:---------|:-----|:-----|\n",
    "| Unario | *abs* | Valor absoluto de cada elemento |\n",
    "| | *sqrt* | Raíz cuadrada de cada elemento |\n",
    "| | *exp* | e^x, siendo x cad elemento |\n",
    "| | *log, log10, log2* | Logaritmos en distintas bases de cada elemento |\n",
    "| | *sign* | Retorna el signo de cada elemento (-1 para negativo, 0 o 1 para positivo) |\n",
    "| | *ceil* | Redondea cada elemento por arriba |\n",
    "| | *floor* | Redondea cada elemento por abajo |\n",
    "| | *isnan* | Retorna si cada elemento es Nan |\n",
    "| | *cos, sin, tan* | Operaciones trigonométricas en cada elemento |\n",
    "| | *arccos, arcsin, arctan* | Inversas de operaciones trigonométricas en cada elemento |\n",
    "| Binario | *add* | Suma de dos arrays |\n",
    "| | *substract* | Resta de dos arrays |\n",
    "| | *multiply* | Multiplicación de dos arrays |\n",
    "| | *divide* | División de dos arrays |\n",
    "| | *maximum, minimum* | Retorna el valor máximo/mínimo de cada pareja de elementos |\n",
    "| | *equal, not_equal* | Retorna la comparación (igual o no igual) de cada pareja de elementos |\n",
    "| | *greater, greater_equal, less, less_equal* | Retorna la comparación (>, >=, <, <= respectivamente) de cada pareja de elementos |"
   ]
  },
  {
   "cell_type": "code",
   "execution_count": 72,
   "metadata": {
    "slideshow": {
     "slide_type": "subslide"
    }
   },
   "outputs": [
    {
     "data": {
      "text/plain": [
       "array([0.        , 1.        , 1.41421356, 1.73205081, 2.        ])"
      ]
     },
     "execution_count": 72,
     "metadata": {},
     "output_type": "execute_result"
    }
   ],
   "source": [
    "# ejemplos de operadores\n",
    "array = np.arange(5)\n",
    "np.sqrt(array)"
   ]
  },
  {
   "cell_type": "code",
   "execution_count": 75,
   "metadata": {
    "slideshow": {
     "slide_type": "fragment"
    }
   },
   "outputs": [
    {
     "name": "stdout",
     "output_type": "stream",
     "text": [
      "[0 1 2 3]\n",
      "[ 0 -1  2 -3]\n",
      "[False  True False  True]\n",
      "[False False False False]\n"
     ]
    }
   ],
   "source": [
    "# ejemplos de operadores\n",
    "array1 = np.arange(4)\n",
    "print(array1)\n",
    "array2 = np.array([0,-1,2,-3])\n",
    "print(array2)\n",
    "print(np.greater(array1,array2))\n",
    "\n",
    "print(np.less(array1, array2))"
   ]
  },
  {
   "cell_type": "markdown",
   "metadata": {
    "slideshow": {
     "slide_type": "slide"
    }
   },
   "source": [
    "# Estadística descriptiva\n",
    "- Importante saber la naturaleza de los datos\n",
    "- Valores máximos, mínimos, distribución, etc.\n",
    "\n",
    "| Función | Descripción |\n",
    "|:---------|:-----|\n",
    "| *sum(arr)* | Suma de todos los elementos de *arr* |\n",
    "| *mean(arr)* | Media aritmética de los elementos de *arr* |\n",
    "| *std(arr)* | Desviación estándar de los elementos de *arr* |\n",
    "| *cumsum(arr)* | Devuelve array con la suma acumulada de cada elementos con todos los anteriores |\n",
    "| *cumprod(arr)* | Devuelve array con el producto acumulado de cada elementos con todos los anteriores |\n",
    "| *min(arr), max(arr)* | Mínimo y máximo de *arr* |\n",
    "| *any(arr)* | En array de tipo *bool*, retorna *True* si algún elemento es *True* |\n",
    "| *all(arr)* | En array de tipo *bool*, retorna *True* si todos los elementos son *True* (o >0 en valores numéricos) |\n",
    "| *unique(arr)* | Devuelve un array con valores únicos |\n",
    "| *in1d(arr1, arr2)* | Devuelve un array con bool indicando si cada elemento de *arr1* está en *arr2* |\n",
    "| *union1d(arr1, arr2)* | Devuelve la unión de ambos arrays |\n",
    "| *intersect1d(arr1, arr2)* | Devuelve la intersección de ambos arrays |"
   ]
  },
  {
   "cell_type": "code",
   "execution_count": 76,
   "metadata": {
    "slideshow": {
     "slide_type": "subslide"
    }
   },
   "outputs": [
    {
     "name": "stdout",
     "output_type": "stream",
     "text": [
      "[0 1 2 3 4 5 6 7 8]\n",
      "36\n",
      "[ 0  1  3  6 10 15 21 28 36]\n"
     ]
    }
   ],
   "source": [
    "# sum != cumsum\n",
    "array1 = np.arange(9)\n",
    "print(array1)\n",
    "print(array1.sum())\n",
    "print(array1.cumsum())"
   ]
  },
  {
   "cell_type": "code",
   "execution_count": 77,
   "metadata": {
    "slideshow": {
     "slide_type": "fragment"
    }
   },
   "outputs": [
    {
     "name": "stdout",
     "output_type": "stream",
     "text": [
      "[[0 1 2 3 4]\n",
      " [5 6 7 8 9]]\n",
      "True\n",
      "False\n"
     ]
    }
   ],
   "source": [
    "# any vs all\n",
    "array1 = np.arange(10).reshape(2,5)\n",
    "print(array1)\n",
    "print(array1.any()) # any para saber si hay elementos True o valores > 0\n",
    "print(array1.all()) # all para saber si TODOS los elementos son True o valores > 0"
   ]
  },
  {
   "cell_type": "code",
   "execution_count": 78,
   "metadata": {},
   "outputs": [
    {
     "name": "stdout",
     "output_type": "stream",
     "text": [
      "[[1. 1. 1. 1. 1.]\n",
      " [1. 1. 1. 1. 1.]]\n",
      "True\n",
      "True\n"
     ]
    }
   ],
   "source": [
    "array1 = np.ones(10).reshape(2,5)\n",
    "print(array1)\n",
    "print(array1.any())\n",
    "print(array1.all())"
   ]
  },
  {
   "cell_type": "code",
   "execution_count": 79,
   "metadata": {
    "slideshow": {
     "slide_type": "fragment"
    }
   },
   "outputs": [
    {
     "name": "stdout",
     "output_type": "stream",
     "text": [
      "[[0 1]\n",
      " [2 3]\n",
      " [4 5]\n",
      " [6 7]\n",
      " [8 9]]\n",
      "[False  True]\n",
      "[False  True  True  True  True]\n",
      "False\n"
     ]
    }
   ],
   "source": [
    "# todas las funciones aceptan parametro 'axis' \n",
    "# 0 para columnas, 1 para filas, 2 para profundidad...\n",
    "array1 = np.arange(10).reshape(5,2)\n",
    "print(array1)\n",
    "print(array1.all(axis=0))\n",
    "print(array1.all(axis=1))\n",
    "print(array1.all())"
   ]
  },
  {
   "cell_type": "markdown",
   "metadata": {
    "slideshow": {
     "slide_type": "slide"
    }
   },
   "source": [
    "# Álgebra lineal\n",
    "- numpy.linalg contiene funciones para álgebra lineal\n",
    "- dot product, multipliacción de matrices, cálculo del determinante, factorizaciones..."
   ]
  },
  {
   "cell_type": "markdown",
   "metadata": {
    "slideshow": {
     "slide_type": "fragment"
    }
   },
   "source": [
    "\n",
    "| Función | Descripción |\n",
    "|:---------|:-----|\n",
    "| *dot(mat1, mat2)* | Devuelve el producto escalar entre dos arrays. Si son matrices 2D, es equivalente a la multiplicación de ambas |\n",
    "| *matmul(mat1, mat2)* | Devuelve el producto entre dos matrices |\n",
    "| *trace(mat1, mat2)* | Suma de las diagonales de ambas matrices |\n",
    "| *det(mat)* | Devuelve el determinante de la matriz |\n",
    "| *eig(mat)* | Computa los autovalores y autovectores de la matriz cuadrada *mat* |\n",
    "| *inv(mat)* | Devuelve la inversa de la matriz |\n",
    "| *qr(mat)* | Computa la factorización QR de *mat* |\n",
    "| *solve(A, b)* | Resuelve el sistema lineal de ecuaciones *Ax = b* para *b*, cuando *A* es una matriz cuadrada |"
   ]
  },
  {
   "cell_type": "code",
   "execution_count": 80,
   "metadata": {
    "slideshow": {
     "slide_type": "subslide"
    }
   },
   "outputs": [
    {
     "name": "stdout",
     "output_type": "stream",
     "text": [
      "[[ 0  1  2]\n",
      " [ 3  4  5]\n",
      " [ 6  7  8]\n",
      " [ 9 10 11]]\n",
      "[[0 1 2]\n",
      " [3 4 5]\n",
      " [6 7 8]]\n",
      "[[ 15  18  21]\n",
      " [ 42  54  66]\n",
      " [ 69  90 111]\n",
      " [ 96 126 156]]\n",
      "[[ 15  18  21]\n",
      " [ 42  54  66]\n",
      " [ 69  90 111]\n",
      " [ 96 126 156]]\n",
      "[[ 15  18  21]\n",
      " [ 42  54  66]\n",
      " [ 69  90 111]\n",
      " [ 96 126 156]]\n"
     ]
    }
   ],
   "source": [
    "A = np.arange(12).reshape(4,3)\n",
    "B = np.arange(9).reshape(3,3)\n",
    "\n",
    "print(A)\n",
    "print(B)\n",
    "\n",
    "print(np.matmul(A,B))\n",
    "print(np.dot(A, B))\n",
    "print(A @ B)"
   ]
  },
  {
   "cell_type": "code",
   "execution_count": 81,
   "metadata": {
    "slideshow": {
     "slide_type": "fragment"
    }
   },
   "outputs": [
    {
     "name": "stdout",
     "output_type": "stream",
     "text": [
      "[[ 3  2  5]\n",
      " [ 1 -3 -1]\n",
      " [ 2 -1 12]]\n",
      "[12  2 32]\n",
      "x=0.7543859649122807, y=-1.2280701754385965 z=  2.43859649122807\n"
     ]
    }
   ],
   "source": [
    "import numpy.linalg as linalg\n",
    "\n",
    "# resolver sistema de ecuaciones\n",
    "# 3x + 2y + 5z = 12\n",
    "# x - 3y -z = 2\n",
    "# 2x -y +12z = 32\n",
    "# Ax = b --> resolver para x\n",
    "\n",
    "a = np.array([ [3,2,5],[1,-3,-1],[2,-1,12] ])\n",
    "b  = np.array([12,2,32])\n",
    "\n",
    "print(a)\n",
    "print(b)\n",
    "x, y, z = linalg.solve(a,b)\n",
    "print('x=' + str(x) + ', y=' + str(y), 'z= ', str(z))"
   ]
  },
  {
   "cell_type": "code",
   "execution_count": 85,
   "metadata": {},
   "outputs": [
    {
     "name": "stdout",
     "output_type": "stream",
     "text": [
      "[[1. 0. 0. 0.]\n",
      " [0. 1. 0. 0.]\n",
      " [0. 0. 1. 0.]\n",
      " [0. 0. 0. 1.]]\n"
     ]
    }
   ],
   "source": [
    "#matriz identidad\n",
    "print(np.identity(4))"
   ]
  },
  {
   "cell_type": "markdown",
   "metadata": {
    "slideshow": {
     "slide_type": "slide"
    }
   },
   "source": [
    "# Filtrado de datos\n",
    "- Filtrar y modificar datos numéricos con np.where\n",
    "- Retorna A o B en función de una condición en una array"
   ]
  },
  {
   "cell_type": "code",
   "execution_count": 2,
   "metadata": {},
   "outputs": [
    {
     "name": "stdout",
     "output_type": "stream",
     "text": [
      "[ 0.99 14.49 19.99 20.99  0.49]\n"
     ]
    }
   ],
   "source": [
    "prices = np.array([0.99, 14.49, 19.99, 20.99, 0.49])\n",
    "print(prices)"
   ]
  },
  {
   "cell_type": "code",
   "execution_count": 3,
   "metadata": {},
   "outputs": [],
   "source": [
    "mask = []\n",
    "for i in range(len(prices)):\n",
    "    if prices[i] < 1:\n",
    "        mask.append(True)\n",
    "    else:\n",
    "        mask.append(False)\n",
    "        "
   ]
  },
  {
   "cell_type": "code",
   "execution_count": 4,
   "metadata": {
    "slideshow": {
     "slide_type": "fragment"
    }
   },
   "outputs": [
    {
     "name": "stdout",
     "output_type": "stream",
     "text": [
      "[ True False False False  True]\n",
      "[0.99 0.49]\n",
      "[ 1.   14.49 19.99 20.99  1.  ]\n"
     ]
    }
   ],
   "source": [
    "\n",
    "# mask con los elementos menores de 1\n",
    "mask = np.where(prices < 1, True, False)\n",
    "print(mask)\n",
    "print(prices[mask])\n",
    "\n",
    "print(np.where(prices < 1, 1.0, prices))"
   ]
  },
  {
   "cell_type": "code",
   "execution_count": 89,
   "metadata": {
    "slideshow": {
     "slide_type": "subslide"
    }
   },
   "outputs": [
    {
     "name": "stdout",
     "output_type": "stream",
     "text": [
      "[[ 0.99 -1.49 19.99]\n",
      " [20.99 -0.49 12.1 ]]\n",
      "[[ 0.99  0.   19.99]\n",
      " [20.99  0.   12.1 ]]\n"
     ]
    }
   ],
   "source": [
    "# Se puede usar para sustituir datos fuera de rango\n",
    "bank_transfers_values = np.array([0.99, -1.49, 19.99, 20.99, -0.49, 12.1]).reshape(2, 3)\n",
    "print(bank_transfers_values)\n",
    "clean_data = np.where(bank_transfers_values > 0, bank_transfers_values, 0)\n",
    "print(clean_data)"
   ]
  },
  {
   "cell_type": "code",
   "execution_count": 90,
   "metadata": {
    "slideshow": {
     "slide_type": "fragment"
    }
   },
   "outputs": [
    {
     "name": "stdout",
     "output_type": "stream",
     "text": [
      "[10, 12, -143, nan, 1, -3]\n",
      "[  10.   12. -143.    0.    1.   -3.]\n"
     ]
    }
   ],
   "source": [
    "# limpiar NaN (sustitución)\n",
    "data = [10, 12, -143, np.nan, 1, -3] # np.nan --> NotANumber, elemento especial\n",
    "print(data)\n",
    "data_clean = np.where(np.isnan(data),0, data)\n",
    "print(data_clean)"
   ]
  },
  {
   "cell_type": "code",
   "execution_count": 91,
   "metadata": {},
   "outputs": [
    {
     "data": {
      "text/plain": [
       "array([False, False, False,  True, False, False])"
      ]
     },
     "execution_count": 91,
     "metadata": {},
     "output_type": "execute_result"
    }
   ],
   "source": [
    "np.isnan(data)"
   ]
  },
  {
   "cell_type": "code",
   "execution_count": 92,
   "metadata": {
    "slideshow": {
     "slide_type": "fragment"
    }
   },
   "outputs": [
    {
     "name": "stdout",
     "output_type": "stream",
     "text": [
      "[[ 0.99 -1.49 19.99]\n",
      " [20.99 -0.49 12.1 ]]\n",
      "(array([0, 0, 1, 1], dtype=int64), array([0, 2, 0, 2], dtype=int64))\n",
      "[ 0.99 19.99 20.99 12.1 ]\n"
     ]
    }
   ],
   "source": [
    "# np.where puede seleccionar elementos\n",
    "bank_transfers_values = np.array([0.99, -1.49, 19.99, 20.99, -0.49, 12.1]).reshape(2, 3)\n",
    "credits = np.where(bank_transfers_values > 0) # array de índices para los que la condición es True\n",
    "\n",
    "print(bank_transfers_values)\n",
    "\n",
    "print(credits)\n",
    "print(bank_transfers_values[credits]) # es igual que bank_transfers_values[bank_transfers_values > 0]"
   ]
  },
  {
   "cell_type": "code",
   "execution_count": 93,
   "metadata": {
    "slideshow": {
     "slide_type": "fragment"
    }
   },
   "outputs": [
    {
     "name": "stdout",
     "output_type": "stream",
     "text": [
      "[0 1 2 3 4 5]\n",
      "[ 0 10 20 30 40 50]\n",
      "[0 0 1 6 0 2]\n",
      "[ 0  1  2 30  4 50]\n"
     ]
    }
   ],
   "source": [
    "# valor de array dependiendo del valor en array referencia\n",
    "rewards_default = np.arange(6)\n",
    "print(rewards_default)\n",
    "rewards_upgrade = np.arange(6) * 10\n",
    "print(rewards_upgrade)\n",
    "daily_points = np.array([0, 0, 1, 6, 0, 2])\n",
    "print(daily_points)\n",
    "\n",
    "final_rewards = np.where(daily_points > 1, rewards_upgrade, rewards_default)\n",
    "print(final_rewards)"
   ]
  },
  {
   "cell_type": "markdown",
   "metadata": {
    "slideshow": {
     "slide_type": "slide"
    }
   },
   "source": [
    "# Números aleatorios\n",
    "- Python módulo random"
   ]
  },
  {
   "cell_type": "code",
   "execution_count": 94,
   "metadata": {
    "slideshow": {
     "slide_type": "fragment"
    }
   },
   "outputs": [
    {
     "name": "stdout",
     "output_type": "stream",
     "text": [
      "0.023358016335918497\n",
      "4\n",
      "3.625604406700193\n"
     ]
    }
   ],
   "source": [
    "import random\n",
    "print(random.random()) # número entre 0 y 1\n",
    "print(random.randint(0,5)) # entero entre dos valores\n",
    "print(random.uniform(0,5)) # real entre dos valores"
   ]
  },
  {
   "cell_type": "code",
   "execution_count": 96,
   "metadata": {
    "slideshow": {
     "slide_type": "fragment"
    }
   },
   "outputs": [
    {
     "name": "stdout",
     "output_type": "stream",
     "text": [
      "Mi mejor amiga es: Anna\n"
     ]
    }
   ],
   "source": [
    "# elegir un elemento al azar dentro de una colección\n",
    "names = ['Marta','Anna','Vanesa']\n",
    "random.choice(names)\n",
    "print(f\"Mi mejor amiga es: {random.choice(names)}\")"
   ]
  },
  {
   "cell_type": "markdown",
   "metadata": {
    "slideshow": {
     "slide_type": "subslide"
    }
   },
   "source": [
    "## NumPy.random\n",
    "- Generar fácilmente listas con valores aleatorios"
   ]
  },
  {
   "cell_type": "code",
   "execution_count": 99,
   "metadata": {
    "slideshow": {
     "slide_type": "fragment"
    }
   },
   "outputs": [
    {
     "name": "stdout",
     "output_type": "stream",
     "text": [
      "0.7956127607434924\n",
      "3\n",
      "[[2 3 4 2]\n",
      " [2 2 0 4]]\n"
     ]
    }
   ],
   "source": [
    "print(np.random.rand()) # número entre 0 y 1\n",
    "print(np.random.randint(0,5)) # entero entre dos valores \n",
    "print(np.random.randint(5, size=(2, 4))) # parametro 'size' para indicar las dimensiones)"
   ]
  },
  {
   "cell_type": "code",
   "execution_count": 100,
   "metadata": {},
   "outputs": [
    {
     "name": "stdout",
     "output_type": "stream",
     "text": [
      "[[0. 0. 0. 0.]\n",
      " [0. 0. 0. 0.]]\n"
     ]
    },
    {
     "data": {
      "text/plain": [
       "array([[0., 3., 1., 0.],\n",
       "       [2., 4., 4., 4.]])"
      ]
     },
     "execution_count": 100,
     "metadata": {},
     "output_type": "execute_result"
    }
   ],
   "source": [
    "elemento = np.zeros((2,4))\n",
    "\n",
    "print(elemento)\n",
    "\n",
    "for i in range(0,2):\n",
    "    for j in range(0,4):\n",
    "        elemento[i, j] = np.random.randint(0,5)\n",
    "\n",
    "elemento"
   ]
  },
  {
   "cell_type": "code",
   "execution_count": 101,
   "metadata": {
    "slideshow": {
     "slide_type": "fragment"
    }
   },
   "outputs": [
    {
     "name": "stdout",
     "output_type": "stream",
     "text": [
      "[[ 0.89243269  0.51505107]\n",
      " [ 0.48341022  1.36225558]\n",
      " [ 2.32105266 -0.28077453]\n",
      " [ 1.2139879   2.58693822]]\n"
     ]
    }
   ],
   "source": [
    "# array de elementos aleatorios (distribucion normal gaussiana, media 0, desviación 1)\n",
    "print(np.random.randn(4,2))"
   ]
  },
  {
   "cell_type": "code",
   "execution_count": 102,
   "metadata": {
    "slideshow": {
     "slide_type": "fragment"
    }
   },
   "outputs": [
    {
     "name": "stdout",
     "output_type": "stream",
     "text": [
      "2\n",
      "2.8700400142346947\n",
      "[[2 1]\n",
      " [2 0]]\n"
     ]
    }
   ],
   "source": [
    "# otras distribuciones\n",
    "print(np.random.binomial(n=5, p=0.3)) # 'n' intentos, 'p' probabilidad\n",
    "print(np.random.uniform(low=0, high=10)) # distribución uniforme\n",
    "print(np.random.poisson(lam=2, size=(2,2))) # 'lam' número de ocurrencias esperadas, retornar 'size' valores"
   ]
  },
  {
   "cell_type": "markdown",
   "metadata": {
    "slideshow": {
     "slide_type": "subslide"
    }
   },
   "source": [
    "## Random seed\n",
    "- Números pseudo-aleatorios\n",
    "- Ordenadores generan números a partir de ecuaciones\n",
    "- Basadas en un número inicial (seed)\n",
    "- Bueno para reproducibilidad de experimentos"
   ]
  },
  {
   "cell_type": "code",
   "execution_count": 103,
   "metadata": {
    "slideshow": {
     "slide_type": "fragment"
    }
   },
   "outputs": [
    {
     "name": "stdout",
     "output_type": "stream",
     "text": [
      "5\n",
      "0.22199317108973948\n",
      "0.8707323061773764\n",
      "0.20671915533942642\n",
      "5\n",
      "0.22199317108973948\n",
      "0.8707323061773764\n",
      "0.20671915533942642\n",
      "5\n",
      "0.22199317108973948\n",
      "0.8707323061773764\n",
      "0.20671915533942642\n",
      "5\n",
      "0.22199317108973948\n",
      "0.8707323061773764\n",
      "0.20671915533942642\n",
      "5\n",
      "0.22199317108973948\n",
      "0.8707323061773764\n",
      "0.20671915533942642\n",
      "\n",
      "0\n",
      "0.5488135039273248\n",
      "1\n",
      "0.417022004702574\n",
      "2\n",
      "0.43599490214200376\n",
      "3\n",
      "0.5507979025745755\n",
      "4\n",
      "0.9670298390136767\n",
      "5\n",
      "0.22199317108973948\n",
      "6\n",
      "0.8928601514360016\n",
      "7\n",
      "0.07630828937395717\n"
     ]
    }
   ],
   "source": [
    "i = 5\n",
    "for _ in range(5):\n",
    "    print(i)\n",
    "    np.random.seed(i) # misma semilla\n",
    "    print(np.random.rand())\n",
    "    print(np.random.rand())\n",
    "    print(np.random.rand())\n",
    "\n",
    "print()    \n",
    "    \n",
    "for i in range(8):\n",
    "    print(i)\n",
    "    np.random.seed(i) # diferentes semillas\n",
    "    print(np.random.rand())"
   ]
  },
  {
   "cell_type": "markdown",
   "metadata": {
    "slideshow": {
     "slide_type": "slide"
    }
   },
   "source": [
    "# Escritura y lectura de ndarrays a archivos \n",
    "- Para futuro acceso\n",
    "- Compartir datos con otros\n",
    "- Formato *.npy"
   ]
  },
  {
   "cell_type": "code",
   "execution_count": 104,
   "metadata": {
    "slideshow": {
     "slide_type": "fragment"
    }
   },
   "outputs": [
    {
     "name": "stdout",
     "output_type": "stream",
     "text": [
      "[[6 3 3]\n",
      " [7 7 7]\n",
      " [8 8 7]]\n"
     ]
    }
   ],
   "source": [
    "# escribir a archivo\n",
    "import os\n",
    "ruta = os.path.join(\"res\" ,\"o_values_array.npy\")\n",
    "values = np.random.randint(9, size=(3,3))\n",
    "np.save(ruta, values)\n",
    "print(values)"
   ]
  },
  {
   "cell_type": "code",
   "execution_count": null,
   "metadata": {},
   "outputs": [],
   "source": [
    "ruta2 = 'res' + '/' + 'nombre.nmp'"
   ]
  },
  {
   "cell_type": "code",
   "execution_count": 105,
   "metadata": {},
   "outputs": [
    {
     "data": {
      "text/plain": [
       "'res\\\\o_values_array.npy'"
      ]
     },
     "execution_count": 105,
     "metadata": {},
     "output_type": "execute_result"
    }
   ],
   "source": [
    "ruta"
   ]
  },
  {
   "cell_type": "code",
   "execution_count": 106,
   "metadata": {
    "slideshow": {
     "slide_type": "fragment"
    }
   },
   "outputs": [
    {
     "name": "stdout",
     "output_type": "stream",
     "text": [
      "[[6 3 3]\n",
      " [7 7 7]\n",
      " [8 8 7]]\n"
     ]
    }
   ],
   "source": [
    "# leer de archivo\n",
    "old_values = np.load(ruta)\n",
    "print(old_values)"
   ]
  },
  {
   "cell_type": "code",
   "execution_count": 107,
   "metadata": {
    "slideshow": {
     "slide_type": "subslide"
    }
   },
   "outputs": [],
   "source": [
    "# escribir y cargar múltiples arrays\n",
    "ruta = os.path.join(\"res\" ,\"o_array_group.npz\")\n",
    "values1 = np.random.randint(9,size=(3,3))\n",
    "values2 = np.random.randint(4,size=(2,2))\n",
    "values3 = np.random.randint(16,size=(4,4))\n",
    "np.savez(ruta,values1,values2,values3) # añade la extensión .npz   "
   ]
  },
  {
   "cell_type": "code",
   "execution_count": 108,
   "metadata": {},
   "outputs": [
    {
     "name": "stdout",
     "output_type": "stream",
     "text": [
      "[[ 0 11 13  0]\n",
      " [ 2  8  9 14]\n",
      " [ 6  4 14  9]\n",
      " [ 7  3  3  8]]\n"
     ]
    }
   ],
   "source": [
    "print(values3)"
   ]
  },
  {
   "cell_type": "code",
   "execution_count": 109,
   "metadata": {},
   "outputs": [
    {
     "name": "stdout",
     "output_type": "stream",
     "text": [
      "[[ 0 11 13  0]\n",
      " [ 2  8  9 14]\n",
      " [ 6  4 14  9]\n",
      " [ 7  3  3  8]]\n"
     ]
    }
   ],
   "source": [
    "print(values3)"
   ]
  },
  {
   "cell_type": "code",
   "execution_count": 110,
   "metadata": {
    "slideshow": {
     "slide_type": "fragment"
    }
   },
   "outputs": [
    {
     "name": "stdout",
     "output_type": "stream",
     "text": [
      "<class 'list'>\n"
     ]
    }
   ],
   "source": [
    "# leer los archivos (retorna un diccionario con las arrays)\n",
    "npzfile = np.load(ruta)\n",
    "print(type(npzfile.files))\n"
   ]
  },
  {
   "cell_type": "code",
   "execution_count": 111,
   "metadata": {},
   "outputs": [],
   "source": [
    "my_dict = {}\n",
    "my_dict['a'] = np.random.randint(9,size=(3,3))\n",
    "my_dict['b'] = 7\n",
    "my_dict['c'] = 4"
   ]
  },
  {
   "cell_type": "code",
   "execution_count": 112,
   "metadata": {},
   "outputs": [
    {
     "name": "stdout",
     "output_type": "stream",
     "text": [
      "[[3 0 1]\n",
      " [0 0 6]\n",
      " [7 7 3]]\n",
      "7\n",
      "4\n"
     ]
    }
   ],
   "source": [
    "for key in my_dict.keys():\n",
    "    print(my_dict[key])"
   ]
  },
  {
   "cell_type": "code",
   "execution_count": 113,
   "metadata": {},
   "outputs": [
    {
     "data": {
      "text/plain": [
       "['arr_0', 'arr_1', 'arr_2']"
      ]
     },
     "execution_count": 113,
     "metadata": {},
     "output_type": "execute_result"
    }
   ],
   "source": [
    "npzfile.files"
   ]
  },
  {
   "cell_type": "code",
   "execution_count": 114,
   "metadata": {},
   "outputs": [
    {
     "name": "stdout",
     "output_type": "stream",
     "text": [
      "[[6 4 0]\n",
      " [7 0 7]\n",
      " [6 3 5]]\n",
      "[[0 0]\n",
      " [3 1]]\n",
      "[[ 0 11 13  0]\n",
      " [ 2  8  9 14]\n",
      " [ 6  4 14  9]\n",
      " [ 7  3  3  8]]\n"
     ]
    }
   ],
   "source": [
    "for key in npzfile.files: # array.files contiene el nombre de las arrays (arr_0, arr_1...)\n",
    "    print(npzfile[key])"
   ]
  },
  {
   "cell_type": "code",
   "execution_count": null,
   "metadata": {},
   "outputs": [],
   "source": [
    "values3"
   ]
  },
  {
   "cell_type": "code",
   "execution_count": null,
   "metadata": {},
   "outputs": [],
   "source": [
    "npzfile['arr_2']"
   ]
  },
  {
   "cell_type": "markdown",
   "metadata": {
    "slideshow": {
     "slide_type": "subslide"
    }
   },
   "source": [
    "### ¿Por qué molestarse con .npy?\n",
    "- Bases de datos suelen estar en CSV o txt, que requieren lectura con streams (parsing)\n",
    "- ¿Para qué escribir los datos de nuevo?"
   ]
  },
  {
   "cell_type": "code",
   "execution_count": null,
   "metadata": {},
   "outputs": [],
   "source": [
    "ruta_csv = os.path.join(\"res\" ,\"fdata.csv\")\n",
    "with open(ruta_csv,'r') as f:\n",
    "    data_str = f.read()\n",
    "data = data_str.split(',')\n",
    "data_array = np.array(data, dtype = np.int8).reshape(1000,1000)\n",
    "print(data_array)\n",
    "\n",
    "ruta_npy = os.path.join(\"res\" ,\"o_fdata.npy\")\n",
    "np.save(ruta_npy, data_array)"
   ]
  },
  {
   "cell_type": "code",
   "execution_count": null,
   "metadata": {
    "slideshow": {
     "slide_type": "fragment"
    }
   },
   "outputs": [],
   "source": [
    "%%timeit # magic function jupyter\n",
    "with open(ruta_csv,'r') as f:\n",
    "    data_str = f.read()\n",
    "data = data_str.split(',')\n",
    "data_array = np.array(data,  dtype = np.int8).reshape(1000,1000)"
   ]
  },
  {
   "cell_type": "code",
   "execution_count": null,
   "metadata": {
    "slideshow": {
     "slide_type": "fragment"
    }
   },
   "outputs": [],
   "source": [
    "%%timeit\n",
    "data = np.load(ruta_npy)"
   ]
  },
  {
   "cell_type": "markdown",
   "metadata": {
    "slideshow": {
     "slide_type": "fragment"
    }
   },
   "source": [
    "### velocidad + simplicidad vs memoria"
   ]
  }
 ],
 "metadata": {
  "celltoolbar": "Slideshow",
  "kernelspec": {
   "display_name": "Python 3 (ipykernel)",
   "language": "python",
   "name": "python3"
  },
  "language_info": {
   "codemirror_mode": {
    "name": "ipython",
    "version": 3
   },
   "file_extension": ".py",
   "mimetype": "text/x-python",
   "name": "python",
   "nbconvert_exporter": "python",
   "pygments_lexer": "ipython3",
   "version": "3.10.8"
  }
 },
 "nbformat": 4,
 "nbformat_minor": 4
}
