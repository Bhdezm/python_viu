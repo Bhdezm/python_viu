{
 "cells": [
  {
   "cell_type": "markdown",
   "id": "southwest-learning",
   "metadata": {},
   "source": [
    "### A1 \n",
    "- Descarga datos mediante la siguiente url https://raw.githubusercontent.com/grammakov/USA-cities-and-states/master/us_cities_states_counties.csv\n",
    "- Imprimir el número de ciudades que tiene el estado de Florida\n",
    "- Resolver el problema de dos maneras distintas, una usando pandas y otra sin usar ninguna librería (solo Python standard)"
   ]
  },
  {
   "cell_type": "code",
   "execution_count": 27,
   "id": "83322bda-3b78-434b-bb36-1ac99bb745a4",
   "metadata": {},
   "outputs": [
    {
     "data": {
      "text/plain": [
       "('Ciudades.csv', <http.client.HTTPMessage at 0x22b1d422180>)"
      ]
     },
     "execution_count": 27,
     "metadata": {},
     "output_type": "execute_result"
    }
   ],
   "source": [
    "import numpy as np\n",
    "import pandas as pd\n",
    "import urllib.request\n",
    "import os\n",
    "url = 'https://raw.githubusercontent.com/grammakov/USA-cities-and-states/master/us_cities_states_counties.csv'  \n",
    "ruta = os.path.join(\"Ciudades.csv\")\n",
    "urllib.request.urlretrieve(url, ruta)"
   ]
  },
  {
   "cell_type": "code",
   "execution_count": 28,
   "id": "7ff95241",
   "metadata": {},
   "outputs": [
    {
     "name": "stdout",
     "output_type": "stream",
     "text": [
      "Nº de ciudades: 537\n"
     ]
    }
   ],
   "source": [
    "ruta = os.path.join(\"Ciudades.csv\")\n",
    "ciudades=[]\n",
    "dataset = pd.read_csv(ruta, sep='|', engine='python')\n",
    "florida=dataset[dataset['State full']=='Florida']['City']\n",
    "for ciudad in florida:\n",
    "    if ciudad not in ciudades:\n",
    "        ciudades.append(ciudad)\n",
    "\n",
    "print('Nº de ciudades:',len(ciudades))"
   ]
  },
  {
   "cell_type": "code",
   "execution_count": 29,
   "id": "1a209c86-8f80-4e62-86de-83e52dbb9e0e",
   "metadata": {},
   "outputs": [
    {
     "name": "stdout",
     "output_type": "stream",
     "text": [
      "Nº de ciudades: 537\n"
     ]
    }
   ],
   "source": [
    "import csv\n",
    "with open(ruta) as fichero:\n",
    "    reader=csv.reader(fichero,delimiter='|')\n",
    "    ciudades=[]\n",
    "    for ciudad in reader:\n",
    "        if ciudad[2]=='Florida' and ciudad[0] not in ciudades:\n",
    "            ciudades.append(ciudad[0])\n",
    "    print('Nº de ciudades:',len(ciudades))"
   ]
  },
  {
   "cell_type": "markdown",
   "id": "controlling-referral",
   "metadata": {},
   "source": [
    "### A2 \n",
    "- Genera una matriz con valores aleatorios de 0 a 100 de dimensiones 16x16\n",
    "- Calcula los siguentes estadísticos en la matriz anterior, por fila (el resultado de cada uno debe ser un array de dimensiones 16x1)\n",
    "  - Suma de los elementos de cada fila\n",
    "  - Media de los elementos de cada fila\n",
    "  - Valores mínimos de cada fila\n",
    "  - Valores máximos de cada fila"
   ]
  },
  {
   "cell_type": "code",
   "execution_count": 30,
   "id": "e960d2f9-5345-4ab3-a27b-33b18dfc140d",
   "metadata": {},
   "outputs": [
    {
     "name": "stdout",
     "output_type": "stream",
     "text": [
      "[[ 10   5  21  49  70  75  65   0  63  76  66  88   8  86  41  65]\n",
      " [ 12  52  54  13  59  11  42  96  96  23  22  78  95  38  42  42]\n",
      " [ 24  86  86   3  56  47  76   5   9  69  27  70  33  85  80  33]\n",
      " [ 80  25  43  21  27   1  69  41  71  18  62   6  41  14  59  83]\n",
      " [ 75  60  59  15  63  34   5  53  15   4  20  53  91   2  81  90]\n",
      " [ 40  24  62  76  39  38  22  50  37  63  99  12  98  68  97  30]\n",
      " [ 57  71  26  54  91  70  43  71  65  51  28  52  72  36  35   8]\n",
      " [ 20  13   9  20  87   7  34  79  37  31  89   6  76  90   3  71]\n",
      " [ 11  36  11  33   4   8  58  33   4  66  17  14   1  93  12  15]\n",
      " [ 78  29  30  75  63  62  14  21  27  46  63  11  29  74  34  66]\n",
      " [ 84  14  37  84  64  22  38  63  73   8  66  21   9  97  67  55]\n",
      " [ 22  36  18  87  26  61  86  81  78 100  46  89  51  56  43  22]\n",
      " [ 20  94  39  42   2  59  23  93  18  25  47  25  39  50  86  16]\n",
      " [ 33  56   7  54  65   9   9  39  77  28  49  27  58  88   8  82]\n",
      " [ 36   5  20  77  45  47  34  57  40  15  81  25  81  77  71  95]\n",
      " [ 75  72  23   5  41  11  65  99  65  96  17  33  90  20  75  95]]\n"
     ]
    }
   ],
   "source": [
    "import numpy as np\n",
    "import pandas as pd\n",
    "valores=np.random.randint(101,size=(16,16)).copy()\n",
    "print(valores)"
   ]
  },
  {
   "cell_type": "code",
   "execution_count": 31,
   "id": "a515a9bf-349c-4476-bcd6-f9a660ea1a5e",
   "metadata": {},
   "outputs": [
    {
     "data": {
      "text/plain": [
       "array([788, 775, 789, 661, 720, 855, 830, 672, 416, 722, 802, 902, 678,\n",
       "       689, 806, 882])"
      ]
     },
     "execution_count": 31,
     "metadata": {},
     "output_type": "execute_result"
    }
   ],
   "source": [
    "np.sum(valores,axis=1)"
   ]
  },
  {
   "cell_type": "code",
   "execution_count": 32,
   "id": "deb81aaa-9fd5-4566-a087-31106778ece7",
   "metadata": {},
   "outputs": [
    {
     "data": {
      "text/plain": [
       "array([49.25  , 48.4375, 49.3125, 41.3125, 45.    , 53.4375, 51.875 ,\n",
       "       42.    , 26.    , 45.125 , 50.125 , 56.375 , 42.375 , 43.0625,\n",
       "       50.375 , 55.125 ])"
      ]
     },
     "execution_count": 32,
     "metadata": {},
     "output_type": "execute_result"
    }
   ],
   "source": [
    "np.mean(valores,axis=1)"
   ]
  },
  {
   "cell_type": "code",
   "execution_count": 33,
   "id": "61a879e7-b488-442c-8ec7-b23f392d6365",
   "metadata": {},
   "outputs": [
    {
     "data": {
      "text/plain": [
       "array([ 88,  96,  86,  83,  91,  99,  91,  90,  93,  78,  97, 100,  94,\n",
       "        88,  95,  99])"
      ]
     },
     "execution_count": 33,
     "metadata": {},
     "output_type": "execute_result"
    }
   ],
   "source": [
    "np.max(valores,axis=1)"
   ]
  },
  {
   "cell_type": "code",
   "execution_count": 34,
   "id": "dff985c2-58f2-42e5-ac70-1efa636cd6b4",
   "metadata": {},
   "outputs": [
    {
     "data": {
      "text/plain": [
       "array([ 0, 11,  3,  1,  2, 12,  8,  3,  1, 11,  8, 18,  2,  7,  5,  5])"
      ]
     },
     "execution_count": 34,
     "metadata": {},
     "output_type": "execute_result"
    }
   ],
   "source": [
    "np.min(valores,axis=1)"
   ]
  },
  {
   "cell_type": "markdown",
   "id": "c50e7377-1a1b-4777-9bdc-33a11e36d459",
   "metadata": {},
   "source": [
    "#### El broadcasting de numpy consiste y se utiliza en el momento en que se realizan operaciones entre arrays de numpy en las cuales no podamos hacer matematicamente debido a que sus rangos/dimensiones no sean las mismas; \n",
    "#### 1º regla:En ese caso lo primero que ocurre es añadir una dimension de 1 al array con menor rango hasta que coincidan.\n",
    "#### 2º regla:en el caso de que un array tenga un 1 en alguna dimension actua como si tuviese la longitud del array con mayor longitud en esa dimension, lo que supondria que el valor de esta dimension se repetira hasta coincidir con la longitud.\n",
    "#### 3º regla: si aplicamos las dos primeras reglas, las dimensiones de los arrays deben coincidir, y si no es el caso, la operacion no se puede llevar a cabo"
   ]
  },
  {
   "cell_type": "code",
   "execution_count": 35,
   "id": "bd103ce0-40bd-45db-906c-ef18c0df68e1",
   "metadata": {},
   "outputs": [
    {
     "name": "stdout",
     "output_type": "stream",
     "text": [
      "[[[0 1 2 3 4]]] shape:(1, 1, 5)\n",
      "[0 1 2 3 4] shape:(5,)\n",
      "[[[0 2 4 6 8]]]\n"
     ]
    }
   ],
   "source": [
    "#Ejemplo 1º regla\n",
    "a=np.arange(5).reshape(1,1,5)\n",
    "b=np.arange(5)\n",
    "print(f'{a} shape:{a.shape}')\n",
    "print(f'{b} shape:{b.shape}')\n",
    "print(a+b)"
   ]
  },
  {
   "cell_type": "code",
   "execution_count": 36,
   "id": "33abb412-b1d9-41ac-903e-f9386280601c",
   "metadata": {},
   "outputs": [
    {
     "name": "stdout",
     "output_type": "stream",
     "text": [
      "[[0 1 2]\n",
      " [3 4 5]]\n",
      "[[10]\n",
      " [20]]\n",
      "[[10 11 12]\n",
      " [23 24 25]]\n"
     ]
    }
   ],
   "source": [
    "# Ejemplo 2º regla\n",
    "c=np.arange(6).reshape(2,3)\n",
    "d=np.array([[10],[20]])\n",
    "print(c)\n",
    "print(d)\n",
    "print(c+d)"
   ]
  },
  {
   "cell_type": "markdown",
   "id": "announced-mortality",
   "metadata": {},
   "source": [
    "- Resolución de dos sistemas de ecuaciones\n",
    "    - $ A : \\begin{cases} -9y +  4x = 20 \\\\ -7y + 16x = 80                         \\end{cases}$\n",
    "    \n",
    "    - $ B : \\begin{cases} x - 2y + 3z = 7 \\\\ 2x + y + z = 4 \\\\ -3x + 2y -2z = -10 \\end{cases}$"
   ]
  },
  {
   "cell_type": "code",
   "execution_count": 37,
   "id": "504dc78e-f55d-4df1-bc75-0c4dfc0b7f32",
   "metadata": {},
   "outputs": [
    {
     "name": "stdout",
     "output_type": "stream",
     "text": [
      "y=-0.0, x=5.0\n"
     ]
    }
   ],
   "source": [
    "import numpy.linalg as linalg\n",
    "A1=np.array([[-9,4],[-7,16]])\n",
    "A2=np.array([20,80])\n",
    "y,x=linalg.solve(A1,A2)\n",
    "print(f'y={str(y)}, x={str(x)}')"
   ]
  },
  {
   "cell_type": "code",
   "execution_count": 38,
   "id": "856a8e71-2503-4939-a5e5-a6751496684a",
   "metadata": {},
   "outputs": [
    {
     "name": "stdout",
     "output_type": "stream",
     "text": [
      "x=2.0,y=-0.9999999999999998,z=1.0000000000000002\n"
     ]
    }
   ],
   "source": [
    "B1=np.array([[1,-2,3],[2,1,1],[-3,2,-2]])\n",
    "B2=np.array([7,4,-10])\n",
    "x,y,z=linalg.solve(B1,B2)\n",
    "print(f'x={str(x)},y={str(y)},z={str(z)}')"
   ]
  },
  {
   "cell_type": "markdown",
   "id": "grave-summer",
   "metadata": {},
   "source": [
    "- Crear un DataFrame de dimensiones 10x10, con números aleatorios en el rango `[0,20]`\n",
    "- Reemplazar todos aquellos elementos menores de 5 por NaN\n",
    "- Averiguar cuantos elementos tienen Nan por fila"
   ]
  },
  {
   "cell_type": "code",
   "execution_count": 39,
   "id": "71a67572-c030-43d6-8d5e-117d03e753b0",
   "metadata": {},
   "outputs": [
    {
     "data": {
      "text/html": [
       "<div>\n",
       "<style scoped>\n",
       "    .dataframe tbody tr th:only-of-type {\n",
       "        vertical-align: middle;\n",
       "    }\n",
       "\n",
       "    .dataframe tbody tr th {\n",
       "        vertical-align: top;\n",
       "    }\n",
       "\n",
       "    .dataframe thead th {\n",
       "        text-align: right;\n",
       "    }\n",
       "</style>\n",
       "<table border=\"1\" class=\"dataframe\">\n",
       "  <thead>\n",
       "    <tr style=\"text-align: right;\">\n",
       "      <th></th>\n",
       "      <th>A</th>\n",
       "      <th>B</th>\n",
       "      <th>C</th>\n",
       "      <th>D</th>\n",
       "      <th>E</th>\n",
       "      <th>F</th>\n",
       "      <th>G</th>\n",
       "      <th>H</th>\n",
       "      <th>I</th>\n",
       "      <th>J</th>\n",
       "    </tr>\n",
       "  </thead>\n",
       "  <tbody>\n",
       "    <tr>\n",
       "      <th>A</th>\n",
       "      <td>6</td>\n",
       "      <td>20</td>\n",
       "      <td>11</td>\n",
       "      <td>15</td>\n",
       "      <td>18</td>\n",
       "      <td>9</td>\n",
       "      <td>16</td>\n",
       "      <td>19</td>\n",
       "      <td>4</td>\n",
       "      <td>18</td>\n",
       "    </tr>\n",
       "    <tr>\n",
       "      <th>B</th>\n",
       "      <td>7</td>\n",
       "      <td>0</td>\n",
       "      <td>7</td>\n",
       "      <td>15</td>\n",
       "      <td>7</td>\n",
       "      <td>10</td>\n",
       "      <td>5</td>\n",
       "      <td>8</td>\n",
       "      <td>0</td>\n",
       "      <td>17</td>\n",
       "    </tr>\n",
       "    <tr>\n",
       "      <th>C</th>\n",
       "      <td>3</td>\n",
       "      <td>3</td>\n",
       "      <td>9</td>\n",
       "      <td>16</td>\n",
       "      <td>13</td>\n",
       "      <td>3</td>\n",
       "      <td>17</td>\n",
       "      <td>4</td>\n",
       "      <td>1</td>\n",
       "      <td>18</td>\n",
       "    </tr>\n",
       "    <tr>\n",
       "      <th>D</th>\n",
       "      <td>9</td>\n",
       "      <td>2</td>\n",
       "      <td>10</td>\n",
       "      <td>12</td>\n",
       "      <td>11</td>\n",
       "      <td>19</td>\n",
       "      <td>7</td>\n",
       "      <td>19</td>\n",
       "      <td>20</td>\n",
       "      <td>4</td>\n",
       "    </tr>\n",
       "    <tr>\n",
       "      <th>E</th>\n",
       "      <td>12</td>\n",
       "      <td>4</td>\n",
       "      <td>3</td>\n",
       "      <td>10</td>\n",
       "      <td>0</td>\n",
       "      <td>3</td>\n",
       "      <td>18</td>\n",
       "      <td>8</td>\n",
       "      <td>20</td>\n",
       "      <td>5</td>\n",
       "    </tr>\n",
       "    <tr>\n",
       "      <th>F</th>\n",
       "      <td>20</td>\n",
       "      <td>8</td>\n",
       "      <td>18</td>\n",
       "      <td>15</td>\n",
       "      <td>15</td>\n",
       "      <td>9</td>\n",
       "      <td>12</td>\n",
       "      <td>8</td>\n",
       "      <td>9</td>\n",
       "      <td>1</td>\n",
       "    </tr>\n",
       "    <tr>\n",
       "      <th>G</th>\n",
       "      <td>1</td>\n",
       "      <td>13</td>\n",
       "      <td>12</td>\n",
       "      <td>19</td>\n",
       "      <td>16</td>\n",
       "      <td>7</td>\n",
       "      <td>13</td>\n",
       "      <td>17</td>\n",
       "      <td>4</td>\n",
       "      <td>19</td>\n",
       "    </tr>\n",
       "    <tr>\n",
       "      <th>H</th>\n",
       "      <td>18</td>\n",
       "      <td>14</td>\n",
       "      <td>14</td>\n",
       "      <td>16</td>\n",
       "      <td>11</td>\n",
       "      <td>2</td>\n",
       "      <td>14</td>\n",
       "      <td>7</td>\n",
       "      <td>12</td>\n",
       "      <td>19</td>\n",
       "    </tr>\n",
       "    <tr>\n",
       "      <th>I</th>\n",
       "      <td>3</td>\n",
       "      <td>13</td>\n",
       "      <td>5</td>\n",
       "      <td>12</td>\n",
       "      <td>18</td>\n",
       "      <td>15</td>\n",
       "      <td>5</td>\n",
       "      <td>16</td>\n",
       "      <td>5</td>\n",
       "      <td>15</td>\n",
       "    </tr>\n",
       "    <tr>\n",
       "      <th>J</th>\n",
       "      <td>0</td>\n",
       "      <td>8</td>\n",
       "      <td>13</td>\n",
       "      <td>11</td>\n",
       "      <td>17</td>\n",
       "      <td>9</td>\n",
       "      <td>16</td>\n",
       "      <td>15</td>\n",
       "      <td>10</td>\n",
       "      <td>0</td>\n",
       "    </tr>\n",
       "  </tbody>\n",
       "</table>\n",
       "</div>"
      ],
      "text/plain": [
       "    A   B   C   D   E   F   G   H   I   J\n",
       "A   6  20  11  15  18   9  16  19   4  18\n",
       "B   7   0   7  15   7  10   5   8   0  17\n",
       "C   3   3   9  16  13   3  17   4   1  18\n",
       "D   9   2  10  12  11  19   7  19  20   4\n",
       "E  12   4   3  10   0   3  18   8  20   5\n",
       "F  20   8  18  15  15   9  12   8   9   1\n",
       "G   1  13  12  19  16   7  13  17   4  19\n",
       "H  18  14  14  16  11   2  14   7  12  19\n",
       "I   3  13   5  12  18  15   5  16   5  15\n",
       "J   0   8  13  11  17   9  16  15  10   0"
      ]
     },
     "metadata": {},
     "output_type": "display_data"
    }
   ],
   "source": [
    "matriz_10x10=np.random.randint(21,size=(10,10))\n",
    "matrix=pd.DataFrame(matriz_10x10,columns=list('ABCDEFGHIJ'),index=list('ABCDEFGHIJ')).copy()\n",
    "display(matrix)"
   ]
  },
  {
   "cell_type": "code",
   "execution_count": 40,
   "id": "04ced1ac-4448-403e-9cb0-78162dbb548d",
   "metadata": {},
   "outputs": [
    {
     "data": {
      "text/html": [
       "<div>\n",
       "<style scoped>\n",
       "    .dataframe tbody tr th:only-of-type {\n",
       "        vertical-align: middle;\n",
       "    }\n",
       "\n",
       "    .dataframe tbody tr th {\n",
       "        vertical-align: top;\n",
       "    }\n",
       "\n",
       "    .dataframe thead th {\n",
       "        text-align: right;\n",
       "    }\n",
       "</style>\n",
       "<table border=\"1\" class=\"dataframe\">\n",
       "  <thead>\n",
       "    <tr style=\"text-align: right;\">\n",
       "      <th></th>\n",
       "      <th>A</th>\n",
       "      <th>B</th>\n",
       "      <th>C</th>\n",
       "      <th>D</th>\n",
       "      <th>E</th>\n",
       "      <th>F</th>\n",
       "      <th>G</th>\n",
       "      <th>H</th>\n",
       "      <th>I</th>\n",
       "      <th>J</th>\n",
       "    </tr>\n",
       "  </thead>\n",
       "  <tbody>\n",
       "    <tr>\n",
       "      <th>A</th>\n",
       "      <td>6.0</td>\n",
       "      <td>20.0</td>\n",
       "      <td>11.0</td>\n",
       "      <td>15</td>\n",
       "      <td>18.0</td>\n",
       "      <td>9.0</td>\n",
       "      <td>16</td>\n",
       "      <td>19.0</td>\n",
       "      <td>NaN</td>\n",
       "      <td>18.0</td>\n",
       "    </tr>\n",
       "    <tr>\n",
       "      <th>B</th>\n",
       "      <td>7.0</td>\n",
       "      <td>NaN</td>\n",
       "      <td>7.0</td>\n",
       "      <td>15</td>\n",
       "      <td>7.0</td>\n",
       "      <td>10.0</td>\n",
       "      <td>5</td>\n",
       "      <td>8.0</td>\n",
       "      <td>NaN</td>\n",
       "      <td>17.0</td>\n",
       "    </tr>\n",
       "    <tr>\n",
       "      <th>C</th>\n",
       "      <td>NaN</td>\n",
       "      <td>NaN</td>\n",
       "      <td>9.0</td>\n",
       "      <td>16</td>\n",
       "      <td>13.0</td>\n",
       "      <td>NaN</td>\n",
       "      <td>17</td>\n",
       "      <td>NaN</td>\n",
       "      <td>NaN</td>\n",
       "      <td>18.0</td>\n",
       "    </tr>\n",
       "    <tr>\n",
       "      <th>D</th>\n",
       "      <td>9.0</td>\n",
       "      <td>NaN</td>\n",
       "      <td>10.0</td>\n",
       "      <td>12</td>\n",
       "      <td>11.0</td>\n",
       "      <td>19.0</td>\n",
       "      <td>7</td>\n",
       "      <td>19.0</td>\n",
       "      <td>20.0</td>\n",
       "      <td>NaN</td>\n",
       "    </tr>\n",
       "    <tr>\n",
       "      <th>E</th>\n",
       "      <td>12.0</td>\n",
       "      <td>NaN</td>\n",
       "      <td>NaN</td>\n",
       "      <td>10</td>\n",
       "      <td>NaN</td>\n",
       "      <td>NaN</td>\n",
       "      <td>18</td>\n",
       "      <td>8.0</td>\n",
       "      <td>20.0</td>\n",
       "      <td>5.0</td>\n",
       "    </tr>\n",
       "    <tr>\n",
       "      <th>F</th>\n",
       "      <td>20.0</td>\n",
       "      <td>8.0</td>\n",
       "      <td>18.0</td>\n",
       "      <td>15</td>\n",
       "      <td>15.0</td>\n",
       "      <td>9.0</td>\n",
       "      <td>12</td>\n",
       "      <td>8.0</td>\n",
       "      <td>9.0</td>\n",
       "      <td>NaN</td>\n",
       "    </tr>\n",
       "    <tr>\n",
       "      <th>G</th>\n",
       "      <td>NaN</td>\n",
       "      <td>13.0</td>\n",
       "      <td>12.0</td>\n",
       "      <td>19</td>\n",
       "      <td>16.0</td>\n",
       "      <td>7.0</td>\n",
       "      <td>13</td>\n",
       "      <td>17.0</td>\n",
       "      <td>NaN</td>\n",
       "      <td>19.0</td>\n",
       "    </tr>\n",
       "    <tr>\n",
       "      <th>H</th>\n",
       "      <td>18.0</td>\n",
       "      <td>14.0</td>\n",
       "      <td>14.0</td>\n",
       "      <td>16</td>\n",
       "      <td>11.0</td>\n",
       "      <td>NaN</td>\n",
       "      <td>14</td>\n",
       "      <td>7.0</td>\n",
       "      <td>12.0</td>\n",
       "      <td>19.0</td>\n",
       "    </tr>\n",
       "    <tr>\n",
       "      <th>I</th>\n",
       "      <td>NaN</td>\n",
       "      <td>13.0</td>\n",
       "      <td>5.0</td>\n",
       "      <td>12</td>\n",
       "      <td>18.0</td>\n",
       "      <td>15.0</td>\n",
       "      <td>5</td>\n",
       "      <td>16.0</td>\n",
       "      <td>5.0</td>\n",
       "      <td>15.0</td>\n",
       "    </tr>\n",
       "    <tr>\n",
       "      <th>J</th>\n",
       "      <td>NaN</td>\n",
       "      <td>8.0</td>\n",
       "      <td>13.0</td>\n",
       "      <td>11</td>\n",
       "      <td>17.0</td>\n",
       "      <td>9.0</td>\n",
       "      <td>16</td>\n",
       "      <td>15.0</td>\n",
       "      <td>10.0</td>\n",
       "      <td>NaN</td>\n",
       "    </tr>\n",
       "  </tbody>\n",
       "</table>\n",
       "</div>"
      ],
      "text/plain": [
       "      A     B     C   D     E     F   G     H     I     J\n",
       "A   6.0  20.0  11.0  15  18.0   9.0  16  19.0   NaN  18.0\n",
       "B   7.0   NaN   7.0  15   7.0  10.0   5   8.0   NaN  17.0\n",
       "C   NaN   NaN   9.0  16  13.0   NaN  17   NaN   NaN  18.0\n",
       "D   9.0   NaN  10.0  12  11.0  19.0   7  19.0  20.0   NaN\n",
       "E  12.0   NaN   NaN  10   NaN   NaN  18   8.0  20.0   5.0\n",
       "F  20.0   8.0  18.0  15  15.0   9.0  12   8.0   9.0   NaN\n",
       "G   NaN  13.0  12.0  19  16.0   7.0  13  17.0   NaN  19.0\n",
       "H  18.0  14.0  14.0  16  11.0   NaN  14   7.0  12.0  19.0\n",
       "I   NaN  13.0   5.0  12  18.0  15.0   5  16.0   5.0  15.0\n",
       "J   NaN   8.0  13.0  11  17.0   9.0  16  15.0  10.0   NaN"
      ]
     },
     "metadata": {},
     "output_type": "display_data"
    }
   ],
   "source": [
    "mask=matrix<5\n",
    "matrix[mask]=np.nan\n",
    "display(matrix)"
   ]
  },
  {
   "cell_type": "code",
   "execution_count": 41,
   "id": "f20b6e81-09ae-4cde-b142-7b905d511b3c",
   "metadata": {
    "tags": []
   },
   "outputs": [
    {
     "name": "stdout",
     "output_type": "stream",
     "text": [
      "[1 2 5 2 4 1 2 1 1 2]\n"
     ]
    }
   ],
   "source": [
    "print(matrix.isnull().values.sum(axis=1))\n"
   ]
  },
  {
   "cell_type": "markdown",
   "id": "acceptable-manner",
   "metadata": {},
   "source": [
    "- Se tienen tres datasets, se adjuntan sus datos como diccionarios\n",
    "  - Students, representa un conjunto de alumnos, con sus nombres, edad y sexo\n",
    "  - Subjects, un conjunto de asignaturas, con su nombre y el semestre en que se imparten\n",
    "  - Marks, un conjunto de notas que han obtenido los alumnos en las asignaturas\n",
    "- Obtener la siguiente información usando Pandas\n",
    "  - El nombre del alumno con la mejor nota, y en que asignatura ha sido\n",
    "  - Cuantos alumnos tienen asignaturas suspendidas en el primer semestre\n",
    "  - La media de edad de los asistentes a la asignatura de Python\n",
    "  - Formar una palabra con las iniciales de los nombres de los estudiantes ordenados por edad\n",
    "- Representar graficamente\n",
    "  - Las notas medias de todos los estudiantes por asignatura, agrupando por sexo\n",
    "  - La densidad bivariable de la edad de los estudiantes frente a sus notas, agrupando por sexo (mostrando los datos de dispersion en la zona central, las curvas de densidad en los ejes)"
   ]
  },
  {
   "cell_type": "code",
   "execution_count": 58,
   "id": "radio-theory",
   "metadata": {},
   "outputs": [],
   "source": [
    "students = {'StudentId': [1,2,3,4,5,6], 'Name' : ['Yael','Thomas','Paula','Orlando','Hannah','Nicole'], 'Age' : [22,31,19,44,39,51], 'Sex' : ['M', 'M', 'F', 'M', 'F', 'F']}\n",
    "subjects = {'SubjectId': [1,2,3], 'Name': ['Python', 'Math', 'DeepLearning'], 'Semester': [1, 1, 2]}\n",
    "marks = {'StudentId' : [2,2,1,3,6,4,4,3,2,5], 'SubjectId' : [1,3,1,2,1,2,3,1,2,1], 'Mark': [6,5,8,3,5,2,7,2,4,6]}"
   ]
  },
  {
   "cell_type": "code",
   "execution_count": 59,
   "id": "58972d9c-05f8-4936-aebe-0aa79246a358",
   "metadata": {},
   "outputs": [
    {
     "data": {
      "text/html": [
       "<div>\n",
       "<style scoped>\n",
       "    .dataframe tbody tr th:only-of-type {\n",
       "        vertical-align: middle;\n",
       "    }\n",
       "\n",
       "    .dataframe tbody tr th {\n",
       "        vertical-align: top;\n",
       "    }\n",
       "\n",
       "    .dataframe thead th {\n",
       "        text-align: right;\n",
       "    }\n",
       "</style>\n",
       "<table border=\"1\" class=\"dataframe\">\n",
       "  <thead>\n",
       "    <tr style=\"text-align: right;\">\n",
       "      <th></th>\n",
       "      <th>StudentId</th>\n",
       "      <th>Name_x</th>\n",
       "      <th>Age</th>\n",
       "      <th>Sex</th>\n",
       "      <th>SubjectId</th>\n",
       "      <th>Mark</th>\n",
       "      <th>Name_y</th>\n",
       "      <th>Semester</th>\n",
       "    </tr>\n",
       "  </thead>\n",
       "  <tbody>\n",
       "    <tr>\n",
       "      <th>0</th>\n",
       "      <td>1</td>\n",
       "      <td>Yael</td>\n",
       "      <td>22</td>\n",
       "      <td>M</td>\n",
       "      <td>1</td>\n",
       "      <td>8</td>\n",
       "      <td>Python</td>\n",
       "      <td>1</td>\n",
       "    </tr>\n",
       "    <tr>\n",
       "      <th>1</th>\n",
       "      <td>2</td>\n",
       "      <td>Thomas</td>\n",
       "      <td>31</td>\n",
       "      <td>M</td>\n",
       "      <td>1</td>\n",
       "      <td>6</td>\n",
       "      <td>Python</td>\n",
       "      <td>1</td>\n",
       "    </tr>\n",
       "    <tr>\n",
       "      <th>2</th>\n",
       "      <td>2</td>\n",
       "      <td>Thomas</td>\n",
       "      <td>31</td>\n",
       "      <td>M</td>\n",
       "      <td>3</td>\n",
       "      <td>5</td>\n",
       "      <td>DeepLearning</td>\n",
       "      <td>2</td>\n",
       "    </tr>\n",
       "    <tr>\n",
       "      <th>3</th>\n",
       "      <td>2</td>\n",
       "      <td>Thomas</td>\n",
       "      <td>31</td>\n",
       "      <td>M</td>\n",
       "      <td>2</td>\n",
       "      <td>4</td>\n",
       "      <td>Math</td>\n",
       "      <td>1</td>\n",
       "    </tr>\n",
       "    <tr>\n",
       "      <th>4</th>\n",
       "      <td>3</td>\n",
       "      <td>Paula</td>\n",
       "      <td>19</td>\n",
       "      <td>F</td>\n",
       "      <td>2</td>\n",
       "      <td>3</td>\n",
       "      <td>Math</td>\n",
       "      <td>1</td>\n",
       "    </tr>\n",
       "    <tr>\n",
       "      <th>5</th>\n",
       "      <td>3</td>\n",
       "      <td>Paula</td>\n",
       "      <td>19</td>\n",
       "      <td>F</td>\n",
       "      <td>1</td>\n",
       "      <td>2</td>\n",
       "      <td>Python</td>\n",
       "      <td>1</td>\n",
       "    </tr>\n",
       "    <tr>\n",
       "      <th>6</th>\n",
       "      <td>4</td>\n",
       "      <td>Orlando</td>\n",
       "      <td>44</td>\n",
       "      <td>M</td>\n",
       "      <td>2</td>\n",
       "      <td>2</td>\n",
       "      <td>Math</td>\n",
       "      <td>1</td>\n",
       "    </tr>\n",
       "    <tr>\n",
       "      <th>7</th>\n",
       "      <td>4</td>\n",
       "      <td>Orlando</td>\n",
       "      <td>44</td>\n",
       "      <td>M</td>\n",
       "      <td>3</td>\n",
       "      <td>7</td>\n",
       "      <td>DeepLearning</td>\n",
       "      <td>2</td>\n",
       "    </tr>\n",
       "    <tr>\n",
       "      <th>8</th>\n",
       "      <td>5</td>\n",
       "      <td>Hannah</td>\n",
       "      <td>39</td>\n",
       "      <td>F</td>\n",
       "      <td>1</td>\n",
       "      <td>6</td>\n",
       "      <td>Python</td>\n",
       "      <td>1</td>\n",
       "    </tr>\n",
       "    <tr>\n",
       "      <th>9</th>\n",
       "      <td>6</td>\n",
       "      <td>Nicole</td>\n",
       "      <td>51</td>\n",
       "      <td>F</td>\n",
       "      <td>1</td>\n",
       "      <td>5</td>\n",
       "      <td>Python</td>\n",
       "      <td>1</td>\n",
       "    </tr>\n",
       "  </tbody>\n",
       "</table>\n",
       "</div>"
      ],
      "text/plain": [
       "   StudentId   Name_x  Age Sex  SubjectId  Mark        Name_y  Semester\n",
       "0          1     Yael   22   M          1     8        Python         1\n",
       "1          2   Thomas   31   M          1     6        Python         1\n",
       "2          2   Thomas   31   M          3     5  DeepLearning         2\n",
       "3          2   Thomas   31   M          2     4          Math         1\n",
       "4          3    Paula   19   F          2     3          Math         1\n",
       "5          3    Paula   19   F          1     2        Python         1\n",
       "6          4  Orlando   44   M          2     2          Math         1\n",
       "7          4  Orlando   44   M          3     7  DeepLearning         2\n",
       "8          5   Hannah   39   F          1     6        Python         1\n",
       "9          6   Nicole   51   F          1     5        Python         1"
      ]
     },
     "metadata": {},
     "output_type": "display_data"
    }
   ],
   "source": [
    "tabla3=pd.DataFrame(students).merge(pd.DataFrame(marks),on='StudentId',how='left')\n",
    "tabla4=tabla3.merge(pd.DataFrame(subjects),on='SubjectId',how='left')\n",
    "display(tabla4)"
   ]
  },
  {
   "cell_type": "code",
   "execution_count": 60,
   "id": "1790d69f-eb75-406d-b1a6-3d957b126d0b",
   "metadata": {},
   "outputs": [
    {
     "name": "stdout",
     "output_type": "stream",
     "text": [
      "Nombre Alumno: Yael, Nombre asignatura:Python\n"
     ]
    }
   ],
   "source": [
    "for i in range(len(tabla4)):\n",
    "    if tabla4.iloc[i]['Mark']==np.max(tabla4['Mark']):\n",
    "        print(f\"Nombre Alumno: {tabla4.iloc[i]['Name_x']}, Nombre asignatura:{tabla4.iloc[i]['Name_y']}\")"
   ]
  },
  {
   "cell_type": "code",
   "execution_count": 61,
   "id": "5b54a907-49c1-43fa-abec-97568cfb2a37",
   "metadata": {
    "tags": []
   },
   "outputs": [
    {
     "name": "stdout",
     "output_type": "stream",
     "text": [
      "Alumnos suspendidos:3\n"
     ]
    }
   ],
   "source": [
    "suspendidos=[]\n",
    "for i in range(len(tabla4)):\n",
    "    if tabla4.iloc[i]['Mark']<5 and tabla4.iloc[i]['Semester']==1:\n",
    "        if tabla4.iloc[i]['StudentId'] not in suspendidos:\n",
    "            suspendidos.append(tabla4.iloc[i]['StudentId'])\n",
    "print(f'Alumnos suspendidos:{len(suspendidos)}')"
   ]
  },
  {
   "cell_type": "code",
   "execution_count": 62,
   "id": "75235f04-504b-41eb-8027-a971882cf132",
   "metadata": {},
   "outputs": [
    {
     "name": "stdout",
     "output_type": "stream",
     "text": [
      "Media de edad de los alumnos de Python:32.4\n"
     ]
    }
   ],
   "source": [
    "age=[]\n",
    "for i in range(len(tabla4)):\n",
    "    if tabla4.iloc[i]['Name_y']=='Python':\n",
    "        subjectid=(tabla4.iloc[i]['SubjectId'])\n",
    "\n",
    "for t in range(len(tabla4)):\n",
    "    if tabla4.iloc[t]['SubjectId']==subjectid:\n",
    "        age.append(tabla4.iloc[t]['Age'])\n",
    "print(f'Media de edad de los alumnos de Python:{np.mean(age)}')"
   ]
  },
  {
   "cell_type": "code",
   "execution_count": 63,
   "id": "a761f94b-e541-48da-93f2-4796af51148d",
   "metadata": {},
   "outputs": [
    {
     "name": "stdout",
     "output_type": "stream",
     "text": [
      "PYTHON\n"
     ]
    }
   ],
   "source": [
    "palabra=[]\n",
    "estudiantes=pd.DataFrame(students).sort_values(by=['Age'])\n",
    "for i in range(len(estudiantes)):\n",
    "    palabra.append(estudiantes.iloc[i]['Name'][0])\n",
    "    \n",
    "print(''.join(palabra))"
   ]
  },
  {
   "cell_type": "code",
   "execution_count": 64,
   "id": "1a7cce55-2e24-4084-826a-c644b733d23c",
   "metadata": {},
   "outputs": [],
   "source": [
    "import matplotlib.pyplot as plt\n",
    "import seaborn as sns"
   ]
  },
  {
   "cell_type": "code",
   "execution_count": 65,
   "id": "062f4e1d-ac0f-482e-bcad-710dbd44bbd1",
   "metadata": {},
   "outputs": [
    {
     "data": {
      "text/plain": [
       "<Axes: xlabel='Name_y', ylabel='Mark'>"
      ]
     },
     "execution_count": 65,
     "metadata": {},
     "output_type": "execute_result"
    },
    {
     "data": {
      "image/png": "[encoded data removed]",
      "text/plain": [
       "<Figure size 640x480 with 1 Axes>"
      ]
     },
     "metadata": {},
     "output_type": "display_data"
    }
   ],
   "source": [
    "sns.barplot(x='Name_y', y='Mark', hue='Sex', data=tabla4)"
   ]
  },
  {
   "cell_type": "code",
   "execution_count": 50,
   "id": "e75c45d8-dbe4-46b9-a3f6-8cf11497a985",
   "metadata": {},
   "outputs": [
    {
     "data": {
      "text/plain": [
       "<seaborn.axisgrid.JointGrid at 0x22b1d1478c0>"
      ]
     },
     "execution_count": 50,
     "metadata": {},
     "output_type": "execute_result"
    },
    {
     "data": {
      "image/png": "[encoded data removed]",
      "text/plain": [
       "<Figure size 600x600 with 3 Axes>"
      ]
     },
     "metadata": {},
     "output_type": "display_data"
    }
   ],
   "source": [
    "sns.jointplot(x='Age',y='Mark',hue='Sex',kind='scatter',data=tabla4)"
   ]
  },
  {
   "cell_type": "markdown",
   "id": "seven-trout",
   "metadata": {},
   "source": [
    "- Dadas dos Series de Pandas, implementar una función 'find_not_common' para encontrar los elementos no comunes a ambas Series\n",
    "- Se proveen dos series como referencia, el resultado para este ejemplo debe ser una serie con los elementos [4, 6, 14, 16]"
   ]
  },
  {
   "cell_type": "code",
   "execution_count": 66,
   "id": "8bfbbc9a-67dd-447f-87f2-92ab48dff61c",
   "metadata": {},
   "outputs": [],
   "source": [
    "def find_not_common(a,b):\n",
    "    not_common=[]\n",
    "    array=np.array(p1)\n",
    "    array2=np.array(p2)\n",
    "    for i in array:\n",
    "        if i not in array2:\n",
    "            not_common.append(i)\n",
    "    for t in array2:\n",
    "        if t not in array:\n",
    "            not_common.append(t)\n",
    "    return (pd.Series(not_common))\n",
    "\n"
   ]
  },
  {
   "cell_type": "code",
   "execution_count": 57,
   "id": "bb5cfa59",
   "metadata": {},
   "outputs": [
    {
     "name": "stdout",
     "output_type": "stream",
     "text": [
      "True\n"
     ]
    }
   ],
   "source": [
    "p1 = pd.Series([2, 4, 12, 6, 8, 10])\n",
    "p2 = pd.Series([8, 10, 12, 10, 14, 2, 16, 10])\n",
    "\n",
    "print(find_not_common(p1, p2).equals(pd.Series([4, 6, 14, 16]))) # Esto deberia imprimir True"
   ]
  }
 ],
 "metadata": {
  "kernelspec": {
   "display_name": "Python 3",
   "language": "python",
   "name": "python3"
  },
  "language_info": {
   "codemirror_mode": {
    "name": "ipython",
    "version": 3
   },
   "file_extension": ".py",
   "mimetype": "text/x-python",
   "name": "python",
   "nbconvert_exporter": "python",
   "pygments_lexer": "ipython3",
   "version": "3.12.3"
  }
 },
 "nbformat": 4,
 "nbformat_minor": 5
}
