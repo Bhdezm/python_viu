{
 "cells": [
  {
   "cell_type": "markdown",
   "id": "31ffaa68",
   "metadata": {},
   "source": [
    "<img src=\"../img/viu_logo.png\" width=\"200\">\n",
    "\n",
    "## 04EPPY - Actividad 2\n",
    "\n",
    "25% de la Nota Final\n",
    "\n",
    "### Fecha Entrega\n",
    "- Convocatoria 1 - 31/03/2022\n",
    "- Convocatoria 2 - 07/04/2022\n",
    "\n",
    "### Instrucciones:\n",
    "- Crear un notebook de Python3 que servirá como entrega de la actividad.\n",
    "- Separar bien los apartados propuestos con celdas Markdown.\n",
    "- Mantener una estructura limpia, comentando código y secuenciando los apartados con el código correspondiente que resuelva la actividad.\n",
    "- Como criterio de evaluación se tendrá en cuenta el resultado, la consecución del mismo, estilo, comentarios y adecuación.\n",
    "- No está permitido compartir los resultados ni el código en ninguno de los foros.\n",
    "\n",
    "### Entrega:\n",
    "- Un solo documento en formato notebook: .ipynb\n",
    "- Para hacer la entrega hay que subir el notebook al repositorio en la actividad de blackboard."
   ]
  },
  {
   "cell_type": "markdown",
   "id": "acc1f5f5",
   "metadata": {},
   "source": [
    "# Olympics"
   ]
  },
  {
   "cell_type": "markdown",
   "id": "96ebe415",
   "metadata": {},
   "source": [
    "### A1 - Leer Datasets - 10%\n",
    "- En Kaggle existen dos datasets sobre las olimpiadas modernas\n",
    "  - Atletas y resultados de medallas, desde 1896 a 2016, https://www.kaggle.com/heesoo37/120-years-of-olympic-history-athletes-and-results\n",
    "  - Resultados de atletismo, desde 1896 a 2016, https://www.kaggle.com/jayrav13/olympic-track-field-results\n",
    "  \n",
    "- Obtener y leer los ficheros csv en dataframes de pandas"
   ]
  },
  {
   "cell_type": "code",
   "execution_count": 2,
   "id": "2a57f4f6-81a7-4f67-adcd-407dc45a258e",
   "metadata": {},
   "outputs": [],
   "source": [
    "import numpy as np\n",
    "import pandas as pd\n",
    "import matplotlib.pyplot as plt\n",
    "import seaborn as sns\n",
    "import os\n",
    "from sklearn import datasets\n",
    "from sklearn import model_selection\n",
    "from sklearn import tree\n",
    "from sklearn import preprocessing\n",
    "from sklearn import utils"
   ]
  },
  {
   "cell_type": "code",
   "execution_count": 3,
   "id": "572af564-2c83-4d0d-bb67-a40b08c4d4cd",
   "metadata": {
    "tags": []
   },
   "outputs": [
    {
     "data": {
      "text/html": [
       "<div>\n",
       "<style scoped>\n",
       "    .dataframe tbody tr th:only-of-type {\n",
       "        vertical-align: middle;\n",
       "    }\n",
       "\n",
       "    .dataframe tbody tr th {\n",
       "        vertical-align: top;\n",
       "    }\n",
       "\n",
       "    .dataframe thead th {\n",
       "        text-align: right;\n",
       "    }\n",
       "</style>\n",
       "<table border=\"1\" class=\"dataframe\">\n",
       "  <thead>\n",
       "    <tr style=\"text-align: right;\">\n",
       "      <th></th>\n",
       "      <th>ID</th>\n",
       "      <th>Name</th>\n",
       "      <th>Sex</th>\n",
       "      <th>Age</th>\n",
       "      <th>Height</th>\n",
       "      <th>Weight</th>\n",
       "      <th>Team</th>\n",
       "      <th>NOC</th>\n",
       "      <th>Games</th>\n",
       "      <th>Year</th>\n",
       "      <th>Season</th>\n",
       "      <th>City</th>\n",
       "      <th>Sport</th>\n",
       "      <th>Event</th>\n",
       "      <th>Medal</th>\n",
       "    </tr>\n",
       "  </thead>\n",
       "  <tbody>\n",
       "    <tr>\n",
       "      <th>231794</th>\n",
       "      <td>116279</td>\n",
       "      <td>Krzysztof Sujka</td>\n",
       "      <td>M</td>\n",
       "      <td>24.0</td>\n",
       "      <td>178.0</td>\n",
       "      <td>72.0</td>\n",
       "      <td>Poland</td>\n",
       "      <td>POL</td>\n",
       "      <td>1980 Summer</td>\n",
       "      <td>1980</td>\n",
       "      <td>Summer</td>\n",
       "      <td>Moskva</td>\n",
       "      <td>Cycling</td>\n",
       "      <td>Cycling Men's Road Race, Individual</td>\n",
       "      <td>NaN</td>\n",
       "    </tr>\n",
       "    <tr>\n",
       "      <th>262354</th>\n",
       "      <td>131266</td>\n",
       "      <td>Jan Kazimierz Wojtas</td>\n",
       "      <td>M</td>\n",
       "      <td>27.0</td>\n",
       "      <td>179.0</td>\n",
       "      <td>75.0</td>\n",
       "      <td>Poland</td>\n",
       "      <td>POL</td>\n",
       "      <td>1994 Winter</td>\n",
       "      <td>1994</td>\n",
       "      <td>Winter</td>\n",
       "      <td>Lillehammer</td>\n",
       "      <td>Biathlon</td>\n",
       "      <td>Biathlon Men's 20 kilometres</td>\n",
       "      <td>NaN</td>\n",
       "    </tr>\n",
       "    <tr>\n",
       "      <th>84079</th>\n",
       "      <td>42729</td>\n",
       "      <td>Mateus Filipe Gregrio Machado</td>\n",
       "      <td>M</td>\n",
       "      <td>23.0</td>\n",
       "      <td>185.0</td>\n",
       "      <td>108.0</td>\n",
       "      <td>Brazil</td>\n",
       "      <td>BRA</td>\n",
       "      <td>2016 Summer</td>\n",
       "      <td>2016</td>\n",
       "      <td>Summer</td>\n",
       "      <td>Rio de Janeiro</td>\n",
       "      <td>Weightlifting</td>\n",
       "      <td>Weightlifting Men's Heavyweight</td>\n",
       "      <td>NaN</td>\n",
       "    </tr>\n",
       "    <tr>\n",
       "      <th>74480</th>\n",
       "      <td>37827</td>\n",
       "      <td>Anita Gae</td>\n",
       "      <td>F</td>\n",
       "      <td>29.0</td>\n",
       "      <td>177.0</td>\n",
       "      <td>69.0</td>\n",
       "      <td>Croatia</td>\n",
       "      <td>CRO</td>\n",
       "      <td>2012 Summer</td>\n",
       "      <td>2012</td>\n",
       "      <td>Summer</td>\n",
       "      <td>London</td>\n",
       "      <td>Handball</td>\n",
       "      <td>Handball Women's Handball</td>\n",
       "      <td>NaN</td>\n",
       "    </tr>\n",
       "    <tr>\n",
       "      <th>260048</th>\n",
       "      <td>130172</td>\n",
       "      <td>Andreas Widhlzl</td>\n",
       "      <td>M</td>\n",
       "      <td>21.0</td>\n",
       "      <td>180.0</td>\n",
       "      <td>64.0</td>\n",
       "      <td>Austria</td>\n",
       "      <td>AUT</td>\n",
       "      <td>1998 Winter</td>\n",
       "      <td>1998</td>\n",
       "      <td>Winter</td>\n",
       "      <td>Nagano</td>\n",
       "      <td>Ski Jumping</td>\n",
       "      <td>Ski Jumping Men's Large Hill, Team</td>\n",
       "      <td>Bronze</td>\n",
       "    </tr>\n",
       "    <tr>\n",
       "      <th>174723</th>\n",
       "      <td>87766</td>\n",
       "      <td>Giuliano Oberti</td>\n",
       "      <td>M</td>\n",
       "      <td>35.0</td>\n",
       "      <td>NaN</td>\n",
       "      <td>NaN</td>\n",
       "      <td>Esperia</td>\n",
       "      <td>ITA</td>\n",
       "      <td>1936 Summer</td>\n",
       "      <td>1936</td>\n",
       "      <td>Summer</td>\n",
       "      <td>Berlin</td>\n",
       "      <td>Sailing</td>\n",
       "      <td>Sailing Mixed 6 metres</td>\n",
       "      <td>NaN</td>\n",
       "    </tr>\n",
       "    <tr>\n",
       "      <th>132562</th>\n",
       "      <td>66727</td>\n",
       "      <td>Gunhild Maria Larking (-Svrd-)</td>\n",
       "      <td>F</td>\n",
       "      <td>16.0</td>\n",
       "      <td>173.0</td>\n",
       "      <td>56.0</td>\n",
       "      <td>Sweden</td>\n",
       "      <td>SWE</td>\n",
       "      <td>1952 Summer</td>\n",
       "      <td>1952</td>\n",
       "      <td>Summer</td>\n",
       "      <td>Helsinki</td>\n",
       "      <td>Athletics</td>\n",
       "      <td>Athletics Women's High Jump</td>\n",
       "      <td>NaN</td>\n",
       "    </tr>\n",
       "    <tr>\n",
       "      <th>20955</th>\n",
       "      <td>11062</td>\n",
       "      <td>Csar Bettex</td>\n",
       "      <td>M</td>\n",
       "      <td>36.0</td>\n",
       "      <td>NaN</td>\n",
       "      <td>NaN</td>\n",
       "      <td>Switzerland</td>\n",
       "      <td>SUI</td>\n",
       "      <td>1900 Summer</td>\n",
       "      <td>1900</td>\n",
       "      <td>Summer</td>\n",
       "      <td>Paris</td>\n",
       "      <td>Shooting</td>\n",
       "      <td>Shooting Men's Trap</td>\n",
       "      <td>NaN</td>\n",
       "    </tr>\n",
       "  </tbody>\n",
       "</table>\n",
       "</div>"
      ],
      "text/plain": [
       "            ID                            Name Sex   Age  Height  Weight  \\\n",
       "231794  116279                 Krzysztof Sujka   M  24.0   178.0    72.0   \n",
       "262354  131266            Jan Kazimierz Wojtas   M  27.0   179.0    75.0   \n",
       "84079    42729   Mateus Filipe Gregrio Machado   M  23.0   185.0   108.0   \n",
       "74480    37827                       Anita Gae   F  29.0   177.0    69.0   \n",
       "260048  130172                 Andreas Widhlzl   M  21.0   180.0    64.0   \n",
       "174723   87766                 Giuliano Oberti   M  35.0     NaN     NaN   \n",
       "132562   66727  Gunhild Maria Larking (-Svrd-)   F  16.0   173.0    56.0   \n",
       "20955    11062                     Csar Bettex   M  36.0     NaN     NaN   \n",
       "\n",
       "               Team  NOC        Games  Year  Season            City  \\\n",
       "231794       Poland  POL  1980 Summer  1980  Summer          Moskva   \n",
       "262354       Poland  POL  1994 Winter  1994  Winter     Lillehammer   \n",
       "84079        Brazil  BRA  2016 Summer  2016  Summer  Rio de Janeiro   \n",
       "74480       Croatia  CRO  2012 Summer  2012  Summer          London   \n",
       "260048      Austria  AUT  1998 Winter  1998  Winter          Nagano   \n",
       "174723      Esperia  ITA  1936 Summer  1936  Summer          Berlin   \n",
       "132562       Sweden  SWE  1952 Summer  1952  Summer        Helsinki   \n",
       "20955   Switzerland  SUI  1900 Summer  1900  Summer           Paris   \n",
       "\n",
       "                Sport                                Event   Medal  \n",
       "231794        Cycling  Cycling Men's Road Race, Individual     NaN  \n",
       "262354       Biathlon         Biathlon Men's 20 kilometres     NaN  \n",
       "84079   Weightlifting      Weightlifting Men's Heavyweight     NaN  \n",
       "74480        Handball            Handball Women's Handball     NaN  \n",
       "260048    Ski Jumping   Ski Jumping Men's Large Hill, Team  Bronze  \n",
       "174723        Sailing               Sailing Mixed 6 metres     NaN  \n",
       "132562      Athletics          Athletics Women's High Jump     NaN  \n",
       "20955        Shooting                  Shooting Men's Trap     NaN  "
      ]
     },
     "execution_count": 3,
     "metadata": {},
     "output_type": "execute_result"
    }
   ],
   "source": [
    "datos_atletas=pd.read_csv('atletas.csv',engine='python')\n",
    "datos_atletas.sample(8)"
   ]
  },
  {
   "cell_type": "code",
   "execution_count": 4,
   "id": "700c0b7d-e0de-4119-9ca7-78be9e158d52",
   "metadata": {
    "tags": []
   },
   "outputs": [
    {
     "data": {
      "text/html": [
       "<div>\n",
       "<style scoped>\n",
       "    .dataframe tbody tr th:only-of-type {\n",
       "        vertical-align: middle;\n",
       "    }\n",
       "\n",
       "    .dataframe tbody tr th {\n",
       "        vertical-align: top;\n",
       "    }\n",
       "\n",
       "    .dataframe thead th {\n",
       "        text-align: right;\n",
       "    }\n",
       "</style>\n",
       "<table border=\"1\" class=\"dataframe\">\n",
       "  <thead>\n",
       "    <tr style=\"text-align: right;\">\n",
       "      <th></th>\n",
       "      <th>Gender</th>\n",
       "      <th>Event</th>\n",
       "      <th>Location</th>\n",
       "      <th>Year</th>\n",
       "      <th>Medal</th>\n",
       "      <th>Name</th>\n",
       "      <th>Nationality</th>\n",
       "      <th>Result</th>\n",
       "    </tr>\n",
       "  </thead>\n",
       "  <tbody>\n",
       "    <tr>\n",
       "      <th>0</th>\n",
       "      <td>M</td>\n",
       "      <td>10000M Men</td>\n",
       "      <td>Rio</td>\n",
       "      <td>2016</td>\n",
       "      <td>G</td>\n",
       "      <td>Mohamed FARAH</td>\n",
       "      <td>USA</td>\n",
       "      <td>25:05.17</td>\n",
       "    </tr>\n",
       "    <tr>\n",
       "      <th>1</th>\n",
       "      <td>M</td>\n",
       "      <td>10000M Men</td>\n",
       "      <td>Rio</td>\n",
       "      <td>2016</td>\n",
       "      <td>S</td>\n",
       "      <td>Paul Kipngetich TANUI</td>\n",
       "      <td>KEN</td>\n",
       "      <td>27:05.64</td>\n",
       "    </tr>\n",
       "    <tr>\n",
       "      <th>2</th>\n",
       "      <td>M</td>\n",
       "      <td>10000M Men</td>\n",
       "      <td>Rio</td>\n",
       "      <td>2016</td>\n",
       "      <td>B</td>\n",
       "      <td>Tamirat TOLA</td>\n",
       "      <td>ETH</td>\n",
       "      <td>27:06.26</td>\n",
       "    </tr>\n",
       "    <tr>\n",
       "      <th>3</th>\n",
       "      <td>M</td>\n",
       "      <td>10000M Men</td>\n",
       "      <td>Beijing</td>\n",
       "      <td>2008</td>\n",
       "      <td>G</td>\n",
       "      <td>Kenenisa BEKELE</td>\n",
       "      <td>ETH</td>\n",
       "      <td>27:01.17</td>\n",
       "    </tr>\n",
       "    <tr>\n",
       "      <th>4</th>\n",
       "      <td>M</td>\n",
       "      <td>10000M Men</td>\n",
       "      <td>Beijing</td>\n",
       "      <td>2008</td>\n",
       "      <td>S</td>\n",
       "      <td>Sileshi SIHINE</td>\n",
       "      <td>ETH</td>\n",
       "      <td>27:02.77</td>\n",
       "    </tr>\n",
       "  </tbody>\n",
       "</table>\n",
       "</div>"
      ],
      "text/plain": [
       "  Gender       Event Location  Year Medal                   Name Nationality  \\\n",
       "0      M  10000M Men      Rio  2016     G          Mohamed FARAH         USA   \n",
       "1      M  10000M Men      Rio  2016     S  Paul Kipngetich TANUI         KEN   \n",
       "2      M  10000M Men      Rio  2016     B           Tamirat TOLA         ETH   \n",
       "3      M  10000M Men  Beijing  2008     G        Kenenisa BEKELE         ETH   \n",
       "4      M  10000M Men  Beijing  2008     S         Sileshi SIHINE         ETH   \n",
       "\n",
       "     Result  \n",
       "0  25:05.17  \n",
       "1  27:05.64  \n",
       "2  27:06.26  \n",
       "3  27:01.17  \n",
       "4  27:02.77  "
      ]
     },
     "execution_count": 4,
     "metadata": {},
     "output_type": "execute_result"
    }
   ],
   "source": [
    "datos_atletismo=pd.read_csv('atletismo.csv',engine='python',sep=';')\n",
    "datos_atletismo.head(5)"
   ]
  },
  {
   "cell_type": "markdown",
   "id": "6c87165f",
   "metadata": {},
   "source": [
    "### A2 - Análisis - 45%\n",
    "- Obtener un gráfico de barras con la evolución del número de deportes por año, eje X años, eje Y número de deportes\n",
    "![sports_per_year](res/sports_per_year.png)\n",
    "- Gráfico con la evolución de la participación femenina en las olimpiadas a lo largo de la historia, eje X años, eje Y número de atletas, para cada año una barra para cada sexo\n",
    "![sex](res/sex.png)\n",
    "- Gráfico con los 50 paises con más medallas en toda la historia, en cada barra el nombre completo del pais, longitud de cada barra, total de medallas obtenidas por pais\n",
    "![medallero](res/medallero.png)"
   ]
  },
  {
   "cell_type": "code",
   "execution_count": 76,
   "id": "833031d5-9d59-4f9e-9474-4891bc53cc31",
   "metadata": {},
   "outputs": [],
   "source": [
    "deportes=[]\n",
    "for y in range(len(datos_atletas)):\n",
    "    if datos_atletas.iloc[y]['Season']=='Summer':\n",
    "        deportes.append(((datos_atletas.iloc[y]['Year']),(datos_atletas.iloc[y]['Sport'])))\n"
   ]
  },
  {
   "cell_type": "code",
   "execution_count": 78,
   "id": "9f9da933-a5c0-4480-a6b0-40888d02db13",
   "metadata": {},
   "outputs": [],
   "source": [
    "data=pd.DataFrame(deportes,columns=['Year','Sport'])\n",
    "sports=[]\n",
    "for t in set(data['Year']):\n",
    "    mask=data['Year']==t\n",
    "    sports.append((t,len(data[mask]['Sport'].unique())))"
   ]
  },
  {
   "cell_type": "code",
   "execution_count": 79,
   "id": "bbec5dc4-0a28-4af6-baff-dfced7b2ad7b",
   "metadata": {
    "tags": []
   },
   "outputs": [
    {
     "data": {
      "text/plain": [
       "Text(0, 0.5, 'Number of sports')"
      ]
     },
     "execution_count": 79,
     "metadata": {},
     "output_type": "execute_result"
    },
    {
     "data": {
      "image/png": "[encoded data removed]",
      "text/plain": [
       "<Figure size 1500x700 with 1 Axes>"
      ]
     },
     "metadata": {},
     "output_type": "display_data"
    }
   ],
   "source": [
    "grafo1=pd.DataFrame(sports,columns=['Year','Sports']).sort_values(by='Year',ascending=True)\n",
    "fig, ax = plt.subplots(figsize = (15, 7))\n",
    "grafica1=sns.barplot(x='Year',y='Sports',data=grafo1,ax=ax)\n",
    "grafica1.set_title('Number of sports over the years')\n",
    "\n",
    "grafica1.set_xlabel('Number of sports')\n",
    "grafica1.set_ylabel('Number of sports')\n"
   ]
  },
  {
   "cell_type": "code",
   "execution_count": 37,
   "id": "1961c9f4-ee05-44fb-8b92-596a81fec1ea",
   "metadata": {},
   "outputs": [],
   "source": [
    "genero=[]\n",
    "for i in range(len(datos_atletas)):\n",
    "    if datos_atletas.iloc[i]['Season']=='Summer':\n",
    "        genero.append(((datos_atletas.iloc[i]['Year']),(datos_atletas.iloc[i]['Sex'])))"
   ]
  },
  {
   "cell_type": "code",
   "execution_count": 38,
   "id": "d90a3645-209e-4b1f-bf67-74089223654b",
   "metadata": {},
   "outputs": [
    {
     "data": {
      "text/plain": [
       "Text(0, 0.5, 'Number of athletes')"
      ]
     },
     "execution_count": 38,
     "metadata": {},
     "output_type": "execute_result"
    },
    {
     "data": {
      "image/png": "[encoded data removed]",
      "text/plain": [
       "<Figure size 1500x700 with 1 Axes>"
      ]
     },
     "metadata": {},
     "output_type": "display_data"
    }
   ],
   "source": [
    "sexo=pd.DataFrame(genero,columns=['Year','Sex'])\n",
    "fig, ax = plt.subplots(figsize = (15, 7))\n",
    "grafica2=sns.countplot(x='Year',hue='Sex',data=sexo,ax=ax)\n",
    "grafica2.set_title('Sex analysis')\n",
    "\n",
    "grafica2.set_xlabel('Year')\n",
    "grafica2.set_ylabel('Number of athletes')"
   ]
  },
  {
   "cell_type": "code",
   "execution_count": 54,
   "id": "34160b1b-9608-40d2-8cd1-20f07a27213e",
   "metadata": {},
   "outputs": [],
   "source": [
    "datos_atletas['Medal']=datos_atletas['Medal'].fillna(0)\n",
    "medalla=[]\n",
    "for y in range(len(datos_atletas)):\n",
    "    if datos_atletas.iloc[y]['Medal']!=0 and datos_atletas.iloc[y]['Season']=='Summer':\n",
    "        medalla.append(((datos_atletas.iloc[y]['Team']),(datos_atletas.iloc[y]['Medal'])))"
   ]
  },
  {
   "cell_type": "code",
   "execution_count": 55,
   "id": "db486a27-5847-4d0d-9cb7-ff591a1bf4d3",
   "metadata": {},
   "outputs": [],
   "source": [
    "data=pd.DataFrame(medalla,columns=['Pais','Medalla'])\n",
    "medallero=[]\n",
    "for t in set(data['Pais']):\n",
    "    mask=data['Pais']==t\n",
    "    medallero.append((t,len(data[mask]['Medalla'])))"
   ]
  },
  {
   "cell_type": "code",
   "execution_count": 67,
   "id": "af032701-c49f-4923-923e-7def363811fd",
   "metadata": {},
   "outputs": [
    {
     "data": {
      "image/png": "[encoded data removed]",
      "text/plain": [
       "<Figure size 1000x1500 with 1 Axes>"
      ]
     },
     "metadata": {},
     "output_type": "display_data"
    }
   ],
   "source": [
    "medallero_total=pd.DataFrame(medallero,columns=['Pais','Medallas']).sort_values(by='Medallas',ascending=False)\n",
    "fig, ax = plt.subplots(figsize = (10, 15))\n",
    "grafica3=sns.barplot(x='Medallas',y='Pais',data=medallero_total[:50],ax=ax)\n",
    "grafica3.set_title('Top 50 countries with more medals')\n",
    "for i in grafica3.containers:\n",
    "    grafica3.bar_label(i)"
   ]
  },
  {
   "cell_type": "markdown",
   "id": "7918d9b7",
   "metadata": {},
   "source": [
    "### A3 - Machine Learning - 45%\n",
    "\n",
    "- Crear un modelo capaz de predecir el tiempo que va a hacer un atleta en la prueba de los 100 metros lisos, en función de su edad, sexo, peso y altura.\n",
    "![model](res/model.png)"
   ]
  },
  {
   "cell_type": "code",
   "execution_count": 5,
   "id": "016b1f6d-fd71-475c-863c-f1d58c8fb91b",
   "metadata": {
    "collapsed": true,
    "jupyter": {
     "outputs_hidden": true
    },
    "tags": []
   },
   "outputs": [
    {
     "name": "stderr",
     "output_type": "stream",
     "text": [
      "C:\\Users\\Usuario\\AppData\\Local\\Temp\\ipykernel_12396\\3587133565.py:3: SettingWithCopyWarning: \n",
      "A value is trying to be set on a copy of a slice from a DataFrame\n",
      "\n",
      "See the caveats in the documentation: https://pandas.pydata.org/pandas-docs/stable/user_guide/indexing.html#returning-a-view-versus-a-copy\n",
      "  datos_atletismo['Medal'][i]='Gold'\n",
      "C:\\Users\\Usuario\\AppData\\Local\\Temp\\ipykernel_12396\\3587133565.py:5: SettingWithCopyWarning: \n",
      "A value is trying to be set on a copy of a slice from a DataFrame\n",
      "\n",
      "See the caveats in the documentation: https://pandas.pydata.org/pandas-docs/stable/user_guide/indexing.html#returning-a-view-versus-a-copy\n",
      "  datos_atletismo['Medal'][i]='Silver'\n",
      "C:\\Users\\Usuario\\AppData\\Local\\Temp\\ipykernel_12396\\3587133565.py:7: SettingWithCopyWarning: \n",
      "A value is trying to be set on a copy of a slice from a DataFrame\n",
      "\n",
      "See the caveats in the documentation: https://pandas.pydata.org/pandas-docs/stable/user_guide/indexing.html#returning-a-view-versus-a-copy\n",
      "  datos_atletismo['Medal'][i]='Bronze'\n"
     ]
    }
   ],
   "source": [
    "for i in range(len(datos_atletismo)):\n",
    "    if datos_atletismo['Medal'][i]=='G':\n",
    "        datos_atletismo['Medal'][i]='Gold'\n",
    "    elif datos_atletismo['Medal'][i]=='S':\n",
    "        datos_atletismo['Medal'][i]='Silver'\n",
    "    elif datos_atletismo['Medal'][i]=='B':\n",
    "        datos_atletismo['Medal'][i]='Bronze'"
   ]
  },
  {
   "cell_type": "code",
   "execution_count": 6,
   "id": "a473aa29-4e2f-4f7c-87ac-ee151f9355a2",
   "metadata": {
    "collapsed": true,
    "jupyter": {
     "outputs_hidden": true
    },
    "tags": []
   },
   "outputs": [
    {
     "name": "stderr",
     "output_type": "stream",
     "text": [
      "C:\\Users\\Usuario\\AppData\\Local\\Temp\\ipykernel_12396\\3204767392.py:3: SettingWithCopyWarning: \n",
      "A value is trying to be set on a copy of a slice from a DataFrame\n",
      "\n",
      "See the caveats in the documentation: https://pandas.pydata.org/pandas-docs/stable/user_guide/indexing.html#returning-a-view-versus-a-copy\n",
      "  datos_atletismo['Event'][t]=\"Athletics Men's 100 metres\"\n",
      "C:\\Users\\Usuario\\AppData\\Local\\Temp\\ipykernel_12396\\3204767392.py:5: SettingWithCopyWarning: \n",
      "A value is trying to be set on a copy of a slice from a DataFrame\n",
      "\n",
      "See the caveats in the documentation: https://pandas.pydata.org/pandas-docs/stable/user_guide/indexing.html#returning-a-view-versus-a-copy\n",
      "  datos_atletismo['Event'][t]=\"Athletics Women's 100 metres\"\n"
     ]
    }
   ],
   "source": [
    "for t in range(len(datos_atletismo)):\n",
    "    if datos_atletismo['Event'][t]=='100M Men':\n",
    "        datos_atletismo['Event'][t]=\"Athletics Men's 100 metres\"\n",
    "    elif datos_atletismo['Event'][t]=='100M Women':\n",
    "        datos_atletismo['Event'][t]=\"Athletics Women's 100 metres\""
   ]
  },
  {
   "cell_type": "code",
   "execution_count": 7,
   "id": "b5635231-3032-4b03-addb-e913814b23e1",
   "metadata": {},
   "outputs": [],
   "source": [
    "atletas=datos_atletas[(datos_atletas['Event']==\"Athletics Men's 100 metres\")|(datos_atletas['Event']==\"Athletics Women's 100 metres\")]\n",
    "atletas1=atletas[(atletas['Medal']=='Gold')|(atletas['Medal']=='Silver')|(atletas['Medal']=='Bronze')]"
   ]
  },
  {
   "cell_type": "code",
   "execution_count": 8,
   "id": "9fdd80d7-0caf-42ef-8bde-817fb9d23949",
   "metadata": {
    "collapsed": true,
    "jupyter": {
     "outputs_hidden": true
    },
    "tags": []
   },
   "outputs": [
    {
     "name": "stderr",
     "output_type": "stream",
     "text": [
      "C:\\Users\\Usuario\\AppData\\Local\\Temp\\ipykernel_12396\\3574898629.py:2: SettingWithCopyWarning: \n",
      "A value is trying to be set on a copy of a slice from a DataFrame.\n",
      "Try using .loc[row_indexer,col_indexer] = value instead\n",
      "\n",
      "See the caveats in the documentation: https://pandas.pydata.org/pandas-docs/stable/user_guide/indexing.html#returning-a-view-versus-a-copy\n",
      "  atletismo['NOC']=atletismo['Nationality']\n"
     ]
    }
   ],
   "source": [
    "atletismo=datos_atletismo[(datos_atletismo['Event']==\"Athletics Men's 100 metres\")|(datos_atletismo['Event']==\"Athletics Women's 100 metres\")]\n",
    "atletismo['NOC']=atletismo['Nationality']"
   ]
  },
  {
   "cell_type": "code",
   "execution_count": 9,
   "id": "e7f7c1c2-72db-418d-b134-7c2ee9cd1908",
   "metadata": {
    "collapsed": true,
    "jupyter": {
     "outputs_hidden": true
    },
    "tags": []
   },
   "outputs": [
    {
     "name": "stderr",
     "output_type": "stream",
     "text": [
      "C:\\Users\\Usuario\\AppData\\Local\\Temp\\ipykernel_12396\\1657347099.py:4: SettingWithCopyWarning: \n",
      "A value is trying to be set on a copy of a slice from a DataFrame\n",
      "\n",
      "See the caveats in the documentation: https://pandas.pydata.org/pandas-docs/stable/user_guide/indexing.html#returning-a-view-versus-a-copy\n",
      "  dataset_conjunto['Sex'][c]=0\n",
      "C:\\Users\\Usuario\\AppData\\Local\\Temp\\ipykernel_12396\\1657347099.py:6: SettingWithCopyWarning: \n",
      "A value is trying to be set on a copy of a slice from a DataFrame\n",
      "\n",
      "See the caveats in the documentation: https://pandas.pydata.org/pandas-docs/stable/user_guide/indexing.html#returning-a-view-versus-a-copy\n",
      "  dataset_conjunto['Sex'][c]=1\n"
     ]
    }
   ],
   "source": [
    "dataset_conjunto=atletas1.merge(atletismo,on=['Event','Year','Medal','NOC'],how='left')\n",
    "for c in range(len(dataset_conjunto)):\n",
    "    if dataset_conjunto['Sex'][c]=='M':\n",
    "        dataset_conjunto['Sex'][c]=0\n",
    "    elif dataset_conjunto['Sex'][c]=='F':\n",
    "        dataset_conjunto['Sex'][c]=1"
   ]
  },
  {
   "cell_type": "code",
   "execution_count": 10,
   "id": "0dbee534-b806-4742-8c5d-80564a1ce88c",
   "metadata": {
    "tags": []
   },
   "outputs": [
    {
     "data": {
      "text/html": [
       "<div>\n",
       "<style scoped>\n",
       "    .dataframe tbody tr th:only-of-type {\n",
       "        vertical-align: middle;\n",
       "    }\n",
       "\n",
       "    .dataframe tbody tr th {\n",
       "        vertical-align: top;\n",
       "    }\n",
       "\n",
       "    .dataframe thead th {\n",
       "        text-align: right;\n",
       "    }\n",
       "</style>\n",
       "<table border=\"1\" class=\"dataframe\">\n",
       "  <thead>\n",
       "    <tr style=\"text-align: right;\">\n",
       "      <th></th>\n",
       "      <th>Age</th>\n",
       "      <th>Sex</th>\n",
       "      <th>Height</th>\n",
       "      <th>Weight</th>\n",
       "      <th>Result</th>\n",
       "    </tr>\n",
       "  </thead>\n",
       "  <tbody>\n",
       "    <tr>\n",
       "      <th>83</th>\n",
       "      <td>18.0</td>\n",
       "      <td>0</td>\n",
       "      <td>178.0</td>\n",
       "      <td>72.0</td>\n",
       "      <td>10.9</td>\n",
       "    </tr>\n",
       "    <tr>\n",
       "      <th>45</th>\n",
       "      <td>28.0</td>\n",
       "      <td>0</td>\n",
       "      <td>180.0</td>\n",
       "      <td>73.0</td>\n",
       "      <td>9.89</td>\n",
       "    </tr>\n",
       "    <tr>\n",
       "      <th>99</th>\n",
       "      <td>22.0</td>\n",
       "      <td>1</td>\n",
       "      <td>165.0</td>\n",
       "      <td>55.0</td>\n",
       "      <td>11.07</td>\n",
       "    </tr>\n",
       "    <tr>\n",
       "      <th>94</th>\n",
       "      <td>26.0</td>\n",
       "      <td>0</td>\n",
       "      <td>175.0</td>\n",
       "      <td>70.0</td>\n",
       "      <td>10.04</td>\n",
       "    </tr>\n",
       "    <tr>\n",
       "      <th>69</th>\n",
       "      <td>22.0</td>\n",
       "      <td>0</td>\n",
       "      <td>179.0</td>\n",
       "      <td>73.0</td>\n",
       "      <td>10.4</td>\n",
       "    </tr>\n",
       "  </tbody>\n",
       "</table>\n",
       "</div>"
      ],
      "text/plain": [
       "     Age Sex  Height  Weight Result\n",
       "83  18.0   0   178.0    72.0   10.9\n",
       "45  28.0   0   180.0    73.0   9.89\n",
       "99  22.0   1   165.0    55.0  11.07\n",
       "94  26.0   0   175.0    70.0  10.04\n",
       "69  22.0   0   179.0    73.0   10.4"
      ]
     },
     "execution_count": 10,
     "metadata": {},
     "output_type": "execute_result"
    }
   ],
   "source": [
    "modelo=pd.DataFrame(dataset_conjunto,columns=['Age','Sex','Height','Weight','Result'])\n",
    "train=modelo.dropna(axis=0)\n",
    "train_data=train[train['Result']!='None']\n",
    "train_data.sample(5)"
   ]
  },
  {
   "cell_type": "code",
   "execution_count": 11,
   "id": "b62477c4-5f5d-45b7-975e-848038f8143c",
   "metadata": {
    "collapsed": true,
    "jupyter": {
     "outputs_hidden": true
    },
    "tags": []
   },
   "outputs": [
    {
     "name": "stderr",
     "output_type": "stream",
     "text": [
      "C:\\Users\\Usuario\\AppData\\Local\\Temp\\ipykernel_12396\\3180632385.py:1: SettingWithCopyWarning: \n",
      "A value is trying to be set on a copy of a slice from a DataFrame.\n",
      "Try using .loc[row_indexer,col_indexer] = value instead\n",
      "\n",
      "See the caveats in the documentation: https://pandas.pydata.org/pandas-docs/stable/user_guide/indexing.html#returning-a-view-versus-a-copy\n",
      "  train_data.Result=train_data.Result.astype(float)\n",
      "C:\\Users\\Usuario\\AppData\\Local\\Temp\\ipykernel_12396\\3180632385.py:2: SettingWithCopyWarning: \n",
      "A value is trying to be set on a copy of a slice from a DataFrame.\n",
      "Try using .loc[row_indexer,col_indexer] = value instead\n",
      "\n",
      "See the caveats in the documentation: https://pandas.pydata.org/pandas-docs/stable/user_guide/indexing.html#returning-a-view-versus-a-copy\n",
      "  train_data.Sex=train_data.Sex.astype(int)\n"
     ]
    }
   ],
   "source": [
    "train_data.Result=train_data.Result.astype(float)\n",
    "train_data.Sex=train_data.Sex.astype(int)"
   ]
  },
  {
   "cell_type": "code",
   "execution_count": 12,
   "id": "171f7a60-9a7b-43c8-a86e-78237cc7541b",
   "metadata": {},
   "outputs": [
    {
     "data": {
      "text/html": [
       "<div>\n",
       "<style scoped>\n",
       "    .dataframe tbody tr th:only-of-type {\n",
       "        vertical-align: middle;\n",
       "    }\n",
       "\n",
       "    .dataframe tbody tr th {\n",
       "        vertical-align: top;\n",
       "    }\n",
       "\n",
       "    .dataframe thead th {\n",
       "        text-align: right;\n",
       "    }\n",
       "</style>\n",
       "<table border=\"1\" class=\"dataframe\">\n",
       "  <thead>\n",
       "    <tr style=\"text-align: right;\">\n",
       "      <th></th>\n",
       "      <th>Result</th>\n",
       "      <th>y_transformed</th>\n",
       "    </tr>\n",
       "  </thead>\n",
       "  <tbody>\n",
       "    <tr>\n",
       "      <th>120</th>\n",
       "      <td>10.20</td>\n",
       "      <td>21</td>\n",
       "    </tr>\n",
       "    <tr>\n",
       "      <th>60</th>\n",
       "      <td>12.20</td>\n",
       "      <td>70</td>\n",
       "    </tr>\n",
       "    <tr>\n",
       "      <th>13</th>\n",
       "      <td>9.63</td>\n",
       "      <td>0</td>\n",
       "    </tr>\n",
       "    <tr>\n",
       "      <th>20</th>\n",
       "      <td>12.00</td>\n",
       "      <td>69</td>\n",
       "    </tr>\n",
       "    <tr>\n",
       "      <th>75</th>\n",
       "      <td>10.60</td>\n",
       "      <td>30</td>\n",
       "    </tr>\n",
       "  </tbody>\n",
       "</table>\n",
       "</div>"
      ],
      "text/plain": [
       "     Result  y_transformed\n",
       "120   10.20             21\n",
       "60    12.20             70\n",
       "13     9.63              0\n",
       "20    12.00             69\n",
       "75    10.60             30"
      ]
     },
     "execution_count": 12,
     "metadata": {},
     "output_type": "execute_result"
    }
   ],
   "source": [
    "lab = preprocessing.LabelEncoder()\n",
    "resultados=train_data['Result']\n",
    "y_transformed = lab.fit_transform(resultados)\n",
    "\n",
    "valores_transformados=pd.DataFrame(train_data,columns=['Result','y_transformed'])\n",
    "valores_transformados['y_transformed']=y_transformed\n",
    "valores_transformados.sample(5)"
   ]
  },
  {
   "cell_type": "code",
   "execution_count": 105,
   "id": "3d8a6445-6bdd-4d00-bcba-7da168b23ec5",
   "metadata": {},
   "outputs": [
    {
     "name": "stdout",
     "output_type": "stream",
     "text": [
      "X shape= (135, 4)\n",
      "y shape= (135, 1)\n"
     ]
    }
   ],
   "source": [
    "X = train_data[['Age', 'Sex', 'Weight', 'Height']]\n",
    "y = valores_transformados[['y_transformed']]\n",
    "print('X shape=', X.shape)\n",
    "print('y shape=', y.shape)"
   ]
  },
  {
   "cell_type": "code",
   "execution_count": 106,
   "id": "17188f2c-01cd-4b72-8314-18e91472fc7b",
   "metadata": {},
   "outputs": [
    {
     "name": "stdout",
     "output_type": "stream",
     "text": [
      "X_train dimension=  (121, 4)\n",
      "X_test dimension=  (14, 4)\n",
      "y_train dimension=  (121, 1)\n",
      "y_test dimension=  (14, 1)\n"
     ]
    }
   ],
   "source": [
    "X_train,X_test, y_train, y_test = model_selection.train_test_split(X, y, test_size= 0.1, random_state= 3)\n",
    "print('X_train dimension= ', X_train.shape)\n",
    "print('X_test dimension= ', X_test.shape)\n",
    "print('y_train dimension= ', y_train.shape)\n",
    "print('y_test dimension= ', y_test.shape)"
   ]
  },
  {
   "cell_type": "code",
   "execution_count": 107,
   "id": "1e7d199b-87e6-4a0f-9f9f-4502ebcc2513",
   "metadata": {},
   "outputs": [],
   "source": [
    "cls = tree.DecisionTreeClassifier(random_state= 1)"
   ]
  },
  {
   "cell_type": "code",
   "execution_count": 108,
   "id": "f2b1d10c-6f96-4aab-9f51-1665d5b55b47",
   "metadata": {},
   "outputs": [
    {
     "data": {
      "text/html": [
       "<style>#sk-container-id-8 {color: black;background-color: white;}#sk-container-id-8 pre{padding: 0;}#sk-container-id-8 div.sk-toggleable {background-color: white;}#sk-container-id-8 label.sk-toggleable__label {cursor: pointer;display: block;width: 100%;margin-bottom: 0;padding: 0.3em;box-sizing: border-box;text-align: center;}#sk-container-id-8 label.sk-toggleable__label-arrow:before {content: \"▸\";float: left;margin-right: 0.25em;color: #696969;}#sk-container-id-8 label.sk-toggleable__label-arrow:hover:before {color: black;}#sk-container-id-8 div.sk-estimator:hover label.sk-toggleable__label-arrow:before {color: black;}#sk-container-id-8 div.sk-toggleable__content {max-height: 0;max-width: 0;overflow: hidden;text-align: left;background-color: #f0f8ff;}#sk-container-id-8 div.sk-toggleable__content pre {margin: 0.2em;color: black;border-radius: 0.25em;background-color: #f0f8ff;}#sk-container-id-8 input.sk-toggleable__control:checked~div.sk-toggleable__content {max-height: 200px;max-width: 100%;overflow: auto;}#sk-container-id-8 input.sk-toggleable__control:checked~label.sk-toggleable__label-arrow:before {content: \"▾\";}#sk-container-id-8 div.sk-estimator input.sk-toggleable__control:checked~label.sk-toggleable__label {background-color: #d4ebff;}#sk-container-id-8 div.sk-label input.sk-toggleable__control:checked~label.sk-toggleable__label {background-color: #d4ebff;}#sk-container-id-8 input.sk-hidden--visually {border: 0;clip: rect(1px 1px 1px 1px);clip: rect(1px, 1px, 1px, 1px);height: 1px;margin: -1px;overflow: hidden;padding: 0;position: absolute;width: 1px;}#sk-container-id-8 div.sk-estimator {font-family: monospace;background-color: #f0f8ff;border: 1px dotted black;border-radius: 0.25em;box-sizing: border-box;margin-bottom: 0.5em;}#sk-container-id-8 div.sk-estimator:hover {background-color: #d4ebff;}#sk-container-id-8 div.sk-parallel-item::after {content: \"\";width: 100%;border-bottom: 1px solid gray;flex-grow: 1;}#sk-container-id-8 div.sk-label:hover label.sk-toggleable__label {background-color: #d4ebff;}#sk-container-id-8 div.sk-serial::before {content: \"\";position: absolute;border-left: 1px solid gray;box-sizing: border-box;top: 0;bottom: 0;left: 50%;z-index: 0;}#sk-container-id-8 div.sk-serial {display: flex;flex-direction: column;align-items: center;background-color: white;padding-right: 0.2em;padding-left: 0.2em;position: relative;}#sk-container-id-8 div.sk-item {position: relative;z-index: 1;}#sk-container-id-8 div.sk-parallel {display: flex;align-items: stretch;justify-content: center;background-color: white;position: relative;}#sk-container-id-8 div.sk-item::before, #sk-container-id-8 div.sk-parallel-item::before {content: \"\";position: absolute;border-left: 1px solid gray;box-sizing: border-box;top: 0;bottom: 0;left: 50%;z-index: -1;}#sk-container-id-8 div.sk-parallel-item {display: flex;flex-direction: column;z-index: 1;position: relative;background-color: white;}#sk-container-id-8 div.sk-parallel-item:first-child::after {align-self: flex-end;width: 50%;}#sk-container-id-8 div.sk-parallel-item:last-child::after {align-self: flex-start;width: 50%;}#sk-container-id-8 div.sk-parallel-item:only-child::after {width: 0;}#sk-container-id-8 div.sk-dashed-wrapped {border: 1px dashed gray;margin: 0 0.4em 0.5em 0.4em;box-sizing: border-box;padding-bottom: 0.4em;background-color: white;}#sk-container-id-8 div.sk-label label {font-family: monospace;font-weight: bold;display: inline-block;line-height: 1.2em;}#sk-container-id-8 div.sk-label-container {text-align: center;}#sk-container-id-8 div.sk-container {/* jupyter's `normalize.less` sets `[hidden] { display: none; }` but bootstrap.min.css set `[hidden] { display: none !important; }` so we also need the `!important` here to be able to override the default hidden behavior on the sphinx rendered scikit-learn.org. See: https://github.com/scikit-learn/scikit-learn/issues/21755 */display: inline-block !important;position: relative;}#sk-container-id-8 div.sk-text-repr-fallback {display: none;}</style><div id=\"sk-container-id-8\" class=\"sk-top-container\"><div class=\"sk-text-repr-fallback\"><pre>DecisionTreeClassifier(random_state=1)</pre><b>In a Jupyter environment, please rerun this cell to show the HTML representation or trust the notebook. <br />On GitHub, the HTML representation is unable to render, please try loading this page with nbviewer.org.</b></div><div class=\"sk-container\" hidden><div class=\"sk-item\"><div class=\"sk-estimator sk-toggleable\"><input class=\"sk-toggleable__control sk-hidden--visually\" id=\"sk-estimator-id-8\" type=\"checkbox\" checked><label for=\"sk-estimator-id-8\" class=\"sk-toggleable__label sk-toggleable__label-arrow\">DecisionTreeClassifier</label><div class=\"sk-toggleable__content\"><pre>DecisionTreeClassifier(random_state=1)</pre></div></div></div></div></div>"
      ],
      "text/plain": [
       "DecisionTreeClassifier(random_state=1)"
      ]
     },
     "execution_count": 108,
     "metadata": {},
     "output_type": "execute_result"
    }
   ],
   "source": [
    "cls"
   ]
  },
  {
   "cell_type": "code",
   "execution_count": 109,
   "id": "774d3739-40f6-4f9b-8ee4-0206a180229a",
   "metadata": {},
   "outputs": [
    {
     "data": {
      "text/html": [
       "<style>#sk-container-id-9 {color: black;background-color: white;}#sk-container-id-9 pre{padding: 0;}#sk-container-id-9 div.sk-toggleable {background-color: white;}#sk-container-id-9 label.sk-toggleable__label {cursor: pointer;display: block;width: 100%;margin-bottom: 0;padding: 0.3em;box-sizing: border-box;text-align: center;}#sk-container-id-9 label.sk-toggleable__label-arrow:before {content: \"▸\";float: left;margin-right: 0.25em;color: #696969;}#sk-container-id-9 label.sk-toggleable__label-arrow:hover:before {color: black;}#sk-container-id-9 div.sk-estimator:hover label.sk-toggleable__label-arrow:before {color: black;}#sk-container-id-9 div.sk-toggleable__content {max-height: 0;max-width: 0;overflow: hidden;text-align: left;background-color: #f0f8ff;}#sk-container-id-9 div.sk-toggleable__content pre {margin: 0.2em;color: black;border-radius: 0.25em;background-color: #f0f8ff;}#sk-container-id-9 input.sk-toggleable__control:checked~div.sk-toggleable__content {max-height: 200px;max-width: 100%;overflow: auto;}#sk-container-id-9 input.sk-toggleable__control:checked~label.sk-toggleable__label-arrow:before {content: \"▾\";}#sk-container-id-9 div.sk-estimator input.sk-toggleable__control:checked~label.sk-toggleable__label {background-color: #d4ebff;}#sk-container-id-9 div.sk-label input.sk-toggleable__control:checked~label.sk-toggleable__label {background-color: #d4ebff;}#sk-container-id-9 input.sk-hidden--visually {border: 0;clip: rect(1px 1px 1px 1px);clip: rect(1px, 1px, 1px, 1px);height: 1px;margin: -1px;overflow: hidden;padding: 0;position: absolute;width: 1px;}#sk-container-id-9 div.sk-estimator {font-family: monospace;background-color: #f0f8ff;border: 1px dotted black;border-radius: 0.25em;box-sizing: border-box;margin-bottom: 0.5em;}#sk-container-id-9 div.sk-estimator:hover {background-color: #d4ebff;}#sk-container-id-9 div.sk-parallel-item::after {content: \"\";width: 100%;border-bottom: 1px solid gray;flex-grow: 1;}#sk-container-id-9 div.sk-label:hover label.sk-toggleable__label {background-color: #d4ebff;}#sk-container-id-9 div.sk-serial::before {content: \"\";position: absolute;border-left: 1px solid gray;box-sizing: border-box;top: 0;bottom: 0;left: 50%;z-index: 0;}#sk-container-id-9 div.sk-serial {display: flex;flex-direction: column;align-items: center;background-color: white;padding-right: 0.2em;padding-left: 0.2em;position: relative;}#sk-container-id-9 div.sk-item {position: relative;z-index: 1;}#sk-container-id-9 div.sk-parallel {display: flex;align-items: stretch;justify-content: center;background-color: white;position: relative;}#sk-container-id-9 div.sk-item::before, #sk-container-id-9 div.sk-parallel-item::before {content: \"\";position: absolute;border-left: 1px solid gray;box-sizing: border-box;top: 0;bottom: 0;left: 50%;z-index: -1;}#sk-container-id-9 div.sk-parallel-item {display: flex;flex-direction: column;z-index: 1;position: relative;background-color: white;}#sk-container-id-9 div.sk-parallel-item:first-child::after {align-self: flex-end;width: 50%;}#sk-container-id-9 div.sk-parallel-item:last-child::after {align-self: flex-start;width: 50%;}#sk-container-id-9 div.sk-parallel-item:only-child::after {width: 0;}#sk-container-id-9 div.sk-dashed-wrapped {border: 1px dashed gray;margin: 0 0.4em 0.5em 0.4em;box-sizing: border-box;padding-bottom: 0.4em;background-color: white;}#sk-container-id-9 div.sk-label label {font-family: monospace;font-weight: bold;display: inline-block;line-height: 1.2em;}#sk-container-id-9 div.sk-label-container {text-align: center;}#sk-container-id-9 div.sk-container {/* jupyter's `normalize.less` sets `[hidden] { display: none; }` but bootstrap.min.css set `[hidden] { display: none !important; }` so we also need the `!important` here to be able to override the default hidden behavior on the sphinx rendered scikit-learn.org. See: https://github.com/scikit-learn/scikit-learn/issues/21755 */display: inline-block !important;position: relative;}#sk-container-id-9 div.sk-text-repr-fallback {display: none;}</style><div id=\"sk-container-id-9\" class=\"sk-top-container\"><div class=\"sk-text-repr-fallback\"><pre>DecisionTreeClassifier(random_state=1)</pre><b>In a Jupyter environment, please rerun this cell to show the HTML representation or trust the notebook. <br />On GitHub, the HTML representation is unable to render, please try loading this page with nbviewer.org.</b></div><div class=\"sk-container\" hidden><div class=\"sk-item\"><div class=\"sk-estimator sk-toggleable\"><input class=\"sk-toggleable__control sk-hidden--visually\" id=\"sk-estimator-id-9\" type=\"checkbox\" checked><label for=\"sk-estimator-id-9\" class=\"sk-toggleable__label sk-toggleable__label-arrow\">DecisionTreeClassifier</label><div class=\"sk-toggleable__content\"><pre>DecisionTreeClassifier(random_state=1)</pre></div></div></div></div></div>"
      ],
      "text/plain": [
       "DecisionTreeClassifier(random_state=1)"
      ]
     },
     "execution_count": 109,
     "metadata": {},
     "output_type": "execute_result"
    }
   ],
   "source": [
    "cls.fit(X_train,y_train)"
   ]
  },
  {
   "cell_type": "code",
   "execution_count": 110,
   "id": "ceb5d9d4-c63b-44a9-9157-eae578cf1aae",
   "metadata": {},
   "outputs": [],
   "source": [
    "score=cls.score(X_test, y_test)"
   ]
  },
  {
   "cell_type": "code",
   "execution_count": 111,
   "id": "d4d22ffb-ab53-4cae-ad4d-1b71c8deffa0",
   "metadata": {},
   "outputs": [
    {
     "name": "stdin",
     "output_type": "stream",
     "text": [
      "Introduce la edad: 25\n",
      "Introduce el sexo(0: Hombre,1: Mujer): 0\n",
      "Introduce el peso (kg): 75\n",
      "Introduce la altura (cm): 180\n"
     ]
    },
    {
     "name": "stdout",
     "output_type": "stream",
     "text": [
      "Segun el modelo escogido, el atleta con los datos introducidos hará el siguiente tiempo:\n",
      "10.02 segundos\n"
     ]
    },
    {
     "name": "stderr",
     "output_type": "stream",
     "text": [
      "C:\\Users\\Usuario\\AppData\\Local\\Programs\\Python\\Python310\\lib\\site-packages\\sklearn\\base.py:450: UserWarning: X does not have valid feature names, but DecisionTreeClassifier was fitted with feature names\n",
      "  warnings.warn(\n"
     ]
    }
   ],
   "source": [
    "Edad=int(input('Introduce la edad:'))\n",
    "Sexo=int(input('Introduce el sexo(0: Hombre,1: Mujer):'))\n",
    "Peso=int(input('Introduce el peso (kg):'))\n",
    "Altura=int(input('Introduce la altura (cm):'))\n",
    "prediccion=(cls.predict([[Edad,Sexo,Peso,Altura]]))[0]\n",
    "print(f\"Segun el modelo escogido, el atleta con los datos introducidos hará el siguiente tiempo:\")\n",
    "print(valores_transformados[valores_transformados['y_transformed']==prediccion]['Result'].unique()[0],'segundos')"
   ]
  },
  {
   "cell_type": "code",
   "execution_count": 112,
   "id": "258cf2f2-dd3f-4f59-b808-da355f7a7543",
   "metadata": {},
   "outputs": [],
   "source": [
    "from sklearn.linear_model import LogisticRegression\n",
    "from sklearn import metrics\n",
    "from sklearn.neighbors import KNeighborsClassifier"
   ]
  },
  {
   "cell_type": "code",
   "execution_count": 29,
   "id": "a7895908-cba5-49e8-957b-2e4cec049604",
   "metadata": {},
   "outputs": [
    {
     "name": "stderr",
     "output_type": "stream",
     "text": [
      "C:\\Users\\Usuario\\AppData\\Local\\Programs\\Python\\Python310\\lib\\site-packages\\sklearn\\utils\\validation.py:1111: DataConversionWarning: A column-vector y was passed when a 1d array was expected. Please change the shape of y to (n_samples, ), for example using ravel().\n",
      "  y = column_or_1d(y, warn=True)\n"
     ]
    },
    {
     "data": {
      "text/html": [
       "<style>#sk-container-id-4 {color: black;background-color: white;}#sk-container-id-4 pre{padding: 0;}#sk-container-id-4 div.sk-toggleable {background-color: white;}#sk-container-id-4 label.sk-toggleable__label {cursor: pointer;display: block;width: 100%;margin-bottom: 0;padding: 0.3em;box-sizing: border-box;text-align: center;}#sk-container-id-4 label.sk-toggleable__label-arrow:before {content: \"▸\";float: left;margin-right: 0.25em;color: #696969;}#sk-container-id-4 label.sk-toggleable__label-arrow:hover:before {color: black;}#sk-container-id-4 div.sk-estimator:hover label.sk-toggleable__label-arrow:before {color: black;}#sk-container-id-4 div.sk-toggleable__content {max-height: 0;max-width: 0;overflow: hidden;text-align: left;background-color: #f0f8ff;}#sk-container-id-4 div.sk-toggleable__content pre {margin: 0.2em;color: black;border-radius: 0.25em;background-color: #f0f8ff;}#sk-container-id-4 input.sk-toggleable__control:checked~div.sk-toggleable__content {max-height: 200px;max-width: 100%;overflow: auto;}#sk-container-id-4 input.sk-toggleable__control:checked~label.sk-toggleable__label-arrow:before {content: \"▾\";}#sk-container-id-4 div.sk-estimator input.sk-toggleable__control:checked~label.sk-toggleable__label {background-color: #d4ebff;}#sk-container-id-4 div.sk-label input.sk-toggleable__control:checked~label.sk-toggleable__label {background-color: #d4ebff;}#sk-container-id-4 input.sk-hidden--visually {border: 0;clip: rect(1px 1px 1px 1px);clip: rect(1px, 1px, 1px, 1px);height: 1px;margin: -1px;overflow: hidden;padding: 0;position: absolute;width: 1px;}#sk-container-id-4 div.sk-estimator {font-family: monospace;background-color: #f0f8ff;border: 1px dotted black;border-radius: 0.25em;box-sizing: border-box;margin-bottom: 0.5em;}#sk-container-id-4 div.sk-estimator:hover {background-color: #d4ebff;}#sk-container-id-4 div.sk-parallel-item::after {content: \"\";width: 100%;border-bottom: 1px solid gray;flex-grow: 1;}#sk-container-id-4 div.sk-label:hover label.sk-toggleable__label {background-color: #d4ebff;}#sk-container-id-4 div.sk-serial::before {content: \"\";position: absolute;border-left: 1px solid gray;box-sizing: border-box;top: 0;bottom: 0;left: 50%;z-index: 0;}#sk-container-id-4 div.sk-serial {display: flex;flex-direction: column;align-items: center;background-color: white;padding-right: 0.2em;padding-left: 0.2em;position: relative;}#sk-container-id-4 div.sk-item {position: relative;z-index: 1;}#sk-container-id-4 div.sk-parallel {display: flex;align-items: stretch;justify-content: center;background-color: white;position: relative;}#sk-container-id-4 div.sk-item::before, #sk-container-id-4 div.sk-parallel-item::before {content: \"\";position: absolute;border-left: 1px solid gray;box-sizing: border-box;top: 0;bottom: 0;left: 50%;z-index: -1;}#sk-container-id-4 div.sk-parallel-item {display: flex;flex-direction: column;z-index: 1;position: relative;background-color: white;}#sk-container-id-4 div.sk-parallel-item:first-child::after {align-self: flex-end;width: 50%;}#sk-container-id-4 div.sk-parallel-item:last-child::after {align-self: flex-start;width: 50%;}#sk-container-id-4 div.sk-parallel-item:only-child::after {width: 0;}#sk-container-id-4 div.sk-dashed-wrapped {border: 1px dashed gray;margin: 0 0.4em 0.5em 0.4em;box-sizing: border-box;padding-bottom: 0.4em;background-color: white;}#sk-container-id-4 div.sk-label label {font-family: monospace;font-weight: bold;display: inline-block;line-height: 1.2em;}#sk-container-id-4 div.sk-label-container {text-align: center;}#sk-container-id-4 div.sk-container {/* jupyter's `normalize.less` sets `[hidden] { display: none; }` but bootstrap.min.css set `[hidden] { display: none !important; }` so we also need the `!important` here to be able to override the default hidden behavior on the sphinx rendered scikit-learn.org. See: https://github.com/scikit-learn/scikit-learn/issues/21755 */display: inline-block !important;position: relative;}#sk-container-id-4 div.sk-text-repr-fallback {display: none;}</style><div id=\"sk-container-id-4\" class=\"sk-top-container\"><div class=\"sk-text-repr-fallback\"><pre>LogisticRegression(solver=&#x27;liblinear&#x27;)</pre><b>In a Jupyter environment, please rerun this cell to show the HTML representation or trust the notebook. <br />On GitHub, the HTML representation is unable to render, please try loading this page with nbviewer.org.</b></div><div class=\"sk-container\" hidden><div class=\"sk-item\"><div class=\"sk-estimator sk-toggleable\"><input class=\"sk-toggleable__control sk-hidden--visually\" id=\"sk-estimator-id-4\" type=\"checkbox\" checked><label for=\"sk-estimator-id-4\" class=\"sk-toggleable__label sk-toggleable__label-arrow\">LogisticRegression</label><div class=\"sk-toggleable__content\"><pre>LogisticRegression(solver=&#x27;liblinear&#x27;)</pre></div></div></div></div></div>"
      ],
      "text/plain": [
       "LogisticRegression(solver='liblinear')"
      ]
     },
     "execution_count": 29,
     "metadata": {},
     "output_type": "execute_result"
    }
   ],
   "source": [
    "logreg = LogisticRegression(solver='liblinear')\n",
    "logreg.fit(X_train, y_train)"
   ]
  },
  {
   "cell_type": "code",
   "execution_count": 76,
   "id": "cf819c3a-6888-469f-987a-0767aaf42af1",
   "metadata": {},
   "outputs": [
    {
     "name": "stderr",
     "output_type": "stream",
     "text": [
      "C:\\Users\\Usuario\\AppData\\Local\\Programs\\Python\\Python310\\lib\\site-packages\\sklearn\\base.py:450: UserWarning: X does not have valid feature names, but LogisticRegression was fitted with feature names\n",
      "  warnings.warn(\n"
     ]
    },
    {
     "data": {
      "text/plain": [
       "10.98"
      ]
     },
     "execution_count": 76,
     "metadata": {},
     "output_type": "execute_result"
    }
   ],
   "source": [
    "y_pred = logreg.predict([[Edad,Sexo,Peso,Altura]])\n",
    "valores_transformados[valores_transformados['y_transformed']==y_pred[0]]['Result'].unique()[0]"
   ]
  },
  {
   "cell_type": "code",
   "execution_count": 101,
   "id": "bd4d02a9-8246-42a6-a18d-3fdfd174e2db",
   "metadata": {},
   "outputs": [],
   "source": [
    "import tensorflow as tf\n",
    "from numpy import set_printoptions\n",
    "from numpy import argmax\n",
    "from numpy import sqrt\n",
    "from pandas import read_csv\n",
    "from sklearn.model_selection import train_test_split\n",
    "from sklearn.preprocessing import LabelEncoder\n",
    "from tensorflow.keras import Sequential\n",
    "from tensorflow.keras.layers import Dense"
   ]
  },
  {
   "cell_type": "code",
   "execution_count": 125,
   "id": "61a5d38e-363f-4196-932e-fba6b8f8c6f3",
   "metadata": {},
   "outputs": [
    {
     "name": "stdout",
     "output_type": "stream",
     "text": [
      "(121, 4) (14, 4) (121,) (14,)\n"
     ]
    }
   ],
   "source": [
    "Y=train_data['Result']\n",
    "X_train, X_test, y_train, y_test = train_test_split(X, Y, test_size=0.1)\n",
    "print(X_train.shape, X_test.shape, y_train.shape, y_test.shape)\n",
    "n_features=X_train.shape[1]"
   ]
  },
  {
   "cell_type": "code",
   "execution_count": null,
   "id": "48e45ac9-ebef-4d3c-9c6d-37751b11385a",
   "metadata": {},
   "outputs": [],
   "source": []
  },
  {
   "cell_type": "code",
   "execution_count": null,
   "id": "fe8a897e-6786-429a-bf77-5206a684d630",
   "metadata": {},
   "outputs": [],
   "source": []
  },
  {
   "cell_type": "code",
   "execution_count": 135,
   "id": "8c1f3c34-cebe-4bfe-bdbc-0f622a5dc7a1",
   "metadata": {},
   "outputs": [
    {
     "name": "stdout",
     "output_type": "stream",
     "text": [
      "Segun el modelo escogido, el atleta con los datos introducidos hará el siguiente tiempo:\n",
      "Edad:25, Sexo:0, Peso:75, Altura:180, hará un tiempo de 13.00495433807373 segundos\n"
     ]
    }
   ],
   "source": [
    "print(f\"Segun el modelo escogido, el atleta con los datos introducidos hará el siguiente tiempo:\")\n",
    "print(f\"Edad:{Edad}, Sexo:{Sexo}, Peso:{Peso}, Altura:{Altura}, hará un tiempo de {y_pred[0][0]} segundos\")"
   ]
  },
  {
   "cell_type": "code",
   "execution_count": null,
   "id": "15fcd2a3-4239-462f-b482-47bdf340a713",
   "metadata": {},
   "outputs": [],
   "source": []
  },
  {
   "cell_type": "code",
   "execution_count": null,
   "id": "46b6b46f-8fef-4f62-aa99-770de96ba0b2",
   "metadata": {},
   "outputs": [],
   "source": []
  },
  {
   "cell_type": "code",
   "execution_count": null,
   "id": "32b462ea-d8f1-43e0-b760-a3776bc9059f",
   "metadata": {},
   "outputs": [],
   "source": []
  },
  {
   "cell_type": "code",
   "execution_count": null,
   "id": "65c12c06-ddd1-41c2-a44f-5b28b6394445",
   "metadata": {},
   "outputs": [],
   "source": []
  },
  {
   "cell_type": "code",
   "execution_count": null,
   "id": "975ba9d8-6011-4537-8a08-9f2920c70736",
   "metadata": {},
   "outputs": [],
   "source": []
  },
  {
   "cell_type": "code",
   "execution_count": null,
   "id": "94b370d5-d10c-45e4-a971-e9bed0f9fff2",
   "metadata": {},
   "outputs": [],
   "source": []
  },
  {
   "cell_type": "code",
   "execution_count": null,
   "id": "bd03e62c-e6fd-4b88-8ef6-7ab24b75526c",
   "metadata": {},
   "outputs": [],
   "source": []
  },
  {
   "cell_type": "code",
   "execution_count": null,
   "id": "d9eb206f-0a7a-4a1d-8d74-e62efb6d03c2",
   "metadata": {},
   "outputs": [],
   "source": []
  },
  {
   "cell_type": "code",
   "execution_count": null,
   "id": "1355d96c-f4b0-4836-aacd-6b9958e0212f",
   "metadata": {},
   "outputs": [],
   "source": []
  }
 ],
 "metadata": {
  "kernelspec": {
   "display_name": "Python 3 (ipykernel)",
   "language": "python",
   "name": "python3"
  },
  "language_info": {
   "codemirror_mode": {
    "name": "ipython",
    "version": 3
   },
   "file_extension": ".py",
   "mimetype": "text/x-python",
   "name": "python",
   "nbconvert_exporter": "python",
   "pygments_lexer": "ipython3",
   "version": "3.10.8"
  }
 },
 "nbformat": 4,
 "nbformat_minor": 5
}
